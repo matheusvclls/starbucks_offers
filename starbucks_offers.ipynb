{
 "cells": [
  {
   "cell_type": "markdown",
   "metadata": {},
   "source": [
    "<a id='contents'></a>\n",
    "## Table of Contents\n",
    "\n",
    "### [I: Business Understanding](#bus)\n",
    "### [II: Dependencies](#dep)\n",
    "### [III: Data Understanding](#dat)\n",
    "### [IV: Data Wrangling](#datw)\n",
    "  ##### [1. Missing data](#datw1)\n",
    "  ##### [2. Dummy data](#datw2)\n",
    "  ##### [3. Missing data again. After handling dummy values](#datw3)\n",
    "  ##### [4. Data Labelling IDs](#datw4)\n",
    "  ##### [5. Data types](#datw5)\n",
    "  ##### [6. Merge dataframes](#datw6)\n",
    "### [V: Exploratory Analysis](#ea)\n",
    "  ##### [1. Describe on user data](#ea1)\n",
    "  ##### [2. Distribution of User Data by demographics variables](#ea2)\n",
    "  ##### [3. Distribution of Event Data](#ea3)\n",
    "  ##### [4. Distribution of Offer type](#ea4)\n",
    "  ##### [5. Data Processing: Filter only offer received](#ea5)\n",
    "  ##### [6. Distribution of Offers Received by Each Customer](#ea6)\n",
    "  ##### [7. Data Processing: Create columns of success or loss of Offers sent](#ea7)\n",
    "  ##### [8. How many offers were sent out, viewed and completed?](#ea8)\n",
    "  ##### [9. What type of offer has the best rate of completion?](#ea9)\n",
    "  ##### [10. What platform has the best rate of completion?](#ea10)\n",
    "  ##### [11. What offer has the best rate of completion?](#ea11)\n",
    "  ##### [12. Data Processing: Create columns of segmentations of Age and Income](#ea12)\n",
    "  ##### [13. Is there any relationship between demographic variables and rate of completion?](#ea13)\n",
    "### [VI: Build a ML model to predict offer success](#ml)\n",
    "  ##### [1. Data Processing](#ml1)\n",
    "  ##### [2. Modellings](#ml2)\n",
    "  ##### [3. Building the model of ML: pipeline and gridsearch](#ml3)\n",
    "  ##### [4. Evaluating the model](#ml4)\n",
    "  ##### [5. Saving the model](#ml5)\n",
    "  ##### [6. Running all models](#ml6)\n",
    "  ##### [7. Choosing the model](#ml7)\n",
    "  ##### [8. Feature Importance](#ml8)\n",
    "  ##### [9. Probability Offer Success](#ml9)\n",
    "### [VII: Conclusion](#summ)"
   ]
  },
  {
   "cell_type": "markdown",
   "metadata": {},
   "source": [
    "-----------------------------------------------------------------------------------------------------------------------"
   ]
  },
  {
   "cell_type": "markdown",
   "metadata": {},
   "source": [
    "## <a id=\"bus\">I: Business Understanding</a>"
   ]
  },
  {
   "cell_type": "markdown",
   "metadata": {},
   "source": [
    "# Starbucks Capstone Challenge\n",
    "\n",
    "### Introduction\n",
    "\n",
    "This data set contains simulated data that mimics customer behavior on the Starbucks rewards mobile app. Once every few days, Starbucks sends out an offer to users of the mobile app. An offer can be merely an advertisement for a drink or an actual offer such as a discount or BOGO (buy one get one free). Some users might not receive any offer during certain weeks. \n",
    "\n",
    "Not all users receive the same offer, and that is the challenge to solve with this data set.\n",
    "\n",
    "Your task is to combine transaction, demographic and offer data to determine which demographic groups respond best to which offer type. This data set is a simplified version of the real Starbucks app because the underlying simulator only has one product whereas Starbucks actually sells dozens of products.\n",
    "\n",
    "Every offer has a validity period before the offer expires. As an example, a BOGO offer might be valid for only 5 days. You'll see in the data set that informational offers have a validity period even though these ads are merely providing information about a product; for example, if an informational offer has 7 days of validity, you can assume the customer is feeling the influence of the offer for 7 days after receiving the advertisement.\n",
    "\n",
    "You'll be given transactional data showing user purchases made on the app including the timestamp of purchase and the amount of money spent on a purchase. This transactional data also has a record for each offer that a user receives as well as a record for when a user actually views the offer. There are also records for when a user completes an offer. \n",
    "\n",
    "Keep in mind as well that someone using the app might make a purchase through the app without having received an offer or seen an offer.\n",
    "\n",
    "### Example\n",
    "\n",
    "To give an example, a user could receive a discount offer buy 10 dollars get 2 off on Monday. The offer is valid for 10 days from receipt. If the customer accumulates at least 10 dollars in purchases during the validity period, the customer completes the offer.\n",
    "\n",
    "However, there are a few things to watch out for in this data set. Customers do not opt into the offers that they receive; in other words, a user can receive an offer, never actually view the offer, and still complete the offer. For example, a user might receive the \"buy 10 dollars get 2 dollars off offer\", but the user never opens the offer during the 10 day validity period. The customer spends 15 dollars during those ten days. There will be an offer completion record in the data set; however, the customer was not influenced by the offer because the customer never viewed the offer.\n",
    "\n",
    "### Target\n",
    "\n",
    "**For this project I am interestested in building a machine learning model to predict offer success.**"
   ]
  },
  {
   "cell_type": "markdown",
   "metadata": {},
   "source": [
    "<a href='#contents'>**Go to Table of Contents**</a>"
   ]
  },
  {
   "cell_type": "markdown",
   "metadata": {},
   "source": [
    "## <a id=\"dep\">II: Dependencies</a>"
   ]
  },
  {
   "cell_type": "code",
   "execution_count": 1,
   "metadata": {},
   "outputs": [],
   "source": [
    "import pandas as pd\n",
    "import numpy as np\n",
    "import math\n",
    "import json\n",
    "import seaborn as sns\n",
    "%matplotlib inline\n",
    "\n",
    "sns.set()"
   ]
  },
  {
   "cell_type": "markdown",
   "metadata": {},
   "source": [
    "<a href='#contents'>**Go to Table of Contents**</a>"
   ]
  },
  {
   "cell_type": "markdown",
   "metadata": {},
   "source": [
    "## <a id=\"dat\">III: Data Understanding</a>"
   ]
  },
  {
   "cell_type": "markdown",
   "metadata": {},
   "source": [
    "## Data Understanding"
   ]
  },
  {
   "cell_type": "markdown",
   "metadata": {},
   "source": [
    "# Data Sets\n",
    "\n",
    "The data is contained in three files:\n",
    "\n",
    "* portfolio.json - containing offer ids and meta data about each offer (duration, type, etc.)\n",
    "* profile.json - demographic data for each customer\n",
    "* transcript.json - records for transactions, offers received, offers viewed, and offers completed\n",
    "\n",
    "Here is the schema and explanation of each variable in the files:\n",
    "\n",
    "**portfolio.json**\n",
    "* id (string) - offer id\n",
    "* offer_type (string) - type of offer ie BOGO, discount, informational\n",
    "* difficulty (int) - minimum required spend to complete an offer\n",
    "* reward (int) - reward given for completing an offer\n",
    "* duration (int) - time for offer to be open, in days\n",
    "* channels (list of strings)\n",
    "\n",
    "**profile.json**\n",
    "* age (int) - age of the customer \n",
    "* became_member_on (int) - date when customer created an app account\n",
    "* gender (str) - gender of the customer (note some entries contain 'O' for other rather than M or F)\n",
    "* id (str) - customer id\n",
    "* income (float) - customer's income\n",
    "\n",
    "**transcript.json**\n",
    "* event (str) - record description (ie transaction, offer received, offer viewed, etc.)\n",
    "* person (str) - customer id\n",
    "* time (int) - time in hours since start of test. The data begins at time t=0\n",
    "* value - (dict of strings) - either an offer id or transaction amount depending on the record"
   ]
  },
  {
   "cell_type": "markdown",
   "metadata": {},
   "source": [
    "### portfolio"
   ]
  },
  {
   "cell_type": "code",
   "execution_count": 2,
   "metadata": {},
   "outputs": [],
   "source": [
    "# read in the json files\n",
    "portfolio = pd.read_json('data/portfolio.json', orient='records', lines=True)"
   ]
  },
  {
   "cell_type": "code",
   "execution_count": 3,
   "metadata": {
    "scrolled": true
   },
   "outputs": [
    {
     "data": {
      "text/html": [
       "<div>\n",
       "<style scoped>\n",
       "    .dataframe tbody tr th:only-of-type {\n",
       "        vertical-align: middle;\n",
       "    }\n",
       "\n",
       "    .dataframe tbody tr th {\n",
       "        vertical-align: top;\n",
       "    }\n",
       "\n",
       "    .dataframe thead th {\n",
       "        text-align: right;\n",
       "    }\n",
       "</style>\n",
       "<table border=\"1\" class=\"dataframe\">\n",
       "  <thead>\n",
       "    <tr style=\"text-align: right;\">\n",
       "      <th></th>\n",
       "      <th>reward</th>\n",
       "      <th>channels</th>\n",
       "      <th>difficulty</th>\n",
       "      <th>duration</th>\n",
       "      <th>offer_type</th>\n",
       "      <th>id</th>\n",
       "    </tr>\n",
       "  </thead>\n",
       "  <tbody>\n",
       "    <tr>\n",
       "      <th>0</th>\n",
       "      <td>10</td>\n",
       "      <td>[email, mobile, social]</td>\n",
       "      <td>10</td>\n",
       "      <td>7</td>\n",
       "      <td>bogo</td>\n",
       "      <td>ae264e3637204a6fb9bb56bc8210ddfd</td>\n",
       "    </tr>\n",
       "    <tr>\n",
       "      <th>1</th>\n",
       "      <td>10</td>\n",
       "      <td>[web, email, mobile, social]</td>\n",
       "      <td>10</td>\n",
       "      <td>5</td>\n",
       "      <td>bogo</td>\n",
       "      <td>4d5c57ea9a6940dd891ad53e9dbe8da0</td>\n",
       "    </tr>\n",
       "    <tr>\n",
       "      <th>2</th>\n",
       "      <td>0</td>\n",
       "      <td>[web, email, mobile]</td>\n",
       "      <td>0</td>\n",
       "      <td>4</td>\n",
       "      <td>informational</td>\n",
       "      <td>3f207df678b143eea3cee63160fa8bed</td>\n",
       "    </tr>\n",
       "    <tr>\n",
       "      <th>3</th>\n",
       "      <td>5</td>\n",
       "      <td>[web, email, mobile]</td>\n",
       "      <td>5</td>\n",
       "      <td>7</td>\n",
       "      <td>bogo</td>\n",
       "      <td>9b98b8c7a33c4b65b9aebfe6a799e6d9</td>\n",
       "    </tr>\n",
       "    <tr>\n",
       "      <th>4</th>\n",
       "      <td>5</td>\n",
       "      <td>[web, email]</td>\n",
       "      <td>20</td>\n",
       "      <td>10</td>\n",
       "      <td>discount</td>\n",
       "      <td>0b1e1539f2cc45b7b9fa7c272da2e1d7</td>\n",
       "    </tr>\n",
       "    <tr>\n",
       "      <th>5</th>\n",
       "      <td>3</td>\n",
       "      <td>[web, email, mobile, social]</td>\n",
       "      <td>7</td>\n",
       "      <td>7</td>\n",
       "      <td>discount</td>\n",
       "      <td>2298d6c36e964ae4a3e7e9706d1fb8c2</td>\n",
       "    </tr>\n",
       "    <tr>\n",
       "      <th>6</th>\n",
       "      <td>2</td>\n",
       "      <td>[web, email, mobile, social]</td>\n",
       "      <td>10</td>\n",
       "      <td>10</td>\n",
       "      <td>discount</td>\n",
       "      <td>fafdcd668e3743c1bb461111dcafc2a4</td>\n",
       "    </tr>\n",
       "    <tr>\n",
       "      <th>7</th>\n",
       "      <td>0</td>\n",
       "      <td>[email, mobile, social]</td>\n",
       "      <td>0</td>\n",
       "      <td>3</td>\n",
       "      <td>informational</td>\n",
       "      <td>5a8bc65990b245e5a138643cd4eb9837</td>\n",
       "    </tr>\n",
       "    <tr>\n",
       "      <th>8</th>\n",
       "      <td>5</td>\n",
       "      <td>[web, email, mobile, social]</td>\n",
       "      <td>5</td>\n",
       "      <td>5</td>\n",
       "      <td>bogo</td>\n",
       "      <td>f19421c1d4aa40978ebb69ca19b0e20d</td>\n",
       "    </tr>\n",
       "    <tr>\n",
       "      <th>9</th>\n",
       "      <td>2</td>\n",
       "      <td>[web, email, mobile]</td>\n",
       "      <td>10</td>\n",
       "      <td>7</td>\n",
       "      <td>discount</td>\n",
       "      <td>2906b810c7d4411798c6938adc9daaa5</td>\n",
       "    </tr>\n",
       "  </tbody>\n",
       "</table>\n",
       "</div>"
      ],
      "text/plain": [
       "   reward                      channels  difficulty  duration     offer_type  \\\n",
       "0      10       [email, mobile, social]          10         7           bogo   \n",
       "1      10  [web, email, mobile, social]          10         5           bogo   \n",
       "2       0          [web, email, mobile]           0         4  informational   \n",
       "3       5          [web, email, mobile]           5         7           bogo   \n",
       "4       5                  [web, email]          20        10       discount   \n",
       "5       3  [web, email, mobile, social]           7         7       discount   \n",
       "6       2  [web, email, mobile, social]          10        10       discount   \n",
       "7       0       [email, mobile, social]           0         3  informational   \n",
       "8       5  [web, email, mobile, social]           5         5           bogo   \n",
       "9       2          [web, email, mobile]          10         7       discount   \n",
       "\n",
       "                                 id  \n",
       "0  ae264e3637204a6fb9bb56bc8210ddfd  \n",
       "1  4d5c57ea9a6940dd891ad53e9dbe8da0  \n",
       "2  3f207df678b143eea3cee63160fa8bed  \n",
       "3  9b98b8c7a33c4b65b9aebfe6a799e6d9  \n",
       "4  0b1e1539f2cc45b7b9fa7c272da2e1d7  \n",
       "5  2298d6c36e964ae4a3e7e9706d1fb8c2  \n",
       "6  fafdcd668e3743c1bb461111dcafc2a4  \n",
       "7  5a8bc65990b245e5a138643cd4eb9837  \n",
       "8  f19421c1d4aa40978ebb69ca19b0e20d  \n",
       "9  2906b810c7d4411798c6938adc9daaa5  "
      ]
     },
     "execution_count": 3,
     "metadata": {},
     "output_type": "execute_result"
    }
   ],
   "source": [
    "portfolio"
   ]
  },
  {
   "cell_type": "code",
   "execution_count": 4,
   "metadata": {
    "scrolled": true
   },
   "outputs": [
    {
     "data": {
      "text/plain": [
       "(10, 6)"
      ]
     },
     "execution_count": 4,
     "metadata": {},
     "output_type": "execute_result"
    }
   ],
   "source": [
    "portfolio.shape"
   ]
  },
  {
   "cell_type": "code",
   "execution_count": 5,
   "metadata": {},
   "outputs": [
    {
     "data": {
      "text/html": [
       "<div>\n",
       "<style scoped>\n",
       "    .dataframe tbody tr th:only-of-type {\n",
       "        vertical-align: middle;\n",
       "    }\n",
       "\n",
       "    .dataframe tbody tr th {\n",
       "        vertical-align: top;\n",
       "    }\n",
       "\n",
       "    .dataframe thead th {\n",
       "        text-align: right;\n",
       "    }\n",
       "</style>\n",
       "<table border=\"1\" class=\"dataframe\">\n",
       "  <thead>\n",
       "    <tr style=\"text-align: right;\">\n",
       "      <th></th>\n",
       "      <th>reward</th>\n",
       "      <th>difficulty</th>\n",
       "      <th>duration</th>\n",
       "    </tr>\n",
       "  </thead>\n",
       "  <tbody>\n",
       "    <tr>\n",
       "      <th>count</th>\n",
       "      <td>10.000000</td>\n",
       "      <td>10.000000</td>\n",
       "      <td>10.000000</td>\n",
       "    </tr>\n",
       "    <tr>\n",
       "      <th>mean</th>\n",
       "      <td>4.200000</td>\n",
       "      <td>7.700000</td>\n",
       "      <td>6.500000</td>\n",
       "    </tr>\n",
       "    <tr>\n",
       "      <th>std</th>\n",
       "      <td>3.583915</td>\n",
       "      <td>5.831905</td>\n",
       "      <td>2.321398</td>\n",
       "    </tr>\n",
       "    <tr>\n",
       "      <th>min</th>\n",
       "      <td>0.000000</td>\n",
       "      <td>0.000000</td>\n",
       "      <td>3.000000</td>\n",
       "    </tr>\n",
       "    <tr>\n",
       "      <th>25%</th>\n",
       "      <td>2.000000</td>\n",
       "      <td>5.000000</td>\n",
       "      <td>5.000000</td>\n",
       "    </tr>\n",
       "    <tr>\n",
       "      <th>50%</th>\n",
       "      <td>4.000000</td>\n",
       "      <td>8.500000</td>\n",
       "      <td>7.000000</td>\n",
       "    </tr>\n",
       "    <tr>\n",
       "      <th>75%</th>\n",
       "      <td>5.000000</td>\n",
       "      <td>10.000000</td>\n",
       "      <td>7.000000</td>\n",
       "    </tr>\n",
       "    <tr>\n",
       "      <th>max</th>\n",
       "      <td>10.000000</td>\n",
       "      <td>20.000000</td>\n",
       "      <td>10.000000</td>\n",
       "    </tr>\n",
       "  </tbody>\n",
       "</table>\n",
       "</div>"
      ],
      "text/plain": [
       "          reward  difficulty   duration\n",
       "count  10.000000   10.000000  10.000000\n",
       "mean    4.200000    7.700000   6.500000\n",
       "std     3.583915    5.831905   2.321398\n",
       "min     0.000000    0.000000   3.000000\n",
       "25%     2.000000    5.000000   5.000000\n",
       "50%     4.000000    8.500000   7.000000\n",
       "75%     5.000000   10.000000   7.000000\n",
       "max    10.000000   20.000000  10.000000"
      ]
     },
     "execution_count": 5,
     "metadata": {},
     "output_type": "execute_result"
    }
   ],
   "source": [
    "portfolio.describe()"
   ]
  },
  {
   "cell_type": "code",
   "execution_count": 6,
   "metadata": {
    "scrolled": true
   },
   "outputs": [
    {
     "name": "stdout",
     "output_type": "stream",
     "text": [
      "<class 'pandas.core.frame.DataFrame'>\n",
      "RangeIndex: 10 entries, 0 to 9\n",
      "Data columns (total 6 columns):\n",
      " #   Column      Non-Null Count  Dtype \n",
      "---  ------      --------------  ----- \n",
      " 0   reward      10 non-null     int64 \n",
      " 1   channels    10 non-null     object\n",
      " 2   difficulty  10 non-null     int64 \n",
      " 3   duration    10 non-null     int64 \n",
      " 4   offer_type  10 non-null     object\n",
      " 5   id          10 non-null     object\n",
      "dtypes: int64(3), object(3)\n",
      "memory usage: 608.0+ bytes\n"
     ]
    }
   ],
   "source": [
    "portfolio.info()"
   ]
  },
  {
   "cell_type": "code",
   "execution_count": 7,
   "metadata": {
    "scrolled": true
   },
   "outputs": [
    {
     "data": {
      "text/plain": [
       "True"
      ]
     },
     "execution_count": 7,
     "metadata": {},
     "output_type": "execute_result"
    }
   ],
   "source": [
    "portfolio.id.is_unique"
   ]
  },
  {
   "cell_type": "markdown",
   "metadata": {},
   "source": [
    "The portfolio has the column id with unique values, which is the type of offer.\n",
    "\n",
    "The dataframe has no missing values. But, the column channels has a list of variables, it will have to be treated. After treatment, it will become in binary values."
   ]
  },
  {
   "cell_type": "markdown",
   "metadata": {},
   "source": [
    "### profile"
   ]
  },
  {
   "cell_type": "code",
   "execution_count": 8,
   "metadata": {},
   "outputs": [],
   "source": [
    "profile = pd.read_json('data/profile.json', orient='records', lines=True)"
   ]
  },
  {
   "cell_type": "code",
   "execution_count": 9,
   "metadata": {},
   "outputs": [
    {
     "data": {
      "text/html": [
       "<div>\n",
       "<style scoped>\n",
       "    .dataframe tbody tr th:only-of-type {\n",
       "        vertical-align: middle;\n",
       "    }\n",
       "\n",
       "    .dataframe tbody tr th {\n",
       "        vertical-align: top;\n",
       "    }\n",
       "\n",
       "    .dataframe thead th {\n",
       "        text-align: right;\n",
       "    }\n",
       "</style>\n",
       "<table border=\"1\" class=\"dataframe\">\n",
       "  <thead>\n",
       "    <tr style=\"text-align: right;\">\n",
       "      <th></th>\n",
       "      <th>gender</th>\n",
       "      <th>age</th>\n",
       "      <th>id</th>\n",
       "      <th>became_member_on</th>\n",
       "      <th>income</th>\n",
       "    </tr>\n",
       "  </thead>\n",
       "  <tbody>\n",
       "    <tr>\n",
       "      <th>0</th>\n",
       "      <td>None</td>\n",
       "      <td>118</td>\n",
       "      <td>68be06ca386d4c31939f3a4f0e3dd783</td>\n",
       "      <td>20170212</td>\n",
       "      <td>NaN</td>\n",
       "    </tr>\n",
       "    <tr>\n",
       "      <th>1</th>\n",
       "      <td>F</td>\n",
       "      <td>55</td>\n",
       "      <td>0610b486422d4921ae7d2bf64640c50b</td>\n",
       "      <td>20170715</td>\n",
       "      <td>112000.0</td>\n",
       "    </tr>\n",
       "    <tr>\n",
       "      <th>2</th>\n",
       "      <td>None</td>\n",
       "      <td>118</td>\n",
       "      <td>38fe809add3b4fcf9315a9694bb96ff5</td>\n",
       "      <td>20180712</td>\n",
       "      <td>NaN</td>\n",
       "    </tr>\n",
       "    <tr>\n",
       "      <th>3</th>\n",
       "      <td>F</td>\n",
       "      <td>75</td>\n",
       "      <td>78afa995795e4d85b5d9ceeca43f5fef</td>\n",
       "      <td>20170509</td>\n",
       "      <td>100000.0</td>\n",
       "    </tr>\n",
       "    <tr>\n",
       "      <th>4</th>\n",
       "      <td>None</td>\n",
       "      <td>118</td>\n",
       "      <td>a03223e636434f42ac4c3df47e8bac43</td>\n",
       "      <td>20170804</td>\n",
       "      <td>NaN</td>\n",
       "    </tr>\n",
       "  </tbody>\n",
       "</table>\n",
       "</div>"
      ],
      "text/plain": [
       "  gender  age                                id  became_member_on    income\n",
       "0   None  118  68be06ca386d4c31939f3a4f0e3dd783          20170212       NaN\n",
       "1      F   55  0610b486422d4921ae7d2bf64640c50b          20170715  112000.0\n",
       "2   None  118  38fe809add3b4fcf9315a9694bb96ff5          20180712       NaN\n",
       "3      F   75  78afa995795e4d85b5d9ceeca43f5fef          20170509  100000.0\n",
       "4   None  118  a03223e636434f42ac4c3df47e8bac43          20170804       NaN"
      ]
     },
     "execution_count": 9,
     "metadata": {},
     "output_type": "execute_result"
    }
   ],
   "source": [
    "profile.head()"
   ]
  },
  {
   "cell_type": "code",
   "execution_count": 10,
   "metadata": {},
   "outputs": [
    {
     "data": {
      "text/plain": [
       "(17000, 5)"
      ]
     },
     "execution_count": 10,
     "metadata": {},
     "output_type": "execute_result"
    }
   ],
   "source": [
    "profile.shape"
   ]
  },
  {
   "cell_type": "code",
   "execution_count": 11,
   "metadata": {
    "scrolled": false
   },
   "outputs": [
    {
     "data": {
      "text/html": [
       "<div>\n",
       "<style scoped>\n",
       "    .dataframe tbody tr th:only-of-type {\n",
       "        vertical-align: middle;\n",
       "    }\n",
       "\n",
       "    .dataframe tbody tr th {\n",
       "        vertical-align: top;\n",
       "    }\n",
       "\n",
       "    .dataframe thead th {\n",
       "        text-align: right;\n",
       "    }\n",
       "</style>\n",
       "<table border=\"1\" class=\"dataframe\">\n",
       "  <thead>\n",
       "    <tr style=\"text-align: right;\">\n",
       "      <th></th>\n",
       "      <th>age</th>\n",
       "      <th>became_member_on</th>\n",
       "      <th>income</th>\n",
       "    </tr>\n",
       "  </thead>\n",
       "  <tbody>\n",
       "    <tr>\n",
       "      <th>count</th>\n",
       "      <td>17000.000000</td>\n",
       "      <td>1.700000e+04</td>\n",
       "      <td>14825.000000</td>\n",
       "    </tr>\n",
       "    <tr>\n",
       "      <th>mean</th>\n",
       "      <td>62.531412</td>\n",
       "      <td>2.016703e+07</td>\n",
       "      <td>65404.991568</td>\n",
       "    </tr>\n",
       "    <tr>\n",
       "      <th>std</th>\n",
       "      <td>26.738580</td>\n",
       "      <td>1.167750e+04</td>\n",
       "      <td>21598.299410</td>\n",
       "    </tr>\n",
       "    <tr>\n",
       "      <th>min</th>\n",
       "      <td>18.000000</td>\n",
       "      <td>2.013073e+07</td>\n",
       "      <td>30000.000000</td>\n",
       "    </tr>\n",
       "    <tr>\n",
       "      <th>25%</th>\n",
       "      <td>45.000000</td>\n",
       "      <td>2.016053e+07</td>\n",
       "      <td>49000.000000</td>\n",
       "    </tr>\n",
       "    <tr>\n",
       "      <th>50%</th>\n",
       "      <td>58.000000</td>\n",
       "      <td>2.017080e+07</td>\n",
       "      <td>64000.000000</td>\n",
       "    </tr>\n",
       "    <tr>\n",
       "      <th>75%</th>\n",
       "      <td>73.000000</td>\n",
       "      <td>2.017123e+07</td>\n",
       "      <td>80000.000000</td>\n",
       "    </tr>\n",
       "    <tr>\n",
       "      <th>max</th>\n",
       "      <td>118.000000</td>\n",
       "      <td>2.018073e+07</td>\n",
       "      <td>120000.000000</td>\n",
       "    </tr>\n",
       "  </tbody>\n",
       "</table>\n",
       "</div>"
      ],
      "text/plain": [
       "                age  became_member_on         income\n",
       "count  17000.000000      1.700000e+04   14825.000000\n",
       "mean      62.531412      2.016703e+07   65404.991568\n",
       "std       26.738580      1.167750e+04   21598.299410\n",
       "min       18.000000      2.013073e+07   30000.000000\n",
       "25%       45.000000      2.016053e+07   49000.000000\n",
       "50%       58.000000      2.017080e+07   64000.000000\n",
       "75%       73.000000      2.017123e+07   80000.000000\n",
       "max      118.000000      2.018073e+07  120000.000000"
      ]
     },
     "execution_count": 11,
     "metadata": {},
     "output_type": "execute_result"
    }
   ],
   "source": [
    "profile.describe()"
   ]
  },
  {
   "cell_type": "code",
   "execution_count": 12,
   "metadata": {
    "scrolled": true
   },
   "outputs": [
    {
     "name": "stdout",
     "output_type": "stream",
     "text": [
      "<class 'pandas.core.frame.DataFrame'>\n",
      "RangeIndex: 17000 entries, 0 to 16999\n",
      "Data columns (total 5 columns):\n",
      " #   Column            Non-Null Count  Dtype  \n",
      "---  ------            --------------  -----  \n",
      " 0   gender            14825 non-null  object \n",
      " 1   age               17000 non-null  int64  \n",
      " 2   id                17000 non-null  object \n",
      " 3   became_member_on  17000 non-null  int64  \n",
      " 4   income            14825 non-null  float64\n",
      "dtypes: float64(1), int64(2), object(2)\n",
      "memory usage: 664.2+ KB\n"
     ]
    }
   ],
   "source": [
    "profile.info()"
   ]
  },
  {
   "cell_type": "code",
   "execution_count": 13,
   "metadata": {},
   "outputs": [
    {
     "data": {
      "text/plain": [
       "True"
      ]
     },
     "execution_count": 13,
     "metadata": {},
     "output_type": "execute_result"
    }
   ],
   "source": [
    "profile.id.is_unique"
   ]
  },
  {
   "cell_type": "markdown",
   "metadata": {},
   "source": [
    "The profile has the column **id with unique values**, which is the user id.\n",
    "\n",
    "The dataframe has missing values in **gender** and **income**, that that need to be analysed."
   ]
  },
  {
   "cell_type": "markdown",
   "metadata": {},
   "source": [
    "### transcript"
   ]
  },
  {
   "cell_type": "code",
   "execution_count": 14,
   "metadata": {},
   "outputs": [],
   "source": [
    "transcript = pd.read_json('data/transcript.json', orient='records', lines=True)"
   ]
  },
  {
   "cell_type": "code",
   "execution_count": 15,
   "metadata": {},
   "outputs": [
    {
     "data": {
      "text/html": [
       "<div>\n",
       "<style scoped>\n",
       "    .dataframe tbody tr th:only-of-type {\n",
       "        vertical-align: middle;\n",
       "    }\n",
       "\n",
       "    .dataframe tbody tr th {\n",
       "        vertical-align: top;\n",
       "    }\n",
       "\n",
       "    .dataframe thead th {\n",
       "        text-align: right;\n",
       "    }\n",
       "</style>\n",
       "<table border=\"1\" class=\"dataframe\">\n",
       "  <thead>\n",
       "    <tr style=\"text-align: right;\">\n",
       "      <th></th>\n",
       "      <th>person</th>\n",
       "      <th>event</th>\n",
       "      <th>value</th>\n",
       "      <th>time</th>\n",
       "    </tr>\n",
       "  </thead>\n",
       "  <tbody>\n",
       "    <tr>\n",
       "      <th>0</th>\n",
       "      <td>78afa995795e4d85b5d9ceeca43f5fef</td>\n",
       "      <td>offer received</td>\n",
       "      <td>{'offer id': '9b98b8c7a33c4b65b9aebfe6a799e6d9'}</td>\n",
       "      <td>0</td>\n",
       "    </tr>\n",
       "    <tr>\n",
       "      <th>1</th>\n",
       "      <td>a03223e636434f42ac4c3df47e8bac43</td>\n",
       "      <td>offer received</td>\n",
       "      <td>{'offer id': '0b1e1539f2cc45b7b9fa7c272da2e1d7'}</td>\n",
       "      <td>0</td>\n",
       "    </tr>\n",
       "    <tr>\n",
       "      <th>2</th>\n",
       "      <td>e2127556f4f64592b11af22de27a7932</td>\n",
       "      <td>offer received</td>\n",
       "      <td>{'offer id': '2906b810c7d4411798c6938adc9daaa5'}</td>\n",
       "      <td>0</td>\n",
       "    </tr>\n",
       "    <tr>\n",
       "      <th>3</th>\n",
       "      <td>8ec6ce2a7e7949b1bf142def7d0e0586</td>\n",
       "      <td>offer received</td>\n",
       "      <td>{'offer id': 'fafdcd668e3743c1bb461111dcafc2a4'}</td>\n",
       "      <td>0</td>\n",
       "    </tr>\n",
       "    <tr>\n",
       "      <th>4</th>\n",
       "      <td>68617ca6246f4fbc85e91a2a49552598</td>\n",
       "      <td>offer received</td>\n",
       "      <td>{'offer id': '4d5c57ea9a6940dd891ad53e9dbe8da0'}</td>\n",
       "      <td>0</td>\n",
       "    </tr>\n",
       "  </tbody>\n",
       "</table>\n",
       "</div>"
      ],
      "text/plain": [
       "                             person           event  \\\n",
       "0  78afa995795e4d85b5d9ceeca43f5fef  offer received   \n",
       "1  a03223e636434f42ac4c3df47e8bac43  offer received   \n",
       "2  e2127556f4f64592b11af22de27a7932  offer received   \n",
       "3  8ec6ce2a7e7949b1bf142def7d0e0586  offer received   \n",
       "4  68617ca6246f4fbc85e91a2a49552598  offer received   \n",
       "\n",
       "                                              value  time  \n",
       "0  {'offer id': '9b98b8c7a33c4b65b9aebfe6a799e6d9'}     0  \n",
       "1  {'offer id': '0b1e1539f2cc45b7b9fa7c272da2e1d7'}     0  \n",
       "2  {'offer id': '2906b810c7d4411798c6938adc9daaa5'}     0  \n",
       "3  {'offer id': 'fafdcd668e3743c1bb461111dcafc2a4'}     0  \n",
       "4  {'offer id': '4d5c57ea9a6940dd891ad53e9dbe8da0'}     0  "
      ]
     },
     "execution_count": 15,
     "metadata": {},
     "output_type": "execute_result"
    }
   ],
   "source": [
    "transcript.head()"
   ]
  },
  {
   "cell_type": "code",
   "execution_count": 16,
   "metadata": {},
   "outputs": [
    {
     "data": {
      "text/plain": [
       "(306534, 4)"
      ]
     },
     "execution_count": 16,
     "metadata": {},
     "output_type": "execute_result"
    }
   ],
   "source": [
    "transcript.shape"
   ]
  },
  {
   "cell_type": "code",
   "execution_count": 17,
   "metadata": {},
   "outputs": [
    {
     "data": {
      "text/html": [
       "<div>\n",
       "<style scoped>\n",
       "    .dataframe tbody tr th:only-of-type {\n",
       "        vertical-align: middle;\n",
       "    }\n",
       "\n",
       "    .dataframe tbody tr th {\n",
       "        vertical-align: top;\n",
       "    }\n",
       "\n",
       "    .dataframe thead th {\n",
       "        text-align: right;\n",
       "    }\n",
       "</style>\n",
       "<table border=\"1\" class=\"dataframe\">\n",
       "  <thead>\n",
       "    <tr style=\"text-align: right;\">\n",
       "      <th></th>\n",
       "      <th>time</th>\n",
       "    </tr>\n",
       "  </thead>\n",
       "  <tbody>\n",
       "    <tr>\n",
       "      <th>count</th>\n",
       "      <td>306534.000000</td>\n",
       "    </tr>\n",
       "    <tr>\n",
       "      <th>mean</th>\n",
       "      <td>366.382940</td>\n",
       "    </tr>\n",
       "    <tr>\n",
       "      <th>std</th>\n",
       "      <td>200.326314</td>\n",
       "    </tr>\n",
       "    <tr>\n",
       "      <th>min</th>\n",
       "      <td>0.000000</td>\n",
       "    </tr>\n",
       "    <tr>\n",
       "      <th>25%</th>\n",
       "      <td>186.000000</td>\n",
       "    </tr>\n",
       "    <tr>\n",
       "      <th>50%</th>\n",
       "      <td>408.000000</td>\n",
       "    </tr>\n",
       "    <tr>\n",
       "      <th>75%</th>\n",
       "      <td>528.000000</td>\n",
       "    </tr>\n",
       "    <tr>\n",
       "      <th>max</th>\n",
       "      <td>714.000000</td>\n",
       "    </tr>\n",
       "  </tbody>\n",
       "</table>\n",
       "</div>"
      ],
      "text/plain": [
       "                time\n",
       "count  306534.000000\n",
       "mean      366.382940\n",
       "std       200.326314\n",
       "min         0.000000\n",
       "25%       186.000000\n",
       "50%       408.000000\n",
       "75%       528.000000\n",
       "max       714.000000"
      ]
     },
     "execution_count": 17,
     "metadata": {},
     "output_type": "execute_result"
    }
   ],
   "source": [
    "transcript.describe()"
   ]
  },
  {
   "cell_type": "code",
   "execution_count": 18,
   "metadata": {
    "scrolled": false
   },
   "outputs": [
    {
     "name": "stdout",
     "output_type": "stream",
     "text": [
      "<class 'pandas.core.frame.DataFrame'>\n",
      "RangeIndex: 306534 entries, 0 to 306533\n",
      "Data columns (total 4 columns):\n",
      " #   Column  Non-Null Count   Dtype \n",
      "---  ------  --------------   ----- \n",
      " 0   person  306534 non-null  object\n",
      " 1   event   306534 non-null  object\n",
      " 2   value   306534 non-null  object\n",
      " 3   time    306534 non-null  int64 \n",
      "dtypes: int64(1), object(3)\n",
      "memory usage: 9.4+ MB\n"
     ]
    }
   ],
   "source": [
    "transcript.info()"
   ]
  },
  {
   "cell_type": "markdown",
   "metadata": {},
   "source": [
    "The **transcript is the fact table**. Because of this, it doesn't have an ID column.\n",
    "\n",
    "The dataframe has **no missing values**. But there is a column with dictionaries, which will be treated."
   ]
  },
  {
   "cell_type": "markdown",
   "metadata": {},
   "source": [
    "<a href='#contents'>**Go to Table of Contents**</a>"
   ]
  },
  {
   "cell_type": "markdown",
   "metadata": {},
   "source": [
    "## <a id=\"datw\">IV: Data Wrangling</a>"
   ]
  },
  {
   "cell_type": "markdown",
   "metadata": {},
   "source": [
    "### <a id=\"datw1\">1. Missing data</a>"
   ]
  },
  {
   "cell_type": "code",
   "execution_count": 19,
   "metadata": {},
   "outputs": [],
   "source": [
    "all_dfs = [profile]"
   ]
  },
  {
   "cell_type": "code",
   "execution_count": 20,
   "metadata": {},
   "outputs": [],
   "source": [
    "def show_missing_values(dfs):\n",
    "    \n",
    "    '''\n",
    "    Get the number and percent of null values of all dataframes.\n",
    "    \n",
    "    INPUT: \n",
    "    dfs: list of dataframes\n",
    "    \n",
    "    OUTPUT: \n",
    "    None\n",
    "    '''\n",
    "    \n",
    "    for df in dfs:\n",
    "        df_null_values = df.isnull().sum().reset_index()\n",
    "        \n",
    "        df_null_values.columns = ['column', 'n_missing_values']\n",
    "        \n",
    "        df_null_values['pct_missing'] = np.round(100 * df_null_values.n_missing_values / df.shape[0], 2)\n",
    "        \n",
    "        print(df_null_values)\n",
    "        print('\\n')"
   ]
  },
  {
   "cell_type": "code",
   "execution_count": 21,
   "metadata": {
    "scrolled": false
   },
   "outputs": [
    {
     "name": "stdout",
     "output_type": "stream",
     "text": [
      "             column  n_missing_values  pct_missing\n",
      "0            gender              2175        12.79\n",
      "1               age                 0         0.00\n",
      "2                id                 0         0.00\n",
      "3  became_member_on                 0         0.00\n",
      "4            income              2175        12.79\n",
      "\n",
      "\n"
     ]
    }
   ],
   "source": [
    "show_missing_values(all_dfs)"
   ]
  },
  {
   "cell_type": "markdown",
   "metadata": {},
   "source": [
    "As the table above shows, the **gender and income have 12.79% of null values**. Still it is a high percentage of data. We can not keep them in the dataframe, and even input wrong values.\n",
    "\n",
    "Considering profile is a dimension table, the handling must be in fact table too, called transcript. So, in the notebook below, they are removed.\n",
    "\n",
    "First, in fact table, after in dimension.\n"
   ]
  },
  {
   "cell_type": "code",
   "execution_count": 22,
   "metadata": {},
   "outputs": [],
   "source": [
    "def remove_events_related_missing(df_dimension, column_id_dimension, column_null_values_dimension, df_fact, column_id_fact):\n",
    "    '''\n",
    "    Remove rows of the fact table that are null in dimension table.\n",
    "    For example: if you have a missing value in a fact table, probably you have to remove in a table fact \n",
    "    (events of these users).\n",
    "    This function is useful for situation.\n",
    "    \n",
    "    INPUT:\n",
    "    df_dimension: dataframe pandas\n",
    "    column_id_dimension: the id column of dimension\n",
    "    column_null_values_dimension: search the missing values\n",
    "    df_fact: df_fact that have to remove the ids with missing values\n",
    "    column_id_fact: column to join with column_id_dimension\n",
    "    \n",
    "    OUTPUT:\n",
    "    df_fact cleans\n",
    "    '''\n",
    "    # get number of total rows (initial df_fact)\n",
    "    number_of_rows_previous_df = df_fact.shape[0]\n",
    "    \n",
    "    # get null values of column_null_values_dimension. return column_id_dimension with null values\n",
    "    id_missing_dimension = df_dimension[df_dimension[column_null_values_dimension].isnull()][column_id_dimension].values \n",
    "    \n",
    "    # search by the user. and, get index to drop of events of them\n",
    "    related_fact_missing = df_fact[df_fact[column_id_fact].isin(id_missing_dimension)].index.values \n",
    "\n",
    "    \n",
    "    df_fact.drop(related_fact_missing, inplace=True) # drop events based on index, faster way\n",
    "\n",
    "    number_of_rows_current_df = df_fact.shape[0]\n",
    "    number_of_rows_removed = number_of_rows_previous_df-number_of_rows_current_df\n",
    "    \n",
    "    print('Number of removed rows {:,}'.format(number_of_rows_removed))\n",
    "    percent_removed_rows = number_of_rows_removed/number_of_rows_previous_df\n",
    "    print('Percent of removed rows {:,.2f}%'.format(percent_removed_rows*100))   \n",
    "    print('\\nShape: {}'.format(df_fact.shape))\n",
    "    \n",
    "    return df_fact"
   ]
  },
  {
   "cell_type": "code",
   "execution_count": 23,
   "metadata": {},
   "outputs": [
    {
     "name": "stdout",
     "output_type": "stream",
     "text": [
      "Number of removed rows 33,772\n",
      "Percent of removed rows 11.02%\n",
      "\n",
      "Shape: (272762, 4)\n"
     ]
    }
   ],
   "source": [
    "transcript = remove_events_related_missing(profile, 'id', 'gender', transcript, 'person')"
   ]
  },
  {
   "cell_type": "markdown",
   "metadata": {},
   "source": [
    "The number of rows removed in fact table is near of the missing values in the dimension table."
   ]
  },
  {
   "cell_type": "code",
   "execution_count": 24,
   "metadata": {},
   "outputs": [],
   "source": [
    "def remove_null_values(df, columns):\n",
    "    '''\n",
    "    Remove rows of dataframe that are null, with the columns specified. Print how the dataframe is after cleaning, showing\n",
    "    the dataset, remaining columns with null values and count of them, finally the number of removed rows.\n",
    "    \n",
    "    INPUT:\n",
    "    df: dataframe pandas\n",
    "    columns (list): the columns that can't have null values. These columns are used as subset on dropna method.\n",
    "    \n",
    "    OUTPUT:\n",
    "    df pandas cleans\n",
    "    '''\n",
    "    \n",
    "    print('Remove null values...')\n",
    "    df_without_null_values = df.dropna(subset=columns,axis=0)\n",
    "    \n",
    "    print('Columns with null values: \\n{}\\n'.format(list(df.columns[df_without_null_values.isnull().sum()>0])))\n",
    "    print('Count of null values per column: \\n {}\\n '.format(np.sum(df_without_null_values.isnull())))\n",
    "    \n",
    "    number_of_rows_previous_df = df.shape[0]\n",
    "    number_of_rows_current_df = df_without_null_values.shape[0]\n",
    "    \n",
    "    number_of_rows_removed = number_of_rows_previous_df-number_of_rows_current_df\n",
    "    \n",
    "    print('Number of removed rows {:,}'.format(number_of_rows_removed))\n",
    "\n",
    "    percent_removed_rows = (number_of_rows_previous_df-number_of_rows_current_df)/number_of_rows_previous_df\n",
    "    print('Percent of removed rows {:,.2f}%'.format(percent_removed_rows*100))\n",
    "    \n",
    "    print('\\nShape: {}'.format(df_without_null_values.shape))\n",
    "    \n",
    "    return df_without_null_values"
   ]
  },
  {
   "cell_type": "code",
   "execution_count": 25,
   "metadata": {
    "scrolled": false
   },
   "outputs": [
    {
     "name": "stdout",
     "output_type": "stream",
     "text": [
      "Remove null values...\n",
      "Columns with null values: \n",
      "[]\n",
      "\n",
      "Count of null values per column: \n",
      " gender              0\n",
      "age                 0\n",
      "id                  0\n",
      "became_member_on    0\n",
      "income              0\n",
      "dtype: int64\n",
      " \n",
      "Number of removed rows 2,175\n",
      "Percent of removed rows 12.79%\n",
      "\n",
      "Shape: (14825, 5)\n"
     ]
    }
   ],
   "source": [
    "profile = remove_null_values(profile, ['income', 'gender'])"
   ]
  },
  {
   "cell_type": "markdown",
   "metadata": {},
   "source": [
    "With the table above, all null values in gender is in income too. It's a good news, because less registers are lost."
   ]
  },
  {
   "cell_type": "markdown",
   "metadata": {},
   "source": [
    "<a href='#contents'>**Go to Table of Contents**</a>"
   ]
  },
  {
   "cell_type": "markdown",
   "metadata": {},
   "source": [
    "### <a id=\"datw2\">2. Dummy data</a>"
   ]
  },
  {
   "cell_type": "markdown",
   "metadata": {},
   "source": [
    "According with the exploratory analisys, the column channels of portfolio data and the column value of transcript dataframe."
   ]
  },
  {
   "cell_type": "code",
   "execution_count": 26,
   "metadata": {},
   "outputs": [],
   "source": [
    "def get_list_of_dummies_in_column(df, column):\n",
    "    '''\n",
    "    Get dumies of columns with a list. Remove the old column, with list of dummies variables.\n",
    "    \n",
    "    INPUT: \n",
    "    df (dataframe pandas) df with dummies variables\n",
    "    column (str) column with dummies variables\n",
    "    \n",
    "    Output: \n",
    "    df (dataframe pandas) df treated\n",
    "    '''\n",
    "    \n",
    "    dummies_variables = df[column].str.join('|').str.get_dummies()\n",
    "    df = df.join(dummies_variables)\n",
    "    df = df.drop([column], axis=1)\n",
    "    return df"
   ]
  },
  {
   "cell_type": "code",
   "execution_count": 27,
   "metadata": {
    "scrolled": true
   },
   "outputs": [
    {
     "data": {
      "text/html": [
       "<div>\n",
       "<style scoped>\n",
       "    .dataframe tbody tr th:only-of-type {\n",
       "        vertical-align: middle;\n",
       "    }\n",
       "\n",
       "    .dataframe tbody tr th {\n",
       "        vertical-align: top;\n",
       "    }\n",
       "\n",
       "    .dataframe thead th {\n",
       "        text-align: right;\n",
       "    }\n",
       "</style>\n",
       "<table border=\"1\" class=\"dataframe\">\n",
       "  <thead>\n",
       "    <tr style=\"text-align: right;\">\n",
       "      <th></th>\n",
       "      <th>reward</th>\n",
       "      <th>difficulty</th>\n",
       "      <th>duration</th>\n",
       "      <th>offer_type</th>\n",
       "      <th>id</th>\n",
       "      <th>email</th>\n",
       "      <th>mobile</th>\n",
       "      <th>social</th>\n",
       "      <th>web</th>\n",
       "    </tr>\n",
       "  </thead>\n",
       "  <tbody>\n",
       "    <tr>\n",
       "      <th>0</th>\n",
       "      <td>10</td>\n",
       "      <td>10</td>\n",
       "      <td>7</td>\n",
       "      <td>bogo</td>\n",
       "      <td>ae264e3637204a6fb9bb56bc8210ddfd</td>\n",
       "      <td>1</td>\n",
       "      <td>1</td>\n",
       "      <td>1</td>\n",
       "      <td>0</td>\n",
       "    </tr>\n",
       "    <tr>\n",
       "      <th>1</th>\n",
       "      <td>10</td>\n",
       "      <td>10</td>\n",
       "      <td>5</td>\n",
       "      <td>bogo</td>\n",
       "      <td>4d5c57ea9a6940dd891ad53e9dbe8da0</td>\n",
       "      <td>1</td>\n",
       "      <td>1</td>\n",
       "      <td>1</td>\n",
       "      <td>1</td>\n",
       "    </tr>\n",
       "    <tr>\n",
       "      <th>2</th>\n",
       "      <td>0</td>\n",
       "      <td>0</td>\n",
       "      <td>4</td>\n",
       "      <td>informational</td>\n",
       "      <td>3f207df678b143eea3cee63160fa8bed</td>\n",
       "      <td>1</td>\n",
       "      <td>1</td>\n",
       "      <td>0</td>\n",
       "      <td>1</td>\n",
       "    </tr>\n",
       "  </tbody>\n",
       "</table>\n",
       "</div>"
      ],
      "text/plain": [
       "   reward  difficulty  duration     offer_type  \\\n",
       "0      10          10         7           bogo   \n",
       "1      10          10         5           bogo   \n",
       "2       0           0         4  informational   \n",
       "\n",
       "                                 id  email  mobile  social  web  \n",
       "0  ae264e3637204a6fb9bb56bc8210ddfd      1       1       1    0  \n",
       "1  4d5c57ea9a6940dd891ad53e9dbe8da0      1       1       1    1  \n",
       "2  3f207df678b143eea3cee63160fa8bed      1       1       0    1  "
      ]
     },
     "execution_count": 27,
     "metadata": {},
     "output_type": "execute_result"
    }
   ],
   "source": [
    "portfolio = get_list_of_dummies_in_column(portfolio, 'channels')\n",
    "portfolio.head(3)"
   ]
  },
  {
   "cell_type": "code",
   "execution_count": 28,
   "metadata": {},
   "outputs": [],
   "source": [
    "def get_keys(df, column):\n",
    "    '''\n",
    "    Get unique keys of a dict, that is in a dataframe pandas.\n",
    "    \n",
    "    INPUT: \n",
    "    df (dataframe pandas) df with dictionaries\n",
    "    column (str) column with dictionaries\n",
    "    \n",
    "    OUTPUT: \n",
    "    dictionary with unique values\n",
    "    '''    \n",
    "    l = []\n",
    "    \n",
    "    for i in df[column]:\n",
    "        \n",
    "        for key in i.keys():\n",
    "            key_string = key\n",
    "            l.append(key_string)\n",
    "           \n",
    "    unique_keys = set(l)\n",
    "    #print(unique_keys)\n",
    "    \n",
    "    return unique_keys"
   ]
  },
  {
   "cell_type": "code",
   "execution_count": 29,
   "metadata": {},
   "outputs": [],
   "source": [
    "unique_keys = get_keys(transcript, 'value')"
   ]
  },
  {
   "cell_type": "code",
   "execution_count": 30,
   "metadata": {},
   "outputs": [],
   "source": [
    "def create_columns_and_input_values(df, unique_keys, old_column):\n",
    "    '''\n",
    "    Parse a column with dict in a dataframe pandas. Treat the column with dicts, and transform them in columns. Drop old column\n",
    "    in the end.\n",
    "    \n",
    "    INPUT: \n",
    "    df (dataframe pandas) - with dictionaries\n",
    "    old_column (str) - fill with dictionaries\n",
    "    unique_keys (dict) - uniques values, create the columns\n",
    "    \n",
    "    OUTPUT: \n",
    "    df dictionary with unique values  \n",
    "    '''  \n",
    "    for key in unique_keys:\n",
    "        \n",
    "        if ' ' not in key: # to skip duplicate key with space. ex.: 'offer id'\n",
    "            \n",
    "            df[key] = df[old_column].apply(lambda dictionary: dictionary[key] if key in dictionary # get dict val for examples without space\n",
    "                                           \n",
    "                                                              else (dictionary[key.replace('_', ' ')] if key.replace('_', ' ') in dictionary # trying to get value of 'offer id', only with space\n",
    "                                                                 \n",
    "                                                                    else np.NaN)) # val is nan if key is not in dict\n",
    "    df = df.drop([old_column], axis=1)\n",
    "            \n",
    "    return df"
   ]
  },
  {
   "cell_type": "code",
   "execution_count": 31,
   "metadata": {
    "scrolled": true
   },
   "outputs": [
    {
     "data": {
      "text/html": [
       "<div>\n",
       "<style scoped>\n",
       "    .dataframe tbody tr th:only-of-type {\n",
       "        vertical-align: middle;\n",
       "    }\n",
       "\n",
       "    .dataframe tbody tr th {\n",
       "        vertical-align: top;\n",
       "    }\n",
       "\n",
       "    .dataframe thead th {\n",
       "        text-align: right;\n",
       "    }\n",
       "</style>\n",
       "<table border=\"1\" class=\"dataframe\">\n",
       "  <thead>\n",
       "    <tr style=\"text-align: right;\">\n",
       "      <th></th>\n",
       "      <th>person</th>\n",
       "      <th>event</th>\n",
       "      <th>time</th>\n",
       "      <th>amount</th>\n",
       "      <th>reward</th>\n",
       "      <th>offer_id</th>\n",
       "    </tr>\n",
       "  </thead>\n",
       "  <tbody>\n",
       "    <tr>\n",
       "      <th>0</th>\n",
       "      <td>78afa995795e4d85b5d9ceeca43f5fef</td>\n",
       "      <td>offer received</td>\n",
       "      <td>0</td>\n",
       "      <td>NaN</td>\n",
       "      <td>NaN</td>\n",
       "      <td>9b98b8c7a33c4b65b9aebfe6a799e6d9</td>\n",
       "    </tr>\n",
       "    <tr>\n",
       "      <th>2</th>\n",
       "      <td>e2127556f4f64592b11af22de27a7932</td>\n",
       "      <td>offer received</td>\n",
       "      <td>0</td>\n",
       "      <td>NaN</td>\n",
       "      <td>NaN</td>\n",
       "      <td>2906b810c7d4411798c6938adc9daaa5</td>\n",
       "    </tr>\n",
       "    <tr>\n",
       "      <th>5</th>\n",
       "      <td>389bc3fa690240e798340f5a15918d5c</td>\n",
       "      <td>offer received</td>\n",
       "      <td>0</td>\n",
       "      <td>NaN</td>\n",
       "      <td>NaN</td>\n",
       "      <td>f19421c1d4aa40978ebb69ca19b0e20d</td>\n",
       "    </tr>\n",
       "  </tbody>\n",
       "</table>\n",
       "</div>"
      ],
      "text/plain": [
       "                             person           event  time  amount  reward  \\\n",
       "0  78afa995795e4d85b5d9ceeca43f5fef  offer received     0     NaN     NaN   \n",
       "2  e2127556f4f64592b11af22de27a7932  offer received     0     NaN     NaN   \n",
       "5  389bc3fa690240e798340f5a15918d5c  offer received     0     NaN     NaN   \n",
       "\n",
       "                           offer_id  \n",
       "0  9b98b8c7a33c4b65b9aebfe6a799e6d9  \n",
       "2  2906b810c7d4411798c6938adc9daaa5  \n",
       "5  f19421c1d4aa40978ebb69ca19b0e20d  "
      ]
     },
     "execution_count": 31,
     "metadata": {},
     "output_type": "execute_result"
    }
   ],
   "source": [
    "transcript = create_columns_and_input_values(transcript,unique_keys, 'value')\n",
    "transcript.head(3)"
   ]
  },
  {
   "cell_type": "code",
   "execution_count": 32,
   "metadata": {},
   "outputs": [],
   "source": [
    "def get_dummies_keep_column(df, column):\n",
    "    '''\n",
    "    Get dummies and keep the column original column\n",
    "    \n",
    "    INPUT:\n",
    "    df (dataframe pandas): dataframe with column to get dummy\n",
    "    column: column to get dummies\n",
    "        \n",
    "    OUTPUT:\n",
    "    df_final (dataframe pandas): dataframe with dummies treated\n",
    "    '''\n",
    "    \n",
    "    dum = pd.get_dummies(df, columns=[column])\n",
    "    df = df[[column]]\n",
    "    df_final = pd.concat([df, dum], axis=1) \n",
    "    \n",
    "    return df_final"
   ]
  },
  {
   "cell_type": "code",
   "execution_count": 33,
   "metadata": {},
   "outputs": [
    {
     "data": {
      "text/html": [
       "<div>\n",
       "<style scoped>\n",
       "    .dataframe tbody tr th:only-of-type {\n",
       "        vertical-align: middle;\n",
       "    }\n",
       "\n",
       "    .dataframe tbody tr th {\n",
       "        vertical-align: top;\n",
       "    }\n",
       "\n",
       "    .dataframe thead th {\n",
       "        text-align: right;\n",
       "    }\n",
       "</style>\n",
       "<table border=\"1\" class=\"dataframe\">\n",
       "  <thead>\n",
       "    <tr style=\"text-align: right;\">\n",
       "      <th></th>\n",
       "      <th>gender</th>\n",
       "      <th>age</th>\n",
       "      <th>id</th>\n",
       "      <th>became_member_on</th>\n",
       "      <th>income</th>\n",
       "      <th>gender_F</th>\n",
       "      <th>gender_M</th>\n",
       "      <th>gender_O</th>\n",
       "    </tr>\n",
       "  </thead>\n",
       "  <tbody>\n",
       "    <tr>\n",
       "      <th>1</th>\n",
       "      <td>F</td>\n",
       "      <td>55</td>\n",
       "      <td>0610b486422d4921ae7d2bf64640c50b</td>\n",
       "      <td>20170715</td>\n",
       "      <td>112000.0</td>\n",
       "      <td>1</td>\n",
       "      <td>0</td>\n",
       "      <td>0</td>\n",
       "    </tr>\n",
       "    <tr>\n",
       "      <th>3</th>\n",
       "      <td>F</td>\n",
       "      <td>75</td>\n",
       "      <td>78afa995795e4d85b5d9ceeca43f5fef</td>\n",
       "      <td>20170509</td>\n",
       "      <td>100000.0</td>\n",
       "      <td>1</td>\n",
       "      <td>0</td>\n",
       "      <td>0</td>\n",
       "    </tr>\n",
       "  </tbody>\n",
       "</table>\n",
       "</div>"
      ],
      "text/plain": [
       "  gender  age                                id  became_member_on    income  \\\n",
       "1      F   55  0610b486422d4921ae7d2bf64640c50b          20170715  112000.0   \n",
       "3      F   75  78afa995795e4d85b5d9ceeca43f5fef          20170509  100000.0   \n",
       "\n",
       "   gender_F  gender_M  gender_O  \n",
       "1         1         0         0  \n",
       "3         1         0         0  "
      ]
     },
     "execution_count": 33,
     "metadata": {},
     "output_type": "execute_result"
    }
   ],
   "source": [
    "profile = get_dummies_keep_column(profile, 'gender')\n",
    "profile.head(2)"
   ]
  },
  {
   "cell_type": "code",
   "execution_count": 34,
   "metadata": {},
   "outputs": [
    {
     "data": {
      "text/html": [
       "<div>\n",
       "<style scoped>\n",
       "    .dataframe tbody tr th:only-of-type {\n",
       "        vertical-align: middle;\n",
       "    }\n",
       "\n",
       "    .dataframe tbody tr th {\n",
       "        vertical-align: top;\n",
       "    }\n",
       "\n",
       "    .dataframe thead th {\n",
       "        text-align: right;\n",
       "    }\n",
       "</style>\n",
       "<table border=\"1\" class=\"dataframe\">\n",
       "  <thead>\n",
       "    <tr style=\"text-align: right;\">\n",
       "      <th></th>\n",
       "      <th>offer_type</th>\n",
       "      <th>reward</th>\n",
       "      <th>difficulty</th>\n",
       "      <th>duration</th>\n",
       "      <th>id</th>\n",
       "      <th>email</th>\n",
       "      <th>mobile</th>\n",
       "      <th>social</th>\n",
       "      <th>web</th>\n",
       "      <th>offer_type_bogo</th>\n",
       "      <th>offer_type_discount</th>\n",
       "      <th>offer_type_informational</th>\n",
       "    </tr>\n",
       "  </thead>\n",
       "  <tbody>\n",
       "    <tr>\n",
       "      <th>0</th>\n",
       "      <td>bogo</td>\n",
       "      <td>10</td>\n",
       "      <td>10</td>\n",
       "      <td>7</td>\n",
       "      <td>ae264e3637204a6fb9bb56bc8210ddfd</td>\n",
       "      <td>1</td>\n",
       "      <td>1</td>\n",
       "      <td>1</td>\n",
       "      <td>0</td>\n",
       "      <td>1</td>\n",
       "      <td>0</td>\n",
       "      <td>0</td>\n",
       "    </tr>\n",
       "    <tr>\n",
       "      <th>1</th>\n",
       "      <td>bogo</td>\n",
       "      <td>10</td>\n",
       "      <td>10</td>\n",
       "      <td>5</td>\n",
       "      <td>4d5c57ea9a6940dd891ad53e9dbe8da0</td>\n",
       "      <td>1</td>\n",
       "      <td>1</td>\n",
       "      <td>1</td>\n",
       "      <td>1</td>\n",
       "      <td>1</td>\n",
       "      <td>0</td>\n",
       "      <td>0</td>\n",
       "    </tr>\n",
       "  </tbody>\n",
       "</table>\n",
       "</div>"
      ],
      "text/plain": [
       "  offer_type  reward  difficulty  duration                                id  \\\n",
       "0       bogo      10          10         7  ae264e3637204a6fb9bb56bc8210ddfd   \n",
       "1       bogo      10          10         5  4d5c57ea9a6940dd891ad53e9dbe8da0   \n",
       "\n",
       "   email  mobile  social  web  offer_type_bogo  offer_type_discount  \\\n",
       "0      1       1       1    0                1                    0   \n",
       "1      1       1       1    1                1                    0   \n",
       "\n",
       "   offer_type_informational  \n",
       "0                         0  \n",
       "1                         0  "
      ]
     },
     "execution_count": 34,
     "metadata": {},
     "output_type": "execute_result"
    }
   ],
   "source": [
    "portfolio = get_dummies_keep_column(portfolio, 'offer_type')\n",
    "portfolio.head(2)"
   ]
  },
  {
   "cell_type": "markdown",
   "metadata": {},
   "source": [
    "<a href='#contents'>**Go to Table of Contents**</a>"
   ]
  },
  {
   "cell_type": "markdown",
   "metadata": {},
   "source": [
    "### <a id=\"datw3\">3. Missing data again. After handling dummy values</a>"
   ]
  },
  {
   "cell_type": "code",
   "execution_count": 35,
   "metadata": {
    "scrolled": false
   },
   "outputs": [
    {
     "name": "stdout",
     "output_type": "stream",
     "text": [
      "     column  n_missing_values  pct_missing\n",
      "0    person                 0         0.00\n",
      "1     event                 0         0.00\n",
      "2      time                 0         0.00\n",
      "3    amount            148805        54.55\n",
      "4    reward            240318        88.11\n",
      "5  offer_id            123957        45.45\n",
      "\n",
      "\n"
     ]
    }
   ],
   "source": [
    "show_missing_values([transcript])"
   ]
  },
  {
   "cell_type": "code",
   "execution_count": 36,
   "metadata": {
    "scrolled": false
   },
   "outputs": [
    {
     "data": {
      "text/html": [
       "<div>\n",
       "<style scoped>\n",
       "    .dataframe tbody tr th:only-of-type {\n",
       "        vertical-align: middle;\n",
       "    }\n",
       "\n",
       "    .dataframe tbody tr th {\n",
       "        vertical-align: top;\n",
       "    }\n",
       "\n",
       "    .dataframe thead th {\n",
       "        text-align: right;\n",
       "    }\n",
       "</style>\n",
       "<table border=\"1\" class=\"dataframe\">\n",
       "  <thead>\n",
       "    <tr style=\"text-align: right;\">\n",
       "      <th></th>\n",
       "      <th>person</th>\n",
       "      <th>time</th>\n",
       "      <th>amount</th>\n",
       "      <th>reward</th>\n",
       "      <th>offer_id</th>\n",
       "    </tr>\n",
       "    <tr>\n",
       "      <th>event</th>\n",
       "      <th></th>\n",
       "      <th></th>\n",
       "      <th></th>\n",
       "      <th></th>\n",
       "      <th></th>\n",
       "    </tr>\n",
       "  </thead>\n",
       "  <tbody>\n",
       "    <tr>\n",
       "      <th>offer completed</th>\n",
       "      <td>32444</td>\n",
       "      <td>32444</td>\n",
       "      <td>0</td>\n",
       "      <td>32444</td>\n",
       "      <td>32444</td>\n",
       "    </tr>\n",
       "    <tr>\n",
       "      <th>offer received</th>\n",
       "      <td>66501</td>\n",
       "      <td>66501</td>\n",
       "      <td>0</td>\n",
       "      <td>0</td>\n",
       "      <td>66501</td>\n",
       "    </tr>\n",
       "    <tr>\n",
       "      <th>offer viewed</th>\n",
       "      <td>49860</td>\n",
       "      <td>49860</td>\n",
       "      <td>0</td>\n",
       "      <td>0</td>\n",
       "      <td>49860</td>\n",
       "    </tr>\n",
       "    <tr>\n",
       "      <th>transaction</th>\n",
       "      <td>123957</td>\n",
       "      <td>123957</td>\n",
       "      <td>123957</td>\n",
       "      <td>0</td>\n",
       "      <td>0</td>\n",
       "    </tr>\n",
       "  </tbody>\n",
       "</table>\n",
       "</div>"
      ],
      "text/plain": [
       "                 person    time  amount  reward  offer_id\n",
       "event                                                    \n",
       "offer completed   32444   32444       0   32444     32444\n",
       "offer received    66501   66501       0       0     66501\n",
       "offer viewed      49860   49860       0       0     49860\n",
       "transaction      123957  123957  123957       0         0"
      ]
     },
     "execution_count": 36,
     "metadata": {},
     "output_type": "execute_result"
    }
   ],
   "source": [
    "transcript.groupby(\"event\").count()"
   ]
  },
  {
   "cell_type": "markdown",
   "metadata": {},
   "source": [
    "The count function on groupby counts all values diferents of null.\n",
    "\n",
    "It's important to have the same values to person and time, since this is the key of event. It's what the table shows above.\n",
    "\n",
    "Let's analysis the events:\n",
    "- **offer completed: it's ok to have null values in amount. And, it have all reward;**\n",
    "- **offer received: only need to have person, time and offer_id;**\n",
    "- **offer viewed: only need to have person, time and offer_id; and**\n",
    "- **transaction: only need to have person, time and amount.**\n",
    "\n",
    "\n",
    "As we can see, the transaction are the events when customers are spending money, only this. Offer completed always has a reward. And, the offer received and offer viewed has the offer id."
   ]
  },
  {
   "cell_type": "code",
   "execution_count": 37,
   "metadata": {},
   "outputs": [],
   "source": [
    "transcript = transcript.fillna(0)"
   ]
  },
  {
   "cell_type": "markdown",
   "metadata": {},
   "source": [
    "For avoiding problems of encoding, we filled missing values with 0."
   ]
  },
  {
   "cell_type": "code",
   "execution_count": 38,
   "metadata": {
    "scrolled": true
   },
   "outputs": [
    {
     "data": {
      "text/plain": [
       "person      0\n",
       "event       0\n",
       "time        0\n",
       "amount      0\n",
       "reward      0\n",
       "offer_id    0\n",
       "dtype: int64"
      ]
     },
     "execution_count": 38,
     "metadata": {},
     "output_type": "execute_result"
    }
   ],
   "source": [
    "transcript.isnull().sum()"
   ]
  },
  {
   "cell_type": "markdown",
   "metadata": {},
   "source": [
    "<a href='#contents'>**Go to Table of Contents**</a>"
   ]
  },
  {
   "cell_type": "markdown",
   "metadata": {},
   "source": [
    "### <a id=\"datw4\">4. Data Labelling IDs</a>"
   ]
  },
  {
   "cell_type": "code",
   "execution_count": 39,
   "metadata": {},
   "outputs": [],
   "source": [
    "def label_id(df, old_column, new_column, delete_old_column= False):\n",
    "    \"\"\"\n",
    "    This function will label unique values as string or other type to unique integers. Delete old column.\n",
    "    \n",
    "    INPUT: \n",
    "    df (dataframe pandas): df to be labeled whose values are to be changed\n",
    "    old_column (str): transcript column to be labeled whose values are to be changed\n",
    "    new_column (str): name of the new column with unique integers\n",
    "    \n",
    "    OUTPUT:\n",
    "    df (dataframe pandas): df with \"new_column\" labeled\n",
    "     \n",
    "    \"\"\"    \n",
    "    coded_dict = dict()\n",
    "    cter = 1\n",
    "    email_encoded = []\n",
    "    \n",
    "    for val in df[old_column]:\n",
    "        \n",
    "        if val not in coded_dict:\n",
    "            coded_dict[val] = cter\n",
    "            cter+=1\n",
    "        email_encoded.append(coded_dict[val])\n",
    "    \n",
    "    if delete_old_column == True:\n",
    "        del df[old_column]\n",
    "    df[new_column] = email_encoded \n",
    "    \n",
    "    return df"
   ]
  },
  {
   "cell_type": "code",
   "execution_count": 40,
   "metadata": {},
   "outputs": [
    {
     "data": {
      "text/html": [
       "<div>\n",
       "<style scoped>\n",
       "    .dataframe tbody tr th:only-of-type {\n",
       "        vertical-align: middle;\n",
       "    }\n",
       "\n",
       "    .dataframe tbody tr th {\n",
       "        vertical-align: top;\n",
       "    }\n",
       "\n",
       "    .dataframe thead th {\n",
       "        text-align: right;\n",
       "    }\n",
       "</style>\n",
       "<table border=\"1\" class=\"dataframe\">\n",
       "  <thead>\n",
       "    <tr style=\"text-align: right;\">\n",
       "      <th></th>\n",
       "      <th>offer_type</th>\n",
       "      <th>reward</th>\n",
       "      <th>difficulty</th>\n",
       "      <th>duration</th>\n",
       "      <th>id</th>\n",
       "      <th>email</th>\n",
       "      <th>mobile</th>\n",
       "      <th>social</th>\n",
       "      <th>web</th>\n",
       "      <th>offer_type_bogo</th>\n",
       "      <th>offer_type_discount</th>\n",
       "      <th>offer_type_informational</th>\n",
       "    </tr>\n",
       "  </thead>\n",
       "  <tbody>\n",
       "    <tr>\n",
       "      <th>0</th>\n",
       "      <td>bogo</td>\n",
       "      <td>10</td>\n",
       "      <td>10</td>\n",
       "      <td>7</td>\n",
       "      <td>ae264e3637204a6fb9bb56bc8210ddfd</td>\n",
       "      <td>1</td>\n",
       "      <td>1</td>\n",
       "      <td>1</td>\n",
       "      <td>0</td>\n",
       "      <td>1</td>\n",
       "      <td>0</td>\n",
       "      <td>0</td>\n",
       "    </tr>\n",
       "    <tr>\n",
       "      <th>1</th>\n",
       "      <td>bogo</td>\n",
       "      <td>10</td>\n",
       "      <td>10</td>\n",
       "      <td>5</td>\n",
       "      <td>4d5c57ea9a6940dd891ad53e9dbe8da0</td>\n",
       "      <td>1</td>\n",
       "      <td>1</td>\n",
       "      <td>1</td>\n",
       "      <td>1</td>\n",
       "      <td>1</td>\n",
       "      <td>0</td>\n",
       "      <td>0</td>\n",
       "    </tr>\n",
       "    <tr>\n",
       "      <th>2</th>\n",
       "      <td>informational</td>\n",
       "      <td>0</td>\n",
       "      <td>0</td>\n",
       "      <td>4</td>\n",
       "      <td>3f207df678b143eea3cee63160fa8bed</td>\n",
       "      <td>1</td>\n",
       "      <td>1</td>\n",
       "      <td>0</td>\n",
       "      <td>1</td>\n",
       "      <td>0</td>\n",
       "      <td>0</td>\n",
       "      <td>1</td>\n",
       "    </tr>\n",
       "    <tr>\n",
       "      <th>3</th>\n",
       "      <td>bogo</td>\n",
       "      <td>5</td>\n",
       "      <td>5</td>\n",
       "      <td>7</td>\n",
       "      <td>9b98b8c7a33c4b65b9aebfe6a799e6d9</td>\n",
       "      <td>1</td>\n",
       "      <td>1</td>\n",
       "      <td>0</td>\n",
       "      <td>1</td>\n",
       "      <td>1</td>\n",
       "      <td>0</td>\n",
       "      <td>0</td>\n",
       "    </tr>\n",
       "    <tr>\n",
       "      <th>4</th>\n",
       "      <td>discount</td>\n",
       "      <td>5</td>\n",
       "      <td>20</td>\n",
       "      <td>10</td>\n",
       "      <td>0b1e1539f2cc45b7b9fa7c272da2e1d7</td>\n",
       "      <td>1</td>\n",
       "      <td>0</td>\n",
       "      <td>0</td>\n",
       "      <td>1</td>\n",
       "      <td>0</td>\n",
       "      <td>1</td>\n",
       "      <td>0</td>\n",
       "    </tr>\n",
       "    <tr>\n",
       "      <th>5</th>\n",
       "      <td>discount</td>\n",
       "      <td>3</td>\n",
       "      <td>7</td>\n",
       "      <td>7</td>\n",
       "      <td>2298d6c36e964ae4a3e7e9706d1fb8c2</td>\n",
       "      <td>1</td>\n",
       "      <td>1</td>\n",
       "      <td>1</td>\n",
       "      <td>1</td>\n",
       "      <td>0</td>\n",
       "      <td>1</td>\n",
       "      <td>0</td>\n",
       "    </tr>\n",
       "    <tr>\n",
       "      <th>6</th>\n",
       "      <td>discount</td>\n",
       "      <td>2</td>\n",
       "      <td>10</td>\n",
       "      <td>10</td>\n",
       "      <td>fafdcd668e3743c1bb461111dcafc2a4</td>\n",
       "      <td>1</td>\n",
       "      <td>1</td>\n",
       "      <td>1</td>\n",
       "      <td>1</td>\n",
       "      <td>0</td>\n",
       "      <td>1</td>\n",
       "      <td>0</td>\n",
       "    </tr>\n",
       "    <tr>\n",
       "      <th>7</th>\n",
       "      <td>informational</td>\n",
       "      <td>0</td>\n",
       "      <td>0</td>\n",
       "      <td>3</td>\n",
       "      <td>5a8bc65990b245e5a138643cd4eb9837</td>\n",
       "      <td>1</td>\n",
       "      <td>1</td>\n",
       "      <td>1</td>\n",
       "      <td>0</td>\n",
       "      <td>0</td>\n",
       "      <td>0</td>\n",
       "      <td>1</td>\n",
       "    </tr>\n",
       "    <tr>\n",
       "      <th>8</th>\n",
       "      <td>bogo</td>\n",
       "      <td>5</td>\n",
       "      <td>5</td>\n",
       "      <td>5</td>\n",
       "      <td>f19421c1d4aa40978ebb69ca19b0e20d</td>\n",
       "      <td>1</td>\n",
       "      <td>1</td>\n",
       "      <td>1</td>\n",
       "      <td>1</td>\n",
       "      <td>1</td>\n",
       "      <td>0</td>\n",
       "      <td>0</td>\n",
       "    </tr>\n",
       "    <tr>\n",
       "      <th>9</th>\n",
       "      <td>discount</td>\n",
       "      <td>2</td>\n",
       "      <td>10</td>\n",
       "      <td>7</td>\n",
       "      <td>2906b810c7d4411798c6938adc9daaa5</td>\n",
       "      <td>1</td>\n",
       "      <td>1</td>\n",
       "      <td>0</td>\n",
       "      <td>1</td>\n",
       "      <td>0</td>\n",
       "      <td>1</td>\n",
       "      <td>0</td>\n",
       "    </tr>\n",
       "  </tbody>\n",
       "</table>\n",
       "</div>"
      ],
      "text/plain": [
       "      offer_type  reward  difficulty  duration  \\\n",
       "0           bogo      10          10         7   \n",
       "1           bogo      10          10         5   \n",
       "2  informational       0           0         4   \n",
       "3           bogo       5           5         7   \n",
       "4       discount       5          20        10   \n",
       "5       discount       3           7         7   \n",
       "6       discount       2          10        10   \n",
       "7  informational       0           0         3   \n",
       "8           bogo       5           5         5   \n",
       "9       discount       2          10         7   \n",
       "\n",
       "                                 id  email  mobile  social  web  \\\n",
       "0  ae264e3637204a6fb9bb56bc8210ddfd      1       1       1    0   \n",
       "1  4d5c57ea9a6940dd891ad53e9dbe8da0      1       1       1    1   \n",
       "2  3f207df678b143eea3cee63160fa8bed      1       1       0    1   \n",
       "3  9b98b8c7a33c4b65b9aebfe6a799e6d9      1       1       0    1   \n",
       "4  0b1e1539f2cc45b7b9fa7c272da2e1d7      1       0       0    1   \n",
       "5  2298d6c36e964ae4a3e7e9706d1fb8c2      1       1       1    1   \n",
       "6  fafdcd668e3743c1bb461111dcafc2a4      1       1       1    1   \n",
       "7  5a8bc65990b245e5a138643cd4eb9837      1       1       1    0   \n",
       "8  f19421c1d4aa40978ebb69ca19b0e20d      1       1       1    1   \n",
       "9  2906b810c7d4411798c6938adc9daaa5      1       1       0    1   \n",
       "\n",
       "   offer_type_bogo  offer_type_discount  offer_type_informational  \n",
       "0                1                    0                         0  \n",
       "1                1                    0                         0  \n",
       "2                0                    0                         1  \n",
       "3                1                    0                         0  \n",
       "4                0                    1                         0  \n",
       "5                0                    1                         0  \n",
       "6                0                    1                         0  \n",
       "7                0                    0                         1  \n",
       "8                1                    0                         0  \n",
       "9                0                    1                         0  "
      ]
     },
     "execution_count": 40,
     "metadata": {},
     "output_type": "execute_result"
    }
   ],
   "source": [
    "portfolio"
   ]
  },
  {
   "cell_type": "code",
   "execution_count": 41,
   "metadata": {},
   "outputs": [
    {
     "name": "stdout",
     "output_type": "stream",
     "text": [
      "True\n"
     ]
    },
    {
     "data": {
      "text/html": [
       "<div>\n",
       "<style scoped>\n",
       "    .dataframe tbody tr th:only-of-type {\n",
       "        vertical-align: middle;\n",
       "    }\n",
       "\n",
       "    .dataframe tbody tr th {\n",
       "        vertical-align: top;\n",
       "    }\n",
       "\n",
       "    .dataframe thead th {\n",
       "        text-align: right;\n",
       "    }\n",
       "</style>\n",
       "<table border=\"1\" class=\"dataframe\">\n",
       "  <thead>\n",
       "    <tr style=\"text-align: right;\">\n",
       "      <th></th>\n",
       "      <th>offer_type</th>\n",
       "      <th>reward</th>\n",
       "      <th>difficulty</th>\n",
       "      <th>duration</th>\n",
       "      <th>id</th>\n",
       "      <th>email</th>\n",
       "      <th>mobile</th>\n",
       "      <th>social</th>\n",
       "      <th>web</th>\n",
       "      <th>offer_type_bogo</th>\n",
       "      <th>offer_type_discount</th>\n",
       "      <th>offer_type_informational</th>\n",
       "      <th>portfolio_id</th>\n",
       "    </tr>\n",
       "  </thead>\n",
       "  <tbody>\n",
       "    <tr>\n",
       "      <th>0</th>\n",
       "      <td>bogo</td>\n",
       "      <td>10</td>\n",
       "      <td>10</td>\n",
       "      <td>7</td>\n",
       "      <td>ae264e3637204a6fb9bb56bc8210ddfd</td>\n",
       "      <td>1</td>\n",
       "      <td>1</td>\n",
       "      <td>1</td>\n",
       "      <td>0</td>\n",
       "      <td>1</td>\n",
       "      <td>0</td>\n",
       "      <td>0</td>\n",
       "      <td>1</td>\n",
       "    </tr>\n",
       "    <tr>\n",
       "      <th>1</th>\n",
       "      <td>bogo</td>\n",
       "      <td>10</td>\n",
       "      <td>10</td>\n",
       "      <td>5</td>\n",
       "      <td>4d5c57ea9a6940dd891ad53e9dbe8da0</td>\n",
       "      <td>1</td>\n",
       "      <td>1</td>\n",
       "      <td>1</td>\n",
       "      <td>1</td>\n",
       "      <td>1</td>\n",
       "      <td>0</td>\n",
       "      <td>0</td>\n",
       "      <td>2</td>\n",
       "    </tr>\n",
       "    <tr>\n",
       "      <th>2</th>\n",
       "      <td>informational</td>\n",
       "      <td>0</td>\n",
       "      <td>0</td>\n",
       "      <td>4</td>\n",
       "      <td>3f207df678b143eea3cee63160fa8bed</td>\n",
       "      <td>1</td>\n",
       "      <td>1</td>\n",
       "      <td>0</td>\n",
       "      <td>1</td>\n",
       "      <td>0</td>\n",
       "      <td>0</td>\n",
       "      <td>1</td>\n",
       "      <td>3</td>\n",
       "    </tr>\n",
       "    <tr>\n",
       "      <th>3</th>\n",
       "      <td>bogo</td>\n",
       "      <td>5</td>\n",
       "      <td>5</td>\n",
       "      <td>7</td>\n",
       "      <td>9b98b8c7a33c4b65b9aebfe6a799e6d9</td>\n",
       "      <td>1</td>\n",
       "      <td>1</td>\n",
       "      <td>0</td>\n",
       "      <td>1</td>\n",
       "      <td>1</td>\n",
       "      <td>0</td>\n",
       "      <td>0</td>\n",
       "      <td>4</td>\n",
       "    </tr>\n",
       "    <tr>\n",
       "      <th>4</th>\n",
       "      <td>discount</td>\n",
       "      <td>5</td>\n",
       "      <td>20</td>\n",
       "      <td>10</td>\n",
       "      <td>0b1e1539f2cc45b7b9fa7c272da2e1d7</td>\n",
       "      <td>1</td>\n",
       "      <td>0</td>\n",
       "      <td>0</td>\n",
       "      <td>1</td>\n",
       "      <td>0</td>\n",
       "      <td>1</td>\n",
       "      <td>0</td>\n",
       "      <td>5</td>\n",
       "    </tr>\n",
       "    <tr>\n",
       "      <th>5</th>\n",
       "      <td>discount</td>\n",
       "      <td>3</td>\n",
       "      <td>7</td>\n",
       "      <td>7</td>\n",
       "      <td>2298d6c36e964ae4a3e7e9706d1fb8c2</td>\n",
       "      <td>1</td>\n",
       "      <td>1</td>\n",
       "      <td>1</td>\n",
       "      <td>1</td>\n",
       "      <td>0</td>\n",
       "      <td>1</td>\n",
       "      <td>0</td>\n",
       "      <td>6</td>\n",
       "    </tr>\n",
       "    <tr>\n",
       "      <th>6</th>\n",
       "      <td>discount</td>\n",
       "      <td>2</td>\n",
       "      <td>10</td>\n",
       "      <td>10</td>\n",
       "      <td>fafdcd668e3743c1bb461111dcafc2a4</td>\n",
       "      <td>1</td>\n",
       "      <td>1</td>\n",
       "      <td>1</td>\n",
       "      <td>1</td>\n",
       "      <td>0</td>\n",
       "      <td>1</td>\n",
       "      <td>0</td>\n",
       "      <td>7</td>\n",
       "    </tr>\n",
       "    <tr>\n",
       "      <th>7</th>\n",
       "      <td>informational</td>\n",
       "      <td>0</td>\n",
       "      <td>0</td>\n",
       "      <td>3</td>\n",
       "      <td>5a8bc65990b245e5a138643cd4eb9837</td>\n",
       "      <td>1</td>\n",
       "      <td>1</td>\n",
       "      <td>1</td>\n",
       "      <td>0</td>\n",
       "      <td>0</td>\n",
       "      <td>0</td>\n",
       "      <td>1</td>\n",
       "      <td>8</td>\n",
       "    </tr>\n",
       "    <tr>\n",
       "      <th>8</th>\n",
       "      <td>bogo</td>\n",
       "      <td>5</td>\n",
       "      <td>5</td>\n",
       "      <td>5</td>\n",
       "      <td>f19421c1d4aa40978ebb69ca19b0e20d</td>\n",
       "      <td>1</td>\n",
       "      <td>1</td>\n",
       "      <td>1</td>\n",
       "      <td>1</td>\n",
       "      <td>1</td>\n",
       "      <td>0</td>\n",
       "      <td>0</td>\n",
       "      <td>9</td>\n",
       "    </tr>\n",
       "    <tr>\n",
       "      <th>9</th>\n",
       "      <td>discount</td>\n",
       "      <td>2</td>\n",
       "      <td>10</td>\n",
       "      <td>7</td>\n",
       "      <td>2906b810c7d4411798c6938adc9daaa5</td>\n",
       "      <td>1</td>\n",
       "      <td>1</td>\n",
       "      <td>0</td>\n",
       "      <td>1</td>\n",
       "      <td>0</td>\n",
       "      <td>1</td>\n",
       "      <td>0</td>\n",
       "      <td>10</td>\n",
       "    </tr>\n",
       "  </tbody>\n",
       "</table>\n",
       "</div>"
      ],
      "text/plain": [
       "      offer_type  reward  difficulty  duration  \\\n",
       "0           bogo      10          10         7   \n",
       "1           bogo      10          10         5   \n",
       "2  informational       0           0         4   \n",
       "3           bogo       5           5         7   \n",
       "4       discount       5          20        10   \n",
       "5       discount       3           7         7   \n",
       "6       discount       2          10        10   \n",
       "7  informational       0           0         3   \n",
       "8           bogo       5           5         5   \n",
       "9       discount       2          10         7   \n",
       "\n",
       "                                 id  email  mobile  social  web  \\\n",
       "0  ae264e3637204a6fb9bb56bc8210ddfd      1       1       1    0   \n",
       "1  4d5c57ea9a6940dd891ad53e9dbe8da0      1       1       1    1   \n",
       "2  3f207df678b143eea3cee63160fa8bed      1       1       0    1   \n",
       "3  9b98b8c7a33c4b65b9aebfe6a799e6d9      1       1       0    1   \n",
       "4  0b1e1539f2cc45b7b9fa7c272da2e1d7      1       0       0    1   \n",
       "5  2298d6c36e964ae4a3e7e9706d1fb8c2      1       1       1    1   \n",
       "6  fafdcd668e3743c1bb461111dcafc2a4      1       1       1    1   \n",
       "7  5a8bc65990b245e5a138643cd4eb9837      1       1       1    0   \n",
       "8  f19421c1d4aa40978ebb69ca19b0e20d      1       1       1    1   \n",
       "9  2906b810c7d4411798c6938adc9daaa5      1       1       0    1   \n",
       "\n",
       "   offer_type_bogo  offer_type_discount  offer_type_informational  \\\n",
       "0                1                    0                         0   \n",
       "1                1                    0                         0   \n",
       "2                0                    0                         1   \n",
       "3                1                    0                         0   \n",
       "4                0                    1                         0   \n",
       "5                0                    1                         0   \n",
       "6                0                    1                         0   \n",
       "7                0                    0                         1   \n",
       "8                1                    0                         0   \n",
       "9                0                    1                         0   \n",
       "\n",
       "   portfolio_id  \n",
       "0             1  \n",
       "1             2  \n",
       "2             3  \n",
       "3             4  \n",
       "4             5  \n",
       "5             6  \n",
       "6             7  \n",
       "7             8  \n",
       "8             9  \n",
       "9            10  "
      ]
     },
     "execution_count": 41,
     "metadata": {},
     "output_type": "execute_result"
    }
   ],
   "source": [
    "portfolio = label_id(portfolio, 'id', 'portfolio_id')\n",
    "print(portfolio.portfolio_id.is_unique)\n",
    "portfolio"
   ]
  },
  {
   "cell_type": "code",
   "execution_count": 42,
   "metadata": {
    "scrolled": false
   },
   "outputs": [
    {
     "name": "stdout",
     "output_type": "stream",
     "text": [
      "True\n"
     ]
    },
    {
     "data": {
      "text/html": [
       "<div>\n",
       "<style scoped>\n",
       "    .dataframe tbody tr th:only-of-type {\n",
       "        vertical-align: middle;\n",
       "    }\n",
       "\n",
       "    .dataframe tbody tr th {\n",
       "        vertical-align: top;\n",
       "    }\n",
       "\n",
       "    .dataframe thead th {\n",
       "        text-align: right;\n",
       "    }\n",
       "</style>\n",
       "<table border=\"1\" class=\"dataframe\">\n",
       "  <thead>\n",
       "    <tr style=\"text-align: right;\">\n",
       "      <th></th>\n",
       "      <th>gender</th>\n",
       "      <th>age</th>\n",
       "      <th>id</th>\n",
       "      <th>became_member_on</th>\n",
       "      <th>income</th>\n",
       "      <th>gender_F</th>\n",
       "      <th>gender_M</th>\n",
       "      <th>gender_O</th>\n",
       "      <th>profile_id</th>\n",
       "    </tr>\n",
       "  </thead>\n",
       "  <tbody>\n",
       "    <tr>\n",
       "      <th>1</th>\n",
       "      <td>F</td>\n",
       "      <td>55</td>\n",
       "      <td>0610b486422d4921ae7d2bf64640c50b</td>\n",
       "      <td>20170715</td>\n",
       "      <td>112000.0</td>\n",
       "      <td>1</td>\n",
       "      <td>0</td>\n",
       "      <td>0</td>\n",
       "      <td>1</td>\n",
       "    </tr>\n",
       "    <tr>\n",
       "      <th>3</th>\n",
       "      <td>F</td>\n",
       "      <td>75</td>\n",
       "      <td>78afa995795e4d85b5d9ceeca43f5fef</td>\n",
       "      <td>20170509</td>\n",
       "      <td>100000.0</td>\n",
       "      <td>1</td>\n",
       "      <td>0</td>\n",
       "      <td>0</td>\n",
       "      <td>2</td>\n",
       "    </tr>\n",
       "  </tbody>\n",
       "</table>\n",
       "</div>"
      ],
      "text/plain": [
       "  gender  age                                id  became_member_on    income  \\\n",
       "1      F   55  0610b486422d4921ae7d2bf64640c50b          20170715  112000.0   \n",
       "3      F   75  78afa995795e4d85b5d9ceeca43f5fef          20170509  100000.0   \n",
       "\n",
       "   gender_F  gender_M  gender_O  profile_id  \n",
       "1         1         0         0           1  \n",
       "3         1         0         0           2  "
      ]
     },
     "execution_count": 42,
     "metadata": {},
     "output_type": "execute_result"
    }
   ],
   "source": [
    "profile = label_id(profile, 'id', 'profile_id')\n",
    "print(profile.profile_id.is_unique)\n",
    "profile.head(2)"
   ]
  },
  {
   "cell_type": "markdown",
   "metadata": {},
   "source": [
    "<a href='#contents'>**Go to Table of Contents**</a>"
   ]
  },
  {
   "cell_type": "markdown",
   "metadata": {},
   "source": [
    "### <a id=\"datw5\">5. Data types</a>"
   ]
  },
  {
   "cell_type": "code",
   "execution_count": 43,
   "metadata": {},
   "outputs": [],
   "source": [
    "all_dfs = [portfolio, profile, transcript]\n",
    "\n",
    "\n",
    "def get_data_types_dfs(all_dfs):\n",
    "    '''\n",
    "    Print info of dataframes, which contains the datatype\n",
    "    \n",
    "    INPUT:\n",
    "    all_dfs (list): list of dataframes to print info\n",
    "    '''\n",
    "    for df in all_dfs:\n",
    "        print(df.info())\n",
    "        print('\\n')"
   ]
  },
  {
   "cell_type": "code",
   "execution_count": 44,
   "metadata": {
    "scrolled": true
   },
   "outputs": [
    {
     "name": "stdout",
     "output_type": "stream",
     "text": [
      "<class 'pandas.core.frame.DataFrame'>\n",
      "RangeIndex: 10 entries, 0 to 9\n",
      "Data columns (total 13 columns):\n",
      " #   Column                    Non-Null Count  Dtype \n",
      "---  ------                    --------------  ----- \n",
      " 0   offer_type                10 non-null     object\n",
      " 1   reward                    10 non-null     int64 \n",
      " 2   difficulty                10 non-null     int64 \n",
      " 3   duration                  10 non-null     int64 \n",
      " 4   id                        10 non-null     object\n",
      " 5   email                     10 non-null     int64 \n",
      " 6   mobile                    10 non-null     int64 \n",
      " 7   social                    10 non-null     int64 \n",
      " 8   web                       10 non-null     int64 \n",
      " 9   offer_type_bogo           10 non-null     uint8 \n",
      " 10  offer_type_discount       10 non-null     uint8 \n",
      " 11  offer_type_informational  10 non-null     uint8 \n",
      " 12  portfolio_id              10 non-null     int64 \n",
      "dtypes: int64(8), object(2), uint8(3)\n",
      "memory usage: 958.0+ bytes\n",
      "None\n",
      "\n",
      "\n",
      "<class 'pandas.core.frame.DataFrame'>\n",
      "Int64Index: 14825 entries, 1 to 16999\n",
      "Data columns (total 9 columns):\n",
      " #   Column            Non-Null Count  Dtype  \n",
      "---  ------            --------------  -----  \n",
      " 0   gender            14825 non-null  object \n",
      " 1   age               14825 non-null  int64  \n",
      " 2   id                14825 non-null  object \n",
      " 3   became_member_on  14825 non-null  int64  \n",
      " 4   income            14825 non-null  float64\n",
      " 5   gender_F          14825 non-null  uint8  \n",
      " 6   gender_M          14825 non-null  uint8  \n",
      " 7   gender_O          14825 non-null  uint8  \n",
      " 8   profile_id        14825 non-null  int64  \n",
      "dtypes: float64(1), int64(3), object(2), uint8(3)\n",
      "memory usage: 854.2+ KB\n",
      "None\n",
      "\n",
      "\n",
      "<class 'pandas.core.frame.DataFrame'>\n",
      "Int64Index: 272762 entries, 0 to 306532\n",
      "Data columns (total 6 columns):\n",
      " #   Column    Non-Null Count   Dtype  \n",
      "---  ------    --------------   -----  \n",
      " 0   person    272762 non-null  object \n",
      " 1   event     272762 non-null  object \n",
      " 2   time      272762 non-null  int64  \n",
      " 3   amount    272762 non-null  float64\n",
      " 4   reward    272762 non-null  float64\n",
      " 5   offer_id  272762 non-null  object \n",
      "dtypes: float64(2), int64(1), object(3)\n",
      "memory usage: 14.6+ MB\n",
      "None\n",
      "\n",
      "\n"
     ]
    }
   ],
   "source": [
    "get_data_types_dfs(all_dfs)"
   ]
  },
  {
   "cell_type": "code",
   "execution_count": 45,
   "metadata": {},
   "outputs": [
    {
     "data": {
      "text/html": [
       "<div>\n",
       "<style scoped>\n",
       "    .dataframe tbody tr th:only-of-type {\n",
       "        vertical-align: middle;\n",
       "    }\n",
       "\n",
       "    .dataframe tbody tr th {\n",
       "        vertical-align: top;\n",
       "    }\n",
       "\n",
       "    .dataframe thead th {\n",
       "        text-align: right;\n",
       "    }\n",
       "</style>\n",
       "<table border=\"1\" class=\"dataframe\">\n",
       "  <thead>\n",
       "    <tr style=\"text-align: right;\">\n",
       "      <th></th>\n",
       "      <th>gender</th>\n",
       "      <th>age</th>\n",
       "      <th>id</th>\n",
       "      <th>became_member_on</th>\n",
       "      <th>income</th>\n",
       "      <th>gender_F</th>\n",
       "      <th>gender_M</th>\n",
       "      <th>gender_O</th>\n",
       "      <th>profile_id</th>\n",
       "      <th>became_member_on_year</th>\n",
       "      <th>days_as_member</th>\n",
       "    </tr>\n",
       "  </thead>\n",
       "  <tbody>\n",
       "    <tr>\n",
       "      <th>1</th>\n",
       "      <td>F</td>\n",
       "      <td>55</td>\n",
       "      <td>0610b486422d4921ae7d2bf64640c50b</td>\n",
       "      <td>2017-07-15</td>\n",
       "      <td>112000.0</td>\n",
       "      <td>1</td>\n",
       "      <td>0</td>\n",
       "      <td>0</td>\n",
       "      <td>1</td>\n",
       "      <td>2017</td>\n",
       "      <td>376</td>\n",
       "    </tr>\n",
       "    <tr>\n",
       "      <th>3</th>\n",
       "      <td>F</td>\n",
       "      <td>75</td>\n",
       "      <td>78afa995795e4d85b5d9ceeca43f5fef</td>\n",
       "      <td>2017-05-09</td>\n",
       "      <td>100000.0</td>\n",
       "      <td>1</td>\n",
       "      <td>0</td>\n",
       "      <td>0</td>\n",
       "      <td>2</td>\n",
       "      <td>2017</td>\n",
       "      <td>443</td>\n",
       "    </tr>\n",
       "  </tbody>\n",
       "</table>\n",
       "</div>"
      ],
      "text/plain": [
       "  gender  age                                id became_member_on    income  \\\n",
       "1      F   55  0610b486422d4921ae7d2bf64640c50b       2017-07-15  112000.0   \n",
       "3      F   75  78afa995795e4d85b5d9ceeca43f5fef       2017-05-09  100000.0   \n",
       "\n",
       "   gender_F  gender_M  gender_O  profile_id  became_member_on_year  \\\n",
       "1         1         0         0           1                   2017   \n",
       "3         1         0         0           2                   2017   \n",
       "\n",
       "   days_as_member  \n",
       "1             376  \n",
       "3             443  "
      ]
     },
     "execution_count": 45,
     "metadata": {},
     "output_type": "execute_result"
    }
   ],
   "source": [
    "# Convert `became_member_on` that is integer to datetime\n",
    "profile['became_member_on'] = pd.to_datetime(profile.became_member_on.astype(str))\n",
    "\n",
    "# Create a column with year of sign in\n",
    "profile['became_member_on_year'] = profile.became_member_on.dt.year\n",
    "\n",
    "# Convert `became_member_on` that in days as member of the user. The count of days is since the max date.\n",
    "profile['days_as_member'] = (profile.became_member_on.max() - profile.became_member_on).dt.days\n",
    "\n",
    "profile.head(2)"
   ]
  },
  {
   "cell_type": "code",
   "execution_count": 46,
   "metadata": {},
   "outputs": [],
   "source": [
    "# Convert `reward` that is float to int\n",
    "transcript.reward = transcript.reward.astype('int64')"
   ]
  },
  {
   "cell_type": "code",
   "execution_count": 47,
   "metadata": {},
   "outputs": [
    {
     "name": "stdout",
     "output_type": "stream",
     "text": [
      "<class 'pandas.core.frame.DataFrame'>\n",
      "RangeIndex: 10 entries, 0 to 9\n",
      "Data columns (total 13 columns):\n",
      " #   Column                    Non-Null Count  Dtype \n",
      "---  ------                    --------------  ----- \n",
      " 0   offer_type                10 non-null     object\n",
      " 1   reward                    10 non-null     int64 \n",
      " 2   difficulty                10 non-null     int64 \n",
      " 3   duration                  10 non-null     int64 \n",
      " 4   id                        10 non-null     object\n",
      " 5   email                     10 non-null     int64 \n",
      " 6   mobile                    10 non-null     int64 \n",
      " 7   social                    10 non-null     int64 \n",
      " 8   web                       10 non-null     int64 \n",
      " 9   offer_type_bogo           10 non-null     uint8 \n",
      " 10  offer_type_discount       10 non-null     uint8 \n",
      " 11  offer_type_informational  10 non-null     uint8 \n",
      " 12  portfolio_id              10 non-null     int64 \n",
      "dtypes: int64(8), object(2), uint8(3)\n",
      "memory usage: 958.0+ bytes\n",
      "None\n",
      "\n",
      "\n",
      "<class 'pandas.core.frame.DataFrame'>\n",
      "Int64Index: 14825 entries, 1 to 16999\n",
      "Data columns (total 11 columns):\n",
      " #   Column                 Non-Null Count  Dtype         \n",
      "---  ------                 --------------  -----         \n",
      " 0   gender                 14825 non-null  object        \n",
      " 1   age                    14825 non-null  int64         \n",
      " 2   id                     14825 non-null  object        \n",
      " 3   became_member_on       14825 non-null  datetime64[ns]\n",
      " 4   income                 14825 non-null  float64       \n",
      " 5   gender_F               14825 non-null  uint8         \n",
      " 6   gender_M               14825 non-null  uint8         \n",
      " 7   gender_O               14825 non-null  uint8         \n",
      " 8   profile_id             14825 non-null  int64         \n",
      " 9   became_member_on_year  14825 non-null  int64         \n",
      " 10  days_as_member         14825 non-null  int64         \n",
      "dtypes: datetime64[ns](1), float64(1), int64(4), object(2), uint8(3)\n",
      "memory usage: 1.1+ MB\n",
      "None\n",
      "\n",
      "\n",
      "<class 'pandas.core.frame.DataFrame'>\n",
      "Int64Index: 272762 entries, 0 to 306532\n",
      "Data columns (total 6 columns):\n",
      " #   Column    Non-Null Count   Dtype  \n",
      "---  ------    --------------   -----  \n",
      " 0   person    272762 non-null  object \n",
      " 1   event     272762 non-null  object \n",
      " 2   time      272762 non-null  int64  \n",
      " 3   amount    272762 non-null  float64\n",
      " 4   reward    272762 non-null  int64  \n",
      " 5   offer_id  272762 non-null  object \n",
      "dtypes: float64(1), int64(2), object(3)\n",
      "memory usage: 14.6+ MB\n",
      "None\n",
      "\n",
      "\n"
     ]
    }
   ],
   "source": [
    "get_data_types_dfs(all_dfs)"
   ]
  },
  {
   "cell_type": "markdown",
   "metadata": {},
   "source": [
    "<a href='#contents'>**Go to Table of Contents**</a>"
   ]
  },
  {
   "cell_type": "markdown",
   "metadata": {},
   "source": [
    "### <a id=\"datw6\">6. Merge dataframes</a>"
   ]
  },
  {
   "cell_type": "code",
   "execution_count": 51,
   "metadata": {
    "scrolled": true
   },
   "outputs": [],
   "source": [
    "transcript = transcript.merge(portfolio, left_on = ['offer_id'], right_on = ['id'], how='left')\n",
    "transcript = transcript.merge(profile, left_on = ['person'], right_on = ['id'], how='left')"
   ]
  },
  {
   "cell_type": "code",
   "execution_count": 52,
   "metadata": {},
   "outputs": [
    {
     "data": {
      "text/html": [
       "<div>\n",
       "<style scoped>\n",
       "    .dataframe tbody tr th:only-of-type {\n",
       "        vertical-align: middle;\n",
       "    }\n",
       "\n",
       "    .dataframe tbody tr th {\n",
       "        vertical-align: top;\n",
       "    }\n",
       "\n",
       "    .dataframe thead th {\n",
       "        text-align: right;\n",
       "    }\n",
       "</style>\n",
       "<table border=\"1\" class=\"dataframe\">\n",
       "  <thead>\n",
       "    <tr style=\"text-align: right;\">\n",
       "      <th></th>\n",
       "      <th>event</th>\n",
       "      <th>time</th>\n",
       "      <th>amount</th>\n",
       "      <th>reward_x</th>\n",
       "      <th>offer_type</th>\n",
       "      <th>difficulty</th>\n",
       "      <th>duration</th>\n",
       "      <th>email</th>\n",
       "      <th>mobile</th>\n",
       "      <th>social</th>\n",
       "      <th>...</th>\n",
       "      <th>gender</th>\n",
       "      <th>age</th>\n",
       "      <th>became_member_on</th>\n",
       "      <th>income</th>\n",
       "      <th>gender_F</th>\n",
       "      <th>gender_M</th>\n",
       "      <th>gender_O</th>\n",
       "      <th>profile_id</th>\n",
       "      <th>became_member_on_year</th>\n",
       "      <th>days_as_member</th>\n",
       "    </tr>\n",
       "  </thead>\n",
       "  <tbody>\n",
       "    <tr>\n",
       "      <th>0</th>\n",
       "      <td>offer received</td>\n",
       "      <td>0</td>\n",
       "      <td>0.0</td>\n",
       "      <td>0</td>\n",
       "      <td>bogo</td>\n",
       "      <td>5.0</td>\n",
       "      <td>7.0</td>\n",
       "      <td>1.0</td>\n",
       "      <td>1.0</td>\n",
       "      <td>0.0</td>\n",
       "      <td>...</td>\n",
       "      <td>F</td>\n",
       "      <td>75</td>\n",
       "      <td>2017-05-09</td>\n",
       "      <td>100000.0</td>\n",
       "      <td>1</td>\n",
       "      <td>0</td>\n",
       "      <td>0</td>\n",
       "      <td>2</td>\n",
       "      <td>2017</td>\n",
       "      <td>443</td>\n",
       "    </tr>\n",
       "    <tr>\n",
       "      <th>1</th>\n",
       "      <td>offer received</td>\n",
       "      <td>0</td>\n",
       "      <td>0.0</td>\n",
       "      <td>0</td>\n",
       "      <td>discount</td>\n",
       "      <td>10.0</td>\n",
       "      <td>7.0</td>\n",
       "      <td>1.0</td>\n",
       "      <td>1.0</td>\n",
       "      <td>0.0</td>\n",
       "      <td>...</td>\n",
       "      <td>M</td>\n",
       "      <td>68</td>\n",
       "      <td>2018-04-26</td>\n",
       "      <td>70000.0</td>\n",
       "      <td>0</td>\n",
       "      <td>1</td>\n",
       "      <td>0</td>\n",
       "      <td>3</td>\n",
       "      <td>2018</td>\n",
       "      <td>91</td>\n",
       "    </tr>\n",
       "  </tbody>\n",
       "</table>\n",
       "<p>2 rows × 25 columns</p>\n",
       "</div>"
      ],
      "text/plain": [
       "            event  time  amount  reward_x offer_type  difficulty  duration  \\\n",
       "0  offer received     0     0.0         0       bogo         5.0       7.0   \n",
       "1  offer received     0     0.0         0   discount        10.0       7.0   \n",
       "\n",
       "   email  mobile  social  ...  gender  age  became_member_on    income  \\\n",
       "0    1.0     1.0     0.0  ...       F   75        2017-05-09  100000.0   \n",
       "1    1.0     1.0     0.0  ...       M   68        2018-04-26   70000.0   \n",
       "\n",
       "   gender_F gender_M  gender_O profile_id  became_member_on_year  \\\n",
       "0         1        0         0          2                   2017   \n",
       "1         0        1         0          3                   2018   \n",
       "\n",
       "   days_as_member  \n",
       "0             443  \n",
       "1              91  \n",
       "\n",
       "[2 rows x 25 columns]"
      ]
     },
     "execution_count": 52,
     "metadata": {},
     "output_type": "execute_result"
    }
   ],
   "source": [
    "transcript = transcript.drop(['reward_y', 'id_x', 'id_y', 'offer_id', 'person'], axis=1)\n",
    "transcript.head(2)"
   ]
  },
  {
   "cell_type": "code",
   "execution_count": 53,
   "metadata": {},
   "outputs": [
    {
     "data": {
      "text/html": [
       "<div>\n",
       "<style scoped>\n",
       "    .dataframe tbody tr th:only-of-type {\n",
       "        vertical-align: middle;\n",
       "    }\n",
       "\n",
       "    .dataframe tbody tr th {\n",
       "        vertical-align: top;\n",
       "    }\n",
       "\n",
       "    .dataframe thead th {\n",
       "        text-align: right;\n",
       "    }\n",
       "</style>\n",
       "<table border=\"1\" class=\"dataframe\">\n",
       "  <thead>\n",
       "    <tr style=\"text-align: right;\">\n",
       "      <th></th>\n",
       "      <th>event</th>\n",
       "      <th>time</th>\n",
       "      <th>amount</th>\n",
       "      <th>reward</th>\n",
       "      <th>offer_type</th>\n",
       "      <th>difficulty</th>\n",
       "      <th>duration</th>\n",
       "      <th>email</th>\n",
       "      <th>mobile</th>\n",
       "      <th>social</th>\n",
       "      <th>...</th>\n",
       "      <th>gender</th>\n",
       "      <th>age</th>\n",
       "      <th>became_member_on</th>\n",
       "      <th>income</th>\n",
       "      <th>gender_F</th>\n",
       "      <th>gender_M</th>\n",
       "      <th>gender_O</th>\n",
       "      <th>profile_id</th>\n",
       "      <th>became_member_on_year</th>\n",
       "      <th>days_as_member</th>\n",
       "    </tr>\n",
       "  </thead>\n",
       "  <tbody>\n",
       "    <tr>\n",
       "      <th>0</th>\n",
       "      <td>offer received</td>\n",
       "      <td>0</td>\n",
       "      <td>0.0</td>\n",
       "      <td>0</td>\n",
       "      <td>bogo</td>\n",
       "      <td>5.0</td>\n",
       "      <td>7.0</td>\n",
       "      <td>1.0</td>\n",
       "      <td>1.0</td>\n",
       "      <td>0.0</td>\n",
       "      <td>...</td>\n",
       "      <td>F</td>\n",
       "      <td>75</td>\n",
       "      <td>2017-05-09</td>\n",
       "      <td>100000.0</td>\n",
       "      <td>1</td>\n",
       "      <td>0</td>\n",
       "      <td>0</td>\n",
       "      <td>2</td>\n",
       "      <td>2017</td>\n",
       "      <td>443</td>\n",
       "    </tr>\n",
       "    <tr>\n",
       "      <th>1</th>\n",
       "      <td>offer received</td>\n",
       "      <td>0</td>\n",
       "      <td>0.0</td>\n",
       "      <td>0</td>\n",
       "      <td>discount</td>\n",
       "      <td>10.0</td>\n",
       "      <td>7.0</td>\n",
       "      <td>1.0</td>\n",
       "      <td>1.0</td>\n",
       "      <td>0.0</td>\n",
       "      <td>...</td>\n",
       "      <td>M</td>\n",
       "      <td>68</td>\n",
       "      <td>2018-04-26</td>\n",
       "      <td>70000.0</td>\n",
       "      <td>0</td>\n",
       "      <td>1</td>\n",
       "      <td>0</td>\n",
       "      <td>3</td>\n",
       "      <td>2018</td>\n",
       "      <td>91</td>\n",
       "    </tr>\n",
       "  </tbody>\n",
       "</table>\n",
       "<p>2 rows × 25 columns</p>\n",
       "</div>"
      ],
      "text/plain": [
       "            event  time  amount  reward offer_type  difficulty  duration  \\\n",
       "0  offer received     0     0.0       0       bogo         5.0       7.0   \n",
       "1  offer received     0     0.0       0   discount        10.0       7.0   \n",
       "\n",
       "   email  mobile  social  ...  gender  age  became_member_on    income  \\\n",
       "0    1.0     1.0     0.0  ...       F   75        2017-05-09  100000.0   \n",
       "1    1.0     1.0     0.0  ...       M   68        2018-04-26   70000.0   \n",
       "\n",
       "   gender_F gender_M  gender_O profile_id  became_member_on_year  \\\n",
       "0         1        0         0          2                   2017   \n",
       "1         0        1         0          3                   2018   \n",
       "\n",
       "   days_as_member  \n",
       "0             443  \n",
       "1              91  \n",
       "\n",
       "[2 rows x 25 columns]"
      ]
     },
     "execution_count": 53,
     "metadata": {},
     "output_type": "execute_result"
    }
   ],
   "source": [
    "transcript = transcript.rename(columns={\"reward_x\": \"reward\"})\n",
    "transcript.head(2)"
   ]
  },
  {
   "cell_type": "markdown",
   "metadata": {},
   "source": [
    "<a href='#contents'>**Go to Table of Contents**</a>"
   ]
  },
  {
   "cell_type": "markdown",
   "metadata": {},
   "source": [
    "## <a id=\"ea\">V: Exploratory Analysis </a>"
   ]
  },
  {
   "cell_type": "markdown",
   "metadata": {},
   "source": [
    "### <a id=\"ea1\">1. Describe on user data</a>"
   ]
  },
  {
   "cell_type": "code",
   "execution_count": 54,
   "metadata": {},
   "outputs": [
    {
     "data": {
      "text/html": [
       "<div>\n",
       "<style scoped>\n",
       "    .dataframe tbody tr th:only-of-type {\n",
       "        vertical-align: middle;\n",
       "    }\n",
       "\n",
       "    .dataframe tbody tr th {\n",
       "        vertical-align: top;\n",
       "    }\n",
       "\n",
       "    .dataframe thead th {\n",
       "        text-align: right;\n",
       "    }\n",
       "</style>\n",
       "<table border=\"1\" class=\"dataframe\">\n",
       "  <thead>\n",
       "    <tr style=\"text-align: right;\">\n",
       "      <th></th>\n",
       "      <th>age</th>\n",
       "      <th>income</th>\n",
       "      <th>gender_F</th>\n",
       "      <th>gender_M</th>\n",
       "      <th>gender_O</th>\n",
       "      <th>profile_id</th>\n",
       "      <th>became_member_on_year</th>\n",
       "      <th>days_as_member</th>\n",
       "    </tr>\n",
       "  </thead>\n",
       "  <tbody>\n",
       "    <tr>\n",
       "      <th>count</th>\n",
       "      <td>14825.000000</td>\n",
       "      <td>14825.000000</td>\n",
       "      <td>14825.000000</td>\n",
       "      <td>14825.000000</td>\n",
       "      <td>14825.000000</td>\n",
       "      <td>14825.000000</td>\n",
       "      <td>14825.000000</td>\n",
       "      <td>14825.000000</td>\n",
       "    </tr>\n",
       "    <tr>\n",
       "      <th>mean</th>\n",
       "      <td>54.393524</td>\n",
       "      <td>65404.991568</td>\n",
       "      <td>0.413423</td>\n",
       "      <td>0.572277</td>\n",
       "      <td>0.014300</td>\n",
       "      <td>7413.000000</td>\n",
       "      <td>2016.620169</td>\n",
       "      <td>522.478988</td>\n",
       "    </tr>\n",
       "    <tr>\n",
       "      <th>std</th>\n",
       "      <td>17.383705</td>\n",
       "      <td>21598.299410</td>\n",
       "      <td>0.492464</td>\n",
       "      <td>0.494765</td>\n",
       "      <td>0.118729</td>\n",
       "      <td>4279.753206</td>\n",
       "      <td>1.198245</td>\n",
       "      <td>419.205158</td>\n",
       "    </tr>\n",
       "    <tr>\n",
       "      <th>min</th>\n",
       "      <td>18.000000</td>\n",
       "      <td>30000.000000</td>\n",
       "      <td>0.000000</td>\n",
       "      <td>0.000000</td>\n",
       "      <td>0.000000</td>\n",
       "      <td>1.000000</td>\n",
       "      <td>2013.000000</td>\n",
       "      <td>0.000000</td>\n",
       "    </tr>\n",
       "    <tr>\n",
       "      <th>25%</th>\n",
       "      <td>42.000000</td>\n",
       "      <td>49000.000000</td>\n",
       "      <td>0.000000</td>\n",
       "      <td>0.000000</td>\n",
       "      <td>0.000000</td>\n",
       "      <td>3707.000000</td>\n",
       "      <td>2016.000000</td>\n",
       "      <td>208.000000</td>\n",
       "    </tr>\n",
       "    <tr>\n",
       "      <th>50%</th>\n",
       "      <td>55.000000</td>\n",
       "      <td>64000.000000</td>\n",
       "      <td>0.000000</td>\n",
       "      <td>1.000000</td>\n",
       "      <td>0.000000</td>\n",
       "      <td>7413.000000</td>\n",
       "      <td>2017.000000</td>\n",
       "      <td>358.000000</td>\n",
       "    </tr>\n",
       "    <tr>\n",
       "      <th>75%</th>\n",
       "      <td>66.000000</td>\n",
       "      <td>80000.000000</td>\n",
       "      <td>1.000000</td>\n",
       "      <td>1.000000</td>\n",
       "      <td>0.000000</td>\n",
       "      <td>11119.000000</td>\n",
       "      <td>2017.000000</td>\n",
       "      <td>797.000000</td>\n",
       "    </tr>\n",
       "    <tr>\n",
       "      <th>max</th>\n",
       "      <td>101.000000</td>\n",
       "      <td>120000.000000</td>\n",
       "      <td>1.000000</td>\n",
       "      <td>1.000000</td>\n",
       "      <td>1.000000</td>\n",
       "      <td>14825.000000</td>\n",
       "      <td>2018.000000</td>\n",
       "      <td>1823.000000</td>\n",
       "    </tr>\n",
       "  </tbody>\n",
       "</table>\n",
       "</div>"
      ],
      "text/plain": [
       "                age         income      gender_F      gender_M      gender_O  \\\n",
       "count  14825.000000   14825.000000  14825.000000  14825.000000  14825.000000   \n",
       "mean      54.393524   65404.991568      0.413423      0.572277      0.014300   \n",
       "std       17.383705   21598.299410      0.492464      0.494765      0.118729   \n",
       "min       18.000000   30000.000000      0.000000      0.000000      0.000000   \n",
       "25%       42.000000   49000.000000      0.000000      0.000000      0.000000   \n",
       "50%       55.000000   64000.000000      0.000000      1.000000      0.000000   \n",
       "75%       66.000000   80000.000000      1.000000      1.000000      0.000000   \n",
       "max      101.000000  120000.000000      1.000000      1.000000      1.000000   \n",
       "\n",
       "         profile_id  became_member_on_year  days_as_member  \n",
       "count  14825.000000           14825.000000    14825.000000  \n",
       "mean    7413.000000            2016.620169      522.478988  \n",
       "std     4279.753206               1.198245      419.205158  \n",
       "min        1.000000            2013.000000        0.000000  \n",
       "25%     3707.000000            2016.000000      208.000000  \n",
       "50%     7413.000000            2017.000000      358.000000  \n",
       "75%    11119.000000            2017.000000      797.000000  \n",
       "max    14825.000000            2018.000000     1823.000000  "
      ]
     },
     "execution_count": 54,
     "metadata": {},
     "output_type": "execute_result"
    }
   ],
   "source": [
    "profile.describe()"
   ]
  },
  {
   "cell_type": "markdown",
   "metadata": {},
   "source": [
    "The function describe above is very useful, we can take some insights. They are:\n",
    "- **75% of customers are over 42 years old. And the mean is 54.39;**\n",
    "- **65,404.99 is the mean of income, and it is near to median which is 64,000.00;**\n",
    "- **About gender, men represent 57.23%, women 41.34% and other 1.43%; and**\n",
    "- **The sign up year, even with 6 years of data. The median is concentrated on the last two years.**\n",
    "    "
   ]
  },
  {
   "cell_type": "markdown",
   "metadata": {},
   "source": [
    "<a href='#contents'>**Go to Table of Contents**</a>"
   ]
  },
  {
   "cell_type": "markdown",
   "metadata": {},
   "source": [
    "### <a id=\"ea2\">2. Distribution of User Data by demographics variables</a>"
   ]
  },
  {
   "cell_type": "code",
   "execution_count": 55,
   "metadata": {
    "scrolled": true
   },
   "outputs": [
    {
     "data": {
      "image/png": "[encoded data removed]",
      "text/plain": [
       "<Figure size 936x864 with 4 Axes>"
      ]
     },
     "metadata": {},
     "output_type": "display_data"
    }
   ],
   "source": [
    "import matplotlib.pyplot as plt\n",
    "\n",
    "fig, ax = plt.subplots(2, 2, figsize=(13, 12))\n",
    "fig.suptitle('Distribution of Customer Data', fontsize=15, weight='bold')\n",
    "\n",
    "\n",
    "plt.subplot(2, 2, 1)\n",
    "plt.hist(profile['age']);\n",
    "plt.title(\"Age Distribution\");\n",
    "plt.xlabel(\"Age\");\n",
    "plt.ylabel(\"Frequency\");\n",
    "\n",
    "plt.subplot(2, 2, 2)\n",
    "plt.hist(profile['income']);\n",
    "plt.style.use('seaborn')\n",
    "plt.title(\"Income Distribution\");\n",
    "plt.xlabel(\"Income\");\n",
    "plt.ylabel(\"Frequency\");\n",
    "\n",
    "plt.subplot(2, 2, 3)\n",
    "plt.hist(profile['gender'])\n",
    "plt.title(\"Gender Distribution\");\n",
    "plt.xlabel(\"Gender\");\n",
    "plt.ylabel(\"Frequency\");\n",
    "\n",
    "plt.subplot(2, 2, 4)\n",
    "plt.hist(profile['became_member_on_year'])\n",
    "plt.title(\"Sign up year Distribution\");\n",
    "plt.xlabel(\"Year\");\n",
    "plt.ylabel(\"Frequency\");"
   ]
  },
  {
   "cell_type": "markdown",
   "metadata": {},
   "source": [
    "<a href='#contents'>**Go to Table of Contents**</a>"
   ]
  },
  {
   "cell_type": "markdown",
   "metadata": {},
   "source": [
    "### <a id=\"ea3\">3. Distribution of Event Data</a>"
   ]
  },
  {
   "cell_type": "code",
   "execution_count": 57,
   "metadata": {
    "scrolled": true
   },
   "outputs": [
    {
     "data": {
      "image/png": "[encoded data removed]",
      "text/plain": [
       "<Figure size 576x396 with 1 Axes>"
      ]
     },
     "metadata": {},
     "output_type": "display_data"
    }
   ],
   "source": [
    "transcript['event'].value_counts(ascending=True).plot(kind=\"barh\")\n",
    "plt.title(\"Event Distribution\", fontsize=13, weight='bold' );"
   ]
  },
  {
   "cell_type": "markdown",
   "metadata": {},
   "source": [
    "The plot above shows all events. Almost half of all events were transactions (45%). 24% of events were offer received and the completion  of them represents about half, with 11%."
   ]
  },
  {
   "cell_type": "markdown",
   "metadata": {},
   "source": [
    "<a href='#contents'>**Go to Table of Contents**</a>"
   ]
  },
  {
   "cell_type": "markdown",
   "metadata": {},
   "source": [
    "### <a id=\"ea4\">4. Distribution of Offer type</a>"
   ]
  },
  {
   "cell_type": "code",
   "execution_count": 58,
   "metadata": {},
   "outputs": [
    {
     "data": {
      "image/png": "[encoded data removed]",
      "text/plain": [
       "<Figure size 576x396 with 1 Axes>"
      ]
     },
     "metadata": {},
     "output_type": "display_data"
    }
   ],
   "source": [
    "transcript['offer_type'].value_counts(ascending=True).plot(kind=\"barh\")\n",
    "plt.title(\"Offer type Distribution\", fontsize=13, weight='bold');"
   ]
  },
  {
   "cell_type": "markdown",
   "metadata": {},
   "source": [
    "The chart exhibits the distribution of offer type. The bogo and discount are very close followed of informational."
   ]
  },
  {
   "cell_type": "markdown",
   "metadata": {},
   "source": [
    "Below, **it's created based on df = transcript, the df with offers sent by Starbucks**"
   ]
  },
  {
   "cell_type": "markdown",
   "metadata": {},
   "source": [
    "<a href='#contents'>**Go to Table of Contents**</a>"
   ]
  },
  {
   "cell_type": "markdown",
   "metadata": {},
   "source": [
    "### <a id=\"ea5\">5. Data Processing: Filter only offer received</a>"
   ]
  },
  {
   "cell_type": "code",
   "execution_count": 59,
   "metadata": {},
   "outputs": [],
   "source": [
    "offers_sent = transcript[transcript.event == 'offer received']"
   ]
  },
  {
   "cell_type": "code",
   "execution_count": 60,
   "metadata": {},
   "outputs": [
    {
     "name": "stdout",
     "output_type": "stream",
     "text": [
      "A total of 66501 offers were sent to 14820 users.\n",
      "\n"
     ]
    }
   ],
   "source": [
    "print(f'A total of {offers_sent.shape[0]} offers were sent to {offers_sent.profile_id.nunique()} users.\\n')"
   ]
  },
  {
   "cell_type": "code",
   "execution_count": 61,
   "metadata": {},
   "outputs": [
    {
     "data": {
      "text/plain": [
       "Index(['event', 'time', 'amount', 'reward', 'offer_type', 'difficulty',\n",
       "       'duration', 'email', 'mobile', 'social', 'web', 'offer_type_bogo',\n",
       "       'offer_type_discount', 'offer_type_informational', 'portfolio_id',\n",
       "       'gender', 'age', 'became_member_on', 'income', 'gender_F', 'gender_M',\n",
       "       'gender_O', 'profile_id', 'became_member_on_year', 'days_as_member'],\n",
       "      dtype='object')"
      ]
     },
     "execution_count": 61,
     "metadata": {},
     "output_type": "execute_result"
    }
   ],
   "source": [
    "offers_sent.columns"
   ]
  },
  {
   "cell_type": "markdown",
   "metadata": {},
   "source": [
    "Now, let's set int64 type some columns, which will be used"
   ]
  },
  {
   "cell_type": "markdown",
   "metadata": {},
   "source": [
    "<a href='#contents'>**Go to Table of Contents**</a>"
   ]
  },
  {
   "cell_type": "markdown",
   "metadata": {},
   "source": [
    "### <a id=\"ea6\">6. Distribution of Offers Received by Each Customer</a>"
   ]
  },
  {
   "cell_type": "code",
   "execution_count": 62,
   "metadata": {
    "scrolled": true
   },
   "outputs": [
    {
     "name": "stderr",
     "output_type": "stream",
     "text": [
      "<ipython-input-62-8e257a3c8874>:3: SettingWithCopyWarning: \n",
      "A value is trying to be set on a copy of a slice from a DataFrame.\n",
      "Try using .loc[row_indexer,col_indexer] = value instead\n",
      "\n",
      "See the caveats in the documentation: https://pandas.pydata.org/pandas-docs/stable/user_guide/indexing.html#returning-a-view-versus-a-copy\n",
      "  offers_sent[i] = offers_sent[i].astype('int64')\n"
     ]
    }
   ],
   "source": [
    "l_int64 = ['time', 'portfolio_id', 'profile_id']\n",
    "for i in l_int64:\n",
    "    offers_sent[i] = offers_sent[i].astype('int64')"
   ]
  },
  {
   "cell_type": "code",
   "execution_count": 63,
   "metadata": {
    "scrolled": true
   },
   "outputs": [
    {
     "data": {
      "image/png": "[encoded data removed]",
      "text/plain": [
       "<Figure size 576x396 with 1 Axes>"
      ]
     },
     "metadata": {},
     "output_type": "display_data"
    }
   ],
   "source": [
    "offers_sent.groupby('profile_id').portfolio_id.count().value_counts().sort_index().plot(kind='bar')\n",
    "plt.title('Distribution of Offers Received by Each Customer', fontsize=13, weight='bold')\n",
    "plt.xlabel('Number of offers received')\n",
    "plt.ylabel('User count');"
   ]
  },
  {
   "cell_type": "code",
   "execution_count": 64,
   "metadata": {},
   "outputs": [
    {
     "name": "stdout",
     "output_type": "stream",
     "text": [
      "Maximum number of offers sent by a one customer: 6\n"
     ]
    }
   ],
   "source": [
    "max_offers_by_user = offers_sent.groupby('profile_id').portfolio_id.count().max()\n",
    "print('Maximum number of offers sent by a one customer: {}'.format(max_offers_by_user))"
   ]
  },
  {
   "cell_type": "code",
   "execution_count": 65,
   "metadata": {
    "scrolled": true
   },
   "outputs": [
    {
     "name": "stdout",
     "output_type": "stream",
     "text": [
      "Maximum number of same offers sent by a one customer at the same time: 1\n"
     ]
    }
   ],
   "source": [
    "max_offers_by_user_and_time = offers_sent.groupby(['profile_id', 'time']).portfolio_id.count().max()\n",
    "print('Maximum number of same offers sent by a one customer at the same time: {}'.format(max_offers_by_user_and_time))"
   ]
  },
  {
   "cell_type": "markdown",
   "metadata": {},
   "source": [
    "With those prints above, it's portrayed that the time, offer and profile id can be a key to find the events correlated to them in the transcript dataframe."
   ]
  },
  {
   "cell_type": "markdown",
   "metadata": {},
   "source": [
    "<a href='#contents'>**Go to Table of Contents**</a>"
   ]
  },
  {
   "cell_type": "markdown",
   "metadata": {},
   "source": [
    "### <a id=\"ea7\">7. Data Processing: Create columns of success or loss of Offers sent</a>"
   ]
  },
  {
   "cell_type": "code",
   "execution_count": 66,
   "metadata": {
    "scrolled": true
   },
   "outputs": [
    {
     "name": "stderr",
     "output_type": "stream",
     "text": [
      "<ipython-input-66-162d0a257f04>:1: SettingWithCopyWarning: \n",
      "A value is trying to be set on a copy of a slice from a DataFrame.\n",
      "Try using .loc[row_indexer,col_indexer] = value instead\n",
      "\n",
      "See the caveats in the documentation: https://pandas.pydata.org/pandas-docs/stable/user_guide/indexing.html#returning-a-view-versus-a-copy\n",
      "  offers_sent['expiration_time'] = offers_sent['time'] + offers_sent['duration']*24\n",
      "<ipython-input-66-162d0a257f04>:2: SettingWithCopyWarning: \n",
      "A value is trying to be set on a copy of a slice from a DataFrame.\n",
      "Try using .loc[row_indexer,col_indexer] = value instead\n",
      "\n",
      "See the caveats in the documentation: https://pandas.pydata.org/pandas-docs/stable/user_guide/indexing.html#returning-a-view-versus-a-copy\n",
      "  offers_sent['expiration_time'] = offers_sent['expiration_time'].astype('int64')\n"
     ]
    }
   ],
   "source": [
    "offers_sent['expiration_time'] = offers_sent['time'] + offers_sent['duration']*24\n",
    "offers_sent['expiration_time'] = offers_sent['expiration_time'].astype('int64')"
   ]
  },
  {
   "cell_type": "markdown",
   "metadata": {},
   "source": [
    "#### Create columns of sucess - Viewed and Completed"
   ]
  },
  {
   "cell_type": "markdown",
   "metadata": {},
   "source": [
    "In this part, it will be created the binary columns of offer completed and viewed."
   ]
  },
  {
   "cell_type": "code",
   "execution_count": 68,
   "metadata": {},
   "outputs": [],
   "source": [
    "def set_event_time(row, event='offer viewed', transcript=transcript):\n",
    "    '''\n",
    "    Loop for each row, looking for the time of the offer sent and returns the time of viewed or completed offer, \n",
    "    if the offer wasn't vieweved or completed returns null (np.nan).\n",
    "    \n",
    "    INPUT:\n",
    "    row (pandas series) : row from offers_sent data frame. The loop is making in this dataframe, all values needed to be\n",
    "                            \"row.\" before the name of column\n",
    "    event (str) : 'offer viewed' or 'offer completed'\n",
    "    transcript (data frame) : fact table with all events without filters\n",
    "    \n",
    "    OUTPUT:\n",
    "    time_of_event (float): time of event (completed or viewed) when it's the case, else np.nan\n",
    "    '''\n",
    "    \n",
    "\n",
    "    # Check if there is a register with the key portfolio_id + profile_id inside the maximum duration\n",
    "    try:\n",
    "        time_of_event = transcript[((transcript.time >= row.time) & (transcript.time <= row.expiration_time)) #check if there is a value in range of time\n",
    "                                & (transcript.portfolio_id == row.portfolio_id) #key offer id\n",
    "                                & (transcript.event == event) & (transcript.profile_id == row.profile_id)].time.values[0] #key user id\n",
    "                                 \n",
    "    except:\n",
    "        time_of_event = np.nan\n",
    "\n",
    "    return time_of_event"
   ]
  },
  {
   "cell_type": "markdown",
   "metadata": {},
   "source": [
    "The command below **takes a long time**, because of validations and rules. But, it's very important to have the column with success or not of the viewed and completed actions."
   ]
  },
  {
   "cell_type": "code",
   "execution_count": 69,
   "metadata": {
    "scrolled": true
   },
   "outputs": [
    {
     "name": "stderr",
     "output_type": "stream",
     "text": [
      "<ipython-input-69-bda7b85ce209>:2: SettingWithCopyWarning: \n",
      "A value is trying to be set on a copy of a slice from a DataFrame.\n",
      "Try using .loc[row_indexer,col_indexer] = value instead\n",
      "\n",
      "See the caveats in the documentation: https://pandas.pydata.org/pandas-docs/stable/user_guide/indexing.html#returning-a-view-versus-a-copy\n",
      "  offers_sent['time_viewed'] = offers_sent.apply(set_event_time, event='offer viewed', axis=1)\n",
      "<ipython-input-69-bda7b85ce209>:3: SettingWithCopyWarning: \n",
      "A value is trying to be set on a copy of a slice from a DataFrame.\n",
      "Try using .loc[row_indexer,col_indexer] = value instead\n",
      "\n",
      "See the caveats in the documentation: https://pandas.pydata.org/pandas-docs/stable/user_guide/indexing.html#returning-a-view-versus-a-copy\n",
      "  offers_sent['time_completed'] = offers_sent.apply(set_event_time, event='offer completed', axis=1)\n"
     ]
    }
   ],
   "source": [
    "# Add new columns with times when offer sent was viewed and/or completed\n",
    "offers_sent['time_viewed'] = offers_sent.apply(set_event_time, event='offer viewed', axis=1)\n",
    "offers_sent['time_completed'] = offers_sent.apply(set_event_time, event='offer completed', axis=1)"
   ]
  },
  {
   "cell_type": "markdown",
   "metadata": {},
   "source": [
    "As we don't have data of completed offers about information. Let's consider the situation, **always the information is followed by a transaction inside of the time of offer and after the user viewed, returns 1 else 0**."
   ]
  },
  {
   "cell_type": "code",
   "execution_count": 70,
   "metadata": {},
   "outputs": [],
   "source": [
    "def set_event_time_information_offer(row, transcript=transcript):\n",
    "    '''\n",
    "    Loop for each row, looking for one transcation after time of the offer information was sent \n",
    "    and returns the time of completed offer, if the offer didn't have a transaction returns null (np.nan).\n",
    "    \n",
    "    INPUT:\n",
    "    row (pandas series) : row from offers_sent data frame. The loop is making in this dataframe, all values needed to be\n",
    "                            \"row.\" before the name of column\n",
    "    transcript (data frame) : fact table with all events without filters\n",
    "    \n",
    "    OUTPUT:\n",
    "    (int): time of event completed when it's the case, else np.nan\n",
    "    '''\n",
    "\n",
    "    # Check if there were any transactions between offer was viewed and offer duration ended\n",
    "    try:\n",
    "        time_of_event = transcript[(transcript.event == 'transaction') & (transcript.profile_id == row.profile_id) \n",
    "                      & (transcript.time >= row.time) & (transcript.time <= row.expiration_time)].time.values[0]\n",
    "        \n",
    "    except:\n",
    "        time_of_event = np.nan\n",
    "    \n",
    "As we don't have data of completed offers about information. Let's consider the situation, always the information is followed by a transaction inside of the time of offer and after the user viewed, returns 1 else 0.    return time_of_event"
   ]
  },
  {
   "cell_type": "code",
   "execution_count": 71,
   "metadata": {},
   "outputs": [
    {
     "name": "stderr",
     "output_type": "stream",
     "text": [
      "c:\\users\\mathe\\appdata\\local\\programs\\python\\python39\\lib\\site-packages\\pandas\\core\\indexing.py:1676: SettingWithCopyWarning: \n",
      "A value is trying to be set on a copy of a slice from a DataFrame.\n",
      "Try using .loc[row_indexer,col_indexer] = value instead\n",
      "\n",
      "See the caveats in the documentation: https://pandas.pydata.org/pandas-docs/stable/user_guide/indexing.html#returning-a-view-versus-a-copy\n",
      "  self._setitem_single_column(ilocs[0], value, pi)\n"
     ]
    }
   ],
   "source": [
    "filter_information = ((offers_sent.portfolio_id.isin([3,8]))&(offers_sent.time_viewed.notnull()))\n",
    "offers_sent.loc[filter_information,'time_completed' ] = offers_sent[filter_information].apply(set_event_time_information_offer, axis=1)"
   ]
  },
  {
   "cell_type": "code",
   "execution_count": 72,
   "metadata": {
    "scrolled": false
   },
   "outputs": [
    {
     "name": "stderr",
     "output_type": "stream",
     "text": [
      "<ipython-input-72-6f30a9efb7fe>:1: SettingWithCopyWarning: \n",
      "A value is trying to be set on a copy of a slice from a DataFrame.\n",
      "Try using .loc[row_indexer,col_indexer] = value instead\n",
      "\n",
      "See the caveats in the documentation: https://pandas.pydata.org/pandas-docs/stable/user_guide/indexing.html#returning-a-view-versus-a-copy\n",
      "  offers_sent['success_completed'] = ((offers_sent.time_completed.notnull()) & (offers_sent.time_viewed <= offers_sent.time_completed)).astype(int)\n",
      "<ipython-input-72-6f30a9efb7fe>:2: SettingWithCopyWarning: \n",
      "A value is trying to be set on a copy of a slice from a DataFrame.\n",
      "Try using .loc[row_indexer,col_indexer] = value instead\n",
      "\n",
      "See the caveats in the documentation: https://pandas.pydata.org/pandas-docs/stable/user_guide/indexing.html#returning-a-view-versus-a-copy\n",
      "  offers_sent['success_viewed'] = ((offers_sent.time_viewed.notnull())).astype(int)\n"
     ]
    }
   ],
   "source": [
    "offers_sent['success_completed'] = ((offers_sent.time_completed.notnull()) & (offers_sent.time_viewed <= offers_sent.time_completed)).astype(int)\n",
    "offers_sent['success_viewed'] = ((offers_sent.time_viewed.notnull())).astype(int)"
   ]
  },
  {
   "cell_type": "markdown",
   "metadata": {},
   "source": [
    "The command above shows how to encode with 1 success event and 0 no success event. "
   ]
  },
  {
   "cell_type": "markdown",
   "metadata": {},
   "source": [
    "##### After the work of data engeneering, we can use the metrics of succes and loss offer."
   ]
  },
  {
   "cell_type": "markdown",
   "metadata": {},
   "source": [
    "<a href='#contents'>**Go to Table of Contents**</a>"
   ]
  },
  {
   "cell_type": "markdown",
   "metadata": {},
   "source": [
    "### <a id=\"ea8\">8. How many offers were sent out, viewed and completed?</a>"
   ]
  },
  {
   "cell_type": "code",
   "execution_count": 73,
   "metadata": {},
   "outputs": [],
   "source": [
    "# define variables\n",
    "success_viewed = offers_sent['success_viewed'].sum()\n",
    "success_completed = offers_sent['success_completed'].sum()\n",
    "total_offers = offers_sent.shape[0]"
   ]
  },
  {
   "cell_type": "code",
   "execution_count": 74,
   "metadata": {},
   "outputs": [],
   "source": [
    "# transform to a dataframe\n",
    "values= [total_offers,success_viewed,success_completed]\n",
    "d = {'Total Offers': [total_offers], 'Viewed Success': [success_viewed], 'Completed Success': [success_completed]}\n",
    "df_summary = pd.DataFrame(data=d, index=['count'])"
   ]
  },
  {
   "cell_type": "code",
   "execution_count": 75,
   "metadata": {
    "scrolled": false
   },
   "outputs": [
    {
     "data": {
      "text/html": [
       "<div>\n",
       "<style scoped>\n",
       "    .dataframe tbody tr th:only-of-type {\n",
       "        vertical-align: middle;\n",
       "    }\n",
       "\n",
       "    .dataframe tbody tr th {\n",
       "        vertical-align: top;\n",
       "    }\n",
       "\n",
       "    .dataframe thead th {\n",
       "        text-align: right;\n",
       "    }\n",
       "</style>\n",
       "<table border=\"1\" class=\"dataframe\">\n",
       "  <thead>\n",
       "    <tr style=\"text-align: right;\">\n",
       "      <th></th>\n",
       "      <th>Total Offers</th>\n",
       "      <th>Viewed Success</th>\n",
       "      <th>Completed Success</th>\n",
       "    </tr>\n",
       "  </thead>\n",
       "  <tbody>\n",
       "    <tr>\n",
       "      <th>count</th>\n",
       "      <td>66501</td>\n",
       "      <td>49126</td>\n",
       "      <td>27191</td>\n",
       "    </tr>\n",
       "  </tbody>\n",
       "</table>\n",
       "</div>"
      ],
      "text/plain": [
       "       Total Offers  Viewed Success  Completed Success\n",
       "count         66501           49126              27191"
      ]
     },
     "execution_count": 75,
     "metadata": {},
     "output_type": "execute_result"
    },
    {
     "data": {
      "image/png": "[encoded data removed]",
      "text/plain": [
       "<Figure size 720x288 with 1 Axes>"
      ]
     },
     "metadata": {},
     "output_type": "display_data"
    }
   ],
   "source": [
    "df_summary.plot(kind='barh', figsize=(10, 4), stacked=True)\n",
    "plt.title('Total Offers, Viewed Success and Completed Success', fontsize=13, weight='bold')\n",
    "df_summary"
   ]
  },
  {
   "cell_type": "markdown",
   "metadata": {},
   "source": [
    "In this plot, we can see the distribution of total offers, viewed success and completed success. The **relationship between viewed success and completed success is about half.**"
   ]
  },
  {
   "cell_type": "code",
   "execution_count": 76,
   "metadata": {
    "scrolled": false
   },
   "outputs": [
    {
     "data": {
      "text/html": [
       "<div>\n",
       "<style scoped>\n",
       "    .dataframe tbody tr th:only-of-type {\n",
       "        vertical-align: middle;\n",
       "    }\n",
       "\n",
       "    .dataframe tbody tr th {\n",
       "        vertical-align: top;\n",
       "    }\n",
       "\n",
       "    .dataframe thead th {\n",
       "        text-align: right;\n",
       "    }\n",
       "</style>\n",
       "<table border=\"1\" class=\"dataframe\">\n",
       "  <thead>\n",
       "    <tr style=\"text-align: right;\">\n",
       "      <th></th>\n",
       "      <th>success_viewed</th>\n",
       "      <th>success_completed</th>\n",
       "    </tr>\n",
       "  </thead>\n",
       "  <tbody>\n",
       "    <tr>\n",
       "      <th>sum</th>\n",
       "      <td>49126.000000</td>\n",
       "      <td>27191.000000</td>\n",
       "    </tr>\n",
       "    <tr>\n",
       "      <th>mean</th>\n",
       "      <td>0.738726</td>\n",
       "      <td>0.408881</td>\n",
       "    </tr>\n",
       "  </tbody>\n",
       "</table>\n",
       "</div>"
      ],
      "text/plain": [
       "      success_viewed  success_completed\n",
       "sum     49126.000000       27191.000000\n",
       "mean        0.738726           0.408881"
      ]
     },
     "execution_count": 76,
     "metadata": {},
     "output_type": "execute_result"
    },
    {
     "data": {
      "image/png": "[encoded data removed]",
      "text/plain": [
       "<Figure size 720x288 with 1 Axes>"
      ]
     },
     "metadata": {},
     "output_type": "display_data"
    }
   ],
   "source": [
    "offers_sent.agg({ 'success_viewed': ['sum'], 'success_completed' : ['sum']}).plot(\n",
    "    kind='barh', figsize=(10, 4), stacked=True)\n",
    "plt.title('Viewed Success x Completed Success', fontsize=13, weight='bold')\n",
    "plt.legend(['Viewed Success', 'Completed Success'])\n",
    "offers_sent.agg({'success_viewed': ['sum', 'mean'], 'success_completed' : ['sum', 'mean']})"
   ]
  },
  {
   "cell_type": "markdown",
   "metadata": {},
   "source": [
    "This image highlighted the percent of success in comparison with total offers."
   ]
  },
  {
   "cell_type": "markdown",
   "metadata": {},
   "source": [
    "<a href='#contents'>**Go to Table of Contents**</a>"
   ]
  },
  {
   "cell_type": "markdown",
   "metadata": {},
   "source": [
    "### <a id=\"ea9\">9.  What type of offer has the best rate of completion?</a>"
   ]
  },
  {
   "cell_type": "code",
   "execution_count": 77,
   "metadata": {},
   "outputs": [],
   "source": [
    "offers_sent_summary = (offers_sent.groupby('offer_type', as_index=False)\n",
    "      .agg(\n",
    "      total_offers = ('success_completed','count'),\n",
    "      success_viewed_total = ('success_viewed','sum'), \n",
    "      success_viewed_pct = ('success_viewed','mean'),\n",
    "      success_completed_total = ('success_completed','sum'),\n",
    "      success_completed_pct = ('success_completed','mean'),\n",
    "      )).set_index('offer_type')"
   ]
  },
  {
   "cell_type": "code",
   "execution_count": 78,
   "metadata": {},
   "outputs": [],
   "source": [
    "offers_sent_summary = offers_sent_summary.sort_values('success_completed_pct', ascending = False)"
   ]
  },
  {
   "cell_type": "code",
   "execution_count": 79,
   "metadata": {
    "scrolled": true
   },
   "outputs": [],
   "source": [
    "offers_sent_summary = offers_sent_summary.reset_index()"
   ]
  },
  {
   "cell_type": "code",
   "execution_count": 80,
   "metadata": {
    "scrolled": true
   },
   "outputs": [
    {
     "data": {
      "image/png": "[encoded data removed]",
      "text/plain": [
       "<Figure size 720x288 with 1 Axes>"
      ]
     },
     "metadata": {},
     "output_type": "display_data"
    }
   ],
   "source": [
    "plt.figure(figsize=(10, 4))\n",
    "plt.title('Rate of Completed Offers by Offer Type', fontsize=16, weight='bold')\n",
    "sns.barplot(data=offers_sent_summary, x='success_completed_pct', y='offer_type', orient='h');"
   ]
  },
  {
   "cell_type": "code",
   "execution_count": 81,
   "metadata": {
    "scrolled": false
   },
   "outputs": [
    {
     "data": {
      "text/html": [
       "<div>\n",
       "<style scoped>\n",
       "    .dataframe tbody tr th:only-of-type {\n",
       "        vertical-align: middle;\n",
       "    }\n",
       "\n",
       "    .dataframe tbody tr th {\n",
       "        vertical-align: top;\n",
       "    }\n",
       "\n",
       "    .dataframe thead th {\n",
       "        text-align: right;\n",
       "    }\n",
       "</style>\n",
       "<table border=\"1\" class=\"dataframe\">\n",
       "  <thead>\n",
       "    <tr style=\"text-align: right;\">\n",
       "      <th></th>\n",
       "      <th>offer_type</th>\n",
       "      <th>total_offers</th>\n",
       "      <th>success_viewed_total</th>\n",
       "      <th>success_viewed_pct</th>\n",
       "      <th>success_completed_total</th>\n",
       "      <th>success_completed_pct</th>\n",
       "    </tr>\n",
       "  </thead>\n",
       "  <tbody>\n",
       "    <tr>\n",
       "      <th>0</th>\n",
       "      <td>discount</td>\n",
       "      <td>26664</td>\n",
       "      <td>18555</td>\n",
       "      <td>0.695882</td>\n",
       "      <td>11920</td>\n",
       "      <td>0.447045</td>\n",
       "    </tr>\n",
       "    <tr>\n",
       "      <th>1</th>\n",
       "      <td>bogo</td>\n",
       "      <td>26537</td>\n",
       "      <td>21969</td>\n",
       "      <td>0.827863</td>\n",
       "      <td>10779</td>\n",
       "      <td>0.406188</td>\n",
       "    </tr>\n",
       "    <tr>\n",
       "      <th>2</th>\n",
       "      <td>informational</td>\n",
       "      <td>13300</td>\n",
       "      <td>8602</td>\n",
       "      <td>0.646767</td>\n",
       "      <td>4492</td>\n",
       "      <td>0.337744</td>\n",
       "    </tr>\n",
       "  </tbody>\n",
       "</table>\n",
       "</div>"
      ],
      "text/plain": [
       "      offer_type  total_offers  success_viewed_total  success_viewed_pct  \\\n",
       "0       discount         26664                 18555            0.695882   \n",
       "1           bogo         26537                 21969            0.827863   \n",
       "2  informational         13300                  8602            0.646767   \n",
       "\n",
       "   success_completed_total  success_completed_pct  \n",
       "0                    11920               0.447045  \n",
       "1                    10779               0.406188  \n",
       "2                     4492               0.337744  "
      ]
     },
     "execution_count": 81,
     "metadata": {},
     "output_type": "execute_result"
    }
   ],
   "source": [
    "offers_sent_summary.sort_values('success_completed_pct', ascending = False)"
   ]
  },
  {
   "cell_type": "markdown",
   "metadata": {},
   "source": [
    "Different from the previous question, here we can see better the success for each offer type. As a lot of people have already expected, the **informational type has the worst rate** and discount with best near the buy one get one, called \"bogo\"."
   ]
  },
  {
   "cell_type": "markdown",
   "metadata": {},
   "source": [
    "<a href='#contents'>**Go to Table of Contents**</a>"
   ]
  },
  {
   "cell_type": "markdown",
   "metadata": {},
   "source": [
    "### <a id=\"ea10\">10.  What platform has the best rate of completion?</a>"
   ]
  },
  {
   "cell_type": "code",
   "execution_count": 82,
   "metadata": {},
   "outputs": [
    {
     "data": {
      "image/png": "[encoded data removed]",
      "text/plain": [
       "<Figure size 1008x360 with 4 Axes>"
      ]
     },
     "metadata": {},
     "output_type": "display_data"
    }
   ],
   "source": [
    "# Visualize success probability grouped by channel\n",
    "fig, ax = plt.subplots(1, 4, figsize=(14, 5))\n",
    "fig.suptitle('Offer Success by Channel', fontsize=15, weight='bold')\n",
    "\n",
    "# social\n",
    "plt.subplot(1, 4, 1)\n",
    "ax1 = sns.barplot(data=offers_sent[offers_sent.social==1], x='social', y='success_completed')\n",
    "ax1.set_title('Social', fontsize=13, weight='bold');\n",
    "\n",
    "# mobile\n",
    "plt.subplot(1, 4, 2, sharey=ax1)\n",
    "ax2 = sns.barplot(data=offers_sent[offers_sent.mobile==1], x='mobile', y='success_completed')\n",
    "ax2.set_title('Mobile', fontsize=13, weight='bold');\n",
    "\n",
    "# web\n",
    "plt.subplot(1, 4, 3, sharey=ax1)\n",
    "ax3 = sns.barplot(data=offers_sent[offers_sent.web==1], x='web', y='success_completed')\n",
    "ax3.set_title('Web', fontsize=13, weight='bold');\n",
    "\n",
    "# email\n",
    "plt.subplot(1, 4, 4, sharey=ax1)\n",
    "ax3 = sns.barplot(data=offers_sent[offers_sent.email==1], x='email', y='success_completed')\n",
    "ax3.set_title('Email', fontsize=13, weight='bold');"
   ]
  },
  {
   "cell_type": "markdown",
   "metadata": {},
   "source": [
    "**All rates here are near the 50% and 40%**, which seems that this type of feature doesn't make a lot of influence in the success of a coupon."
   ]
  },
  {
   "cell_type": "markdown",
   "metadata": {},
   "source": [
    "<a href='#contents'>**Go to Table of Contents**</a>"
   ]
  },
  {
   "cell_type": "markdown",
   "metadata": {},
   "source": [
    "### <a id=\"ea11\">11.  What offer has the best rate of completion?</a>"
   ]
  },
  {
   "cell_type": "code",
   "execution_count": 83,
   "metadata": {},
   "outputs": [],
   "source": [
    "offers_sent_summary = (offers_sent.groupby('portfolio_id', as_index=False)\n",
    "      .agg(\n",
    "      total_offers = ('success_completed','count'),\n",
    "      success_viewed_total = ('success_viewed','sum'), \n",
    "      success_viewed_pct = ('success_viewed','mean'),\n",
    "      success_completed_total = ('success_completed','sum'),\n",
    "      success_completed_pct = ('success_completed','mean'),\n",
    "      )).set_index('portfolio_id') "
   ]
  },
  {
   "cell_type": "code",
   "execution_count": 84,
   "metadata": {},
   "outputs": [],
   "source": [
    "offers_sent_summary = pd.merge(offers_sent_summary, portfolio, on='portfolio_id', how='left')"
   ]
  },
  {
   "cell_type": "code",
   "execution_count": 85,
   "metadata": {},
   "outputs": [],
   "source": [
    "offers_sent_summary = offers_sent_summary.reset_index()\n",
    "def set_summary(row, df=offers_sent_summary):\n",
    "    return 'id: '+ str(row.portfolio_id) + ' - '+ row.offer_type + ' - reward: ' + str(row.reward) + ' - difficulty: '+ str(row.difficulty) + ' - duration: ' + str(row.duration)\n",
    "\n",
    "offers_sent_summary['description'] = offers_sent_summary.apply(set_summary, axis=1)\n",
    "offers_sent_summary=offers_sent_summary.set_index('portfolio_id') "
   ]
  },
  {
   "cell_type": "code",
   "execution_count": 86,
   "metadata": {},
   "outputs": [],
   "source": [
    "offers_sent_summary = offers_sent_summary.sort_values('success_completed_pct', ascending = False)"
   ]
  },
  {
   "cell_type": "code",
   "execution_count": 87,
   "metadata": {},
   "outputs": [
    {
     "data": {
      "image/png": "[encoded data removed]",
      "text/plain": [
       "<Figure size 1080x504 with 1 Axes>"
      ]
     },
     "metadata": {},
     "output_type": "display_data"
    }
   ],
   "source": [
    "plt.figure(figsize=(15, 7))\n",
    "plt.title('Rate of Completed Offers by Offer ID', fontsize=16, weight='bold')\n",
    "sns.barplot(data=offers_sent_summary, x='success_completed_pct', y='description', orient='h');"
   ]
  },
  {
   "cell_type": "code",
   "execution_count": 88,
   "metadata": {},
   "outputs": [
    {
     "data": {
      "image/png": "[encoded data removed]",
      "text/plain": [
       "<Figure size 720x576 with 1 Axes>"
      ]
     },
     "metadata": {},
     "output_type": "display_data"
    }
   ],
   "source": [
    "offers_sent_summary = offers_sent_summary.sort_values('success_completed_pct', ascending = True)\n",
    "\n",
    "offers_sent_summary[['total_offers','success_viewed_total', 'success_completed_total']].plot(\n",
    "    kind='barh', figsize=(10, 8), stacked=True)\n",
    "plt.title('Total Offers, Viewed Success and Completed Success by Offer ID', fontsize=13, weight='bold')\n",
    "plt.legend(['Total Offers','Viewed Success', 'Completed Success']);"
   ]
  },
  {
   "cell_type": "code",
   "execution_count": 89,
   "metadata": {
    "scrolled": true
   },
   "outputs": [
    {
     "data": {
      "text/html": [
       "<div>\n",
       "<style scoped>\n",
       "    .dataframe tbody tr th:only-of-type {\n",
       "        vertical-align: middle;\n",
       "    }\n",
       "\n",
       "    .dataframe tbody tr th {\n",
       "        vertical-align: top;\n",
       "    }\n",
       "\n",
       "    .dataframe thead th {\n",
       "        text-align: right;\n",
       "    }\n",
       "</style>\n",
       "<table border=\"1\" class=\"dataframe\">\n",
       "  <thead>\n",
       "    <tr style=\"text-align: right;\">\n",
       "      <th></th>\n",
       "      <th>index</th>\n",
       "      <th>total_offers</th>\n",
       "      <th>success_viewed_total</th>\n",
       "      <th>success_viewed_pct</th>\n",
       "      <th>success_completed_total</th>\n",
       "      <th>success_completed_pct</th>\n",
       "      <th>offer_type</th>\n",
       "      <th>reward</th>\n",
       "      <th>difficulty</th>\n",
       "      <th>duration</th>\n",
       "      <th>email</th>\n",
       "      <th>mobile</th>\n",
       "      <th>social</th>\n",
       "      <th>web</th>\n",
       "      <th>offer_type_bogo</th>\n",
       "      <th>offer_type_discount</th>\n",
       "      <th>offer_type_informational</th>\n",
       "    </tr>\n",
       "    <tr>\n",
       "      <th>portfolio_id</th>\n",
       "      <th></th>\n",
       "      <th></th>\n",
       "      <th></th>\n",
       "      <th></th>\n",
       "      <th></th>\n",
       "      <th></th>\n",
       "      <th></th>\n",
       "      <th></th>\n",
       "      <th></th>\n",
       "      <th></th>\n",
       "      <th></th>\n",
       "      <th></th>\n",
       "      <th></th>\n",
       "      <th></th>\n",
       "      <th></th>\n",
       "      <th></th>\n",
       "      <th></th>\n",
       "    </tr>\n",
       "  </thead>\n",
       "  <tbody>\n",
       "    <tr>\n",
       "      <th>7</th>\n",
       "      <td>6</td>\n",
       "      <td>6652</td>\n",
       "      <td>6433</td>\n",
       "      <td>0.967078</td>\n",
       "      <td>4371</td>\n",
       "      <td>0.657096</td>\n",
       "      <td>discount</td>\n",
       "      <td>2</td>\n",
       "      <td>10</td>\n",
       "      <td>10</td>\n",
       "      <td>1</td>\n",
       "      <td>1</td>\n",
       "      <td>1</td>\n",
       "      <td>1</td>\n",
       "      <td>0</td>\n",
       "      <td>1</td>\n",
       "      <td>0</td>\n",
       "    </tr>\n",
       "    <tr>\n",
       "      <th>6</th>\n",
       "      <td>5</td>\n",
       "      <td>6655</td>\n",
       "      <td>6390</td>\n",
       "      <td>0.960180</td>\n",
       "      <td>4146</td>\n",
       "      <td>0.622990</td>\n",
       "      <td>discount</td>\n",
       "      <td>3</td>\n",
       "      <td>7</td>\n",
       "      <td>7</td>\n",
       "      <td>1</td>\n",
       "      <td>1</td>\n",
       "      <td>1</td>\n",
       "      <td>1</td>\n",
       "      <td>0</td>\n",
       "      <td>1</td>\n",
       "      <td>0</td>\n",
       "    </tr>\n",
       "    <tr>\n",
       "      <th>9</th>\n",
       "      <td>8</td>\n",
       "      <td>6576</td>\n",
       "      <td>6279</td>\n",
       "      <td>0.954836</td>\n",
       "      <td>3383</td>\n",
       "      <td>0.514446</td>\n",
       "      <td>bogo</td>\n",
       "      <td>5</td>\n",
       "      <td>5</td>\n",
       "      <td>5</td>\n",
       "      <td>1</td>\n",
       "      <td>1</td>\n",
       "      <td>1</td>\n",
       "      <td>1</td>\n",
       "      <td>1</td>\n",
       "      <td>0</td>\n",
       "      <td>0</td>\n",
       "    </tr>\n",
       "    <tr>\n",
       "      <th>8</th>\n",
       "      <td>7</td>\n",
       "      <td>6643</td>\n",
       "      <td>5414</td>\n",
       "      <td>0.814993</td>\n",
       "      <td>2869</td>\n",
       "      <td>0.431883</td>\n",
       "      <td>informational</td>\n",
       "      <td>0</td>\n",
       "      <td>0</td>\n",
       "      <td>3</td>\n",
       "      <td>1</td>\n",
       "      <td>1</td>\n",
       "      <td>1</td>\n",
       "      <td>0</td>\n",
       "      <td>0</td>\n",
       "      <td>0</td>\n",
       "      <td>1</td>\n",
       "    </tr>\n",
       "    <tr>\n",
       "      <th>2</th>\n",
       "      <td>1</td>\n",
       "      <td>6593</td>\n",
       "      <td>6282</td>\n",
       "      <td>0.952829</td>\n",
       "      <td>2748</td>\n",
       "      <td>0.416806</td>\n",
       "      <td>bogo</td>\n",
       "      <td>10</td>\n",
       "      <td>10</td>\n",
       "      <td>5</td>\n",
       "      <td>1</td>\n",
       "      <td>1</td>\n",
       "      <td>1</td>\n",
       "      <td>1</td>\n",
       "      <td>1</td>\n",
       "      <td>0</td>\n",
       "      <td>0</td>\n",
       "    </tr>\n",
       "    <tr>\n",
       "      <th>1</th>\n",
       "      <td>0</td>\n",
       "      <td>6683</td>\n",
       "      <td>5901</td>\n",
       "      <td>0.882987</td>\n",
       "      <td>2602</td>\n",
       "      <td>0.389346</td>\n",
       "      <td>bogo</td>\n",
       "      <td>10</td>\n",
       "      <td>10</td>\n",
       "      <td>7</td>\n",
       "      <td>1</td>\n",
       "      <td>1</td>\n",
       "      <td>1</td>\n",
       "      <td>0</td>\n",
       "      <td>1</td>\n",
       "      <td>0</td>\n",
       "      <td>0</td>\n",
       "    </tr>\n",
       "    <tr>\n",
       "      <th>10</th>\n",
       "      <td>9</td>\n",
       "      <td>6631</td>\n",
       "      <td>3457</td>\n",
       "      <td>0.521339</td>\n",
       "      <td>2064</td>\n",
       "      <td>0.311265</td>\n",
       "      <td>discount</td>\n",
       "      <td>2</td>\n",
       "      <td>10</td>\n",
       "      <td>7</td>\n",
       "      <td>1</td>\n",
       "      <td>1</td>\n",
       "      <td>0</td>\n",
       "      <td>1</td>\n",
       "      <td>0</td>\n",
       "      <td>1</td>\n",
       "      <td>0</td>\n",
       "    </tr>\n",
       "    <tr>\n",
       "      <th>4</th>\n",
       "      <td>3</td>\n",
       "      <td>6685</td>\n",
       "      <td>3507</td>\n",
       "      <td>0.524607</td>\n",
       "      <td>2046</td>\n",
       "      <td>0.306058</td>\n",
       "      <td>bogo</td>\n",
       "      <td>5</td>\n",
       "      <td>5</td>\n",
       "      <td>7</td>\n",
       "      <td>1</td>\n",
       "      <td>1</td>\n",
       "      <td>0</td>\n",
       "      <td>1</td>\n",
       "      <td>1</td>\n",
       "      <td>0</td>\n",
       "      <td>0</td>\n",
       "    </tr>\n",
       "    <tr>\n",
       "      <th>3</th>\n",
       "      <td>2</td>\n",
       "      <td>6657</td>\n",
       "      <td>3188</td>\n",
       "      <td>0.478894</td>\n",
       "      <td>1623</td>\n",
       "      <td>0.243804</td>\n",
       "      <td>informational</td>\n",
       "      <td>0</td>\n",
       "      <td>0</td>\n",
       "      <td>4</td>\n",
       "      <td>1</td>\n",
       "      <td>1</td>\n",
       "      <td>0</td>\n",
       "      <td>1</td>\n",
       "      <td>0</td>\n",
       "      <td>0</td>\n",
       "      <td>1</td>\n",
       "    </tr>\n",
       "    <tr>\n",
       "      <th>5</th>\n",
       "      <td>4</td>\n",
       "      <td>6726</td>\n",
       "      <td>2275</td>\n",
       "      <td>0.338240</td>\n",
       "      <td>1339</td>\n",
       "      <td>0.199078</td>\n",
       "      <td>discount</td>\n",
       "      <td>5</td>\n",
       "      <td>20</td>\n",
       "      <td>10</td>\n",
       "      <td>1</td>\n",
       "      <td>0</td>\n",
       "      <td>0</td>\n",
       "      <td>1</td>\n",
       "      <td>0</td>\n",
       "      <td>1</td>\n",
       "      <td>0</td>\n",
       "    </tr>\n",
       "  </tbody>\n",
       "</table>\n",
       "</div>"
      ],
      "text/plain": [
       "              index  total_offers  success_viewed_total  success_viewed_pct  \\\n",
       "portfolio_id                                                                  \n",
       "7                 6          6652                  6433            0.967078   \n",
       "6                 5          6655                  6390            0.960180   \n",
       "9                 8          6576                  6279            0.954836   \n",
       "8                 7          6643                  5414            0.814993   \n",
       "2                 1          6593                  6282            0.952829   \n",
       "1                 0          6683                  5901            0.882987   \n",
       "10                9          6631                  3457            0.521339   \n",
       "4                 3          6685                  3507            0.524607   \n",
       "3                 2          6657                  3188            0.478894   \n",
       "5                 4          6726                  2275            0.338240   \n",
       "\n",
       "              success_completed_total  success_completed_pct     offer_type  \\\n",
       "portfolio_id                                                                  \n",
       "7                                4371               0.657096       discount   \n",
       "6                                4146               0.622990       discount   \n",
       "9                                3383               0.514446           bogo   \n",
       "8                                2869               0.431883  informational   \n",
       "2                                2748               0.416806           bogo   \n",
       "1                                2602               0.389346           bogo   \n",
       "10                               2064               0.311265       discount   \n",
       "4                                2046               0.306058           bogo   \n",
       "3                                1623               0.243804  informational   \n",
       "5                                1339               0.199078       discount   \n",
       "\n",
       "              reward  difficulty  duration  email  mobile  social  web  \\\n",
       "portfolio_id                                                             \n",
       "7                  2          10        10      1       1       1    1   \n",
       "6                  3           7         7      1       1       1    1   \n",
       "9                  5           5         5      1       1       1    1   \n",
       "8                  0           0         3      1       1       1    0   \n",
       "2                 10          10         5      1       1       1    1   \n",
       "1                 10          10         7      1       1       1    0   \n",
       "10                 2          10         7      1       1       0    1   \n",
       "4                  5           5         7      1       1       0    1   \n",
       "3                  0           0         4      1       1       0    1   \n",
       "5                  5          20        10      1       0       0    1   \n",
       "\n",
       "              offer_type_bogo  offer_type_discount  offer_type_informational  \n",
       "portfolio_id                                                                  \n",
       "7                           0                    1                         0  \n",
       "6                           0                    1                         0  \n",
       "9                           1                    0                         0  \n",
       "8                           0                    0                         1  \n",
       "2                           1                    0                         0  \n",
       "1                           1                    0                         0  \n",
       "10                          0                    1                         0  \n",
       "4                           1                    0                         0  \n",
       "3                           0                    0                         1  \n",
       "5                           0                    1                         0  "
      ]
     },
     "execution_count": 89,
     "metadata": {},
     "output_type": "execute_result"
    }
   ],
   "source": [
    "offers_sent_summary.drop(columns=['description', 'id']).sort_values('success_completed_pct', ascending = False)"
   ]
  },
  {
   "cell_type": "markdown",
   "metadata": {},
   "source": [
    "**As we can see, the best rate is for the promotion id = 7. Discount of 2\tand spend 10 with a duration of 10 days. With the table above, it's possible to see the column of success_completed_pct and type of offer, for example.**"
   ]
  },
  {
   "cell_type": "markdown",
   "metadata": {},
   "source": [
    "<a href='#contents'>**Go to Table of Contents**</a>"
   ]
  },
  {
   "cell_type": "markdown",
   "metadata": {},
   "source": [
    "### <a id=\"ea12\">12.  Data Processing: Create columns of segmentations of Age and Income</a>"
   ]
  },
  {
   "cell_type": "markdown",
   "metadata": {},
   "source": [
    "#### Create columns of segmentation - Age and Income"
   ]
  },
  {
   "cell_type": "code",
   "execution_count": 90,
   "metadata": {},
   "outputs": [],
   "source": [
    "profile['age_group'] = pd.qcut(profile.age, 5, labels=range(1, 6)).astype(int)\n",
    "profile['income_group'] = pd.qcut(profile.income, 5, labels=range(1, 6)).astype(int)"
   ]
  },
  {
   "cell_type": "markdown",
   "metadata": {},
   "source": [
    "The aim of **those segmentations is to find some patterns**. In the following histograms, we will see if it was useful."
   ]
  },
  {
   "cell_type": "code",
   "execution_count": 91,
   "metadata": {},
   "outputs": [],
   "source": [
    "# Left join between user data into event data\n",
    "offers_with_groups = pd.merge(offers_sent, profile[['age_group','income_group', 'profile_id']], on='profile_id', how='left')"
   ]
  },
  {
   "cell_type": "code",
   "execution_count": 92,
   "metadata": {},
   "outputs": [
    {
     "data": {
      "text/html": [
       "<div>\n",
       "<style scoped>\n",
       "    .dataframe tbody tr th:only-of-type {\n",
       "        vertical-align: middle;\n",
       "    }\n",
       "\n",
       "    .dataframe tbody tr th {\n",
       "        vertical-align: top;\n",
       "    }\n",
       "\n",
       "    .dataframe thead th {\n",
       "        text-align: right;\n",
       "    }\n",
       "</style>\n",
       "<table border=\"1\" class=\"dataframe\">\n",
       "  <thead>\n",
       "    <tr style=\"text-align: right;\">\n",
       "      <th></th>\n",
       "      <th>event</th>\n",
       "      <th>time</th>\n",
       "      <th>amount</th>\n",
       "      <th>reward</th>\n",
       "      <th>offer_type</th>\n",
       "      <th>difficulty</th>\n",
       "      <th>duration</th>\n",
       "      <th>email</th>\n",
       "      <th>mobile</th>\n",
       "      <th>social</th>\n",
       "      <th>...</th>\n",
       "      <th>profile_id</th>\n",
       "      <th>became_member_on_year</th>\n",
       "      <th>days_as_member</th>\n",
       "      <th>expiration_time</th>\n",
       "      <th>time_viewed</th>\n",
       "      <th>time_completed</th>\n",
       "      <th>success_completed</th>\n",
       "      <th>success_viewed</th>\n",
       "      <th>age_group</th>\n",
       "      <th>income_group</th>\n",
       "    </tr>\n",
       "  </thead>\n",
       "  <tbody>\n",
       "    <tr>\n",
       "      <th>0</th>\n",
       "      <td>offer received</td>\n",
       "      <td>0</td>\n",
       "      <td>0.0</td>\n",
       "      <td>0</td>\n",
       "      <td>bogo</td>\n",
       "      <td>5.0</td>\n",
       "      <td>7.0</td>\n",
       "      <td>1.0</td>\n",
       "      <td>1.0</td>\n",
       "      <td>0.0</td>\n",
       "      <td>...</td>\n",
       "      <td>2</td>\n",
       "      <td>2017</td>\n",
       "      <td>443</td>\n",
       "      <td>168</td>\n",
       "      <td>6.0</td>\n",
       "      <td>132.0</td>\n",
       "      <td>1</td>\n",
       "      <td>1</td>\n",
       "      <td>5</td>\n",
       "      <td>5</td>\n",
       "    </tr>\n",
       "    <tr>\n",
       "      <th>1</th>\n",
       "      <td>offer received</td>\n",
       "      <td>0</td>\n",
       "      <td>0.0</td>\n",
       "      <td>0</td>\n",
       "      <td>discount</td>\n",
       "      <td>10.0</td>\n",
       "      <td>7.0</td>\n",
       "      <td>1.0</td>\n",
       "      <td>1.0</td>\n",
       "      <td>0.0</td>\n",
       "      <td>...</td>\n",
       "      <td>3</td>\n",
       "      <td>2018</td>\n",
       "      <td>91</td>\n",
       "      <td>168</td>\n",
       "      <td>18.0</td>\n",
       "      <td>NaN</td>\n",
       "      <td>0</td>\n",
       "      <td>1</td>\n",
       "      <td>4</td>\n",
       "      <td>3</td>\n",
       "    </tr>\n",
       "  </tbody>\n",
       "</table>\n",
       "<p>2 rows × 32 columns</p>\n",
       "</div>"
      ],
      "text/plain": [
       "            event  time  amount  reward offer_type  difficulty  duration  \\\n",
       "0  offer received     0     0.0       0       bogo         5.0       7.0   \n",
       "1  offer received     0     0.0       0   discount        10.0       7.0   \n",
       "\n",
       "   email  mobile  social  ...  profile_id  became_member_on_year  \\\n",
       "0    1.0     1.0     0.0  ...           2                   2017   \n",
       "1    1.0     1.0     0.0  ...           3                   2018   \n",
       "\n",
       "   days_as_member  expiration_time  time_viewed time_completed  \\\n",
       "0             443              168          6.0          132.0   \n",
       "1              91              168         18.0            NaN   \n",
       "\n",
       "   success_completed success_viewed  age_group  income_group  \n",
       "0                  1              1          5             5  \n",
       "1                  0              1          4             3  \n",
       "\n",
       "[2 rows x 32 columns]"
      ]
     },
     "execution_count": 92,
     "metadata": {},
     "output_type": "execute_result"
    }
   ],
   "source": [
    "offers_with_groups.head(2)"
   ]
  },
  {
   "cell_type": "markdown",
   "metadata": {},
   "source": [
    "<a href='#contents'>**Go to Table of Contents**</a>"
   ]
  },
  {
   "cell_type": "markdown",
   "metadata": {},
   "source": [
    "### <a id=\"ea13\">13. Is there any relationship between demographic variables and rate of completion?</a>"
   ]
  },
  {
   "cell_type": "markdown",
   "metadata": {},
   "source": [
    "###  Age"
   ]
  },
  {
   "cell_type": "code",
   "execution_count": 183,
   "metadata": {},
   "outputs": [
    {
     "data": {
      "image/png": "[encoded data removed]",
      "text/plain": [
       "<Figure size 1224x288 with 1 Axes>"
      ]
     },
     "metadata": {},
     "output_type": "display_data"
    }
   ],
   "source": [
    "plt.figure(figsize=(17, 4))\n",
    "sns.barplot(data=offers_with_groups, x='portfolio_id', y='success_completed', hue='age_group')\n",
    "plt.ylabel('Percentage of offers completed')\n",
    "plt.xlabel('Offer ID')\n",
    "plt.show()"
   ]
  },
  {
   "cell_type": "markdown",
   "metadata": {},
   "source": [
    "### Income"
   ]
  },
  {
   "cell_type": "code",
   "execution_count": 184,
   "metadata": {},
   "outputs": [
    {
     "data": {
      "image/png": "[encoded data removed]",
      "text/plain": [
       "<Figure size 1224x288 with 1 Axes>"
      ]
     },
     "metadata": {},
     "output_type": "display_data"
    }
   ],
   "source": [
    "plt.figure(figsize=(17, 4))\n",
    "sns.barplot(data=offers_with_groups, x='portfolio_id', y='success_completed', hue='income_group')\n",
    "plt.ylabel('Percentage of offers completed')\n",
    "plt.xlabel('Offer ID')\n",
    "plt.show()"
   ]
  },
  {
   "cell_type": "markdown",
   "metadata": {},
   "source": [
    "### Sign In Year"
   ]
  },
  {
   "cell_type": "code",
   "execution_count": 185,
   "metadata": {},
   "outputs": [
    {
     "data": {
      "image/png": "[encoded data removed]",
      "text/plain": [
       "<Figure size 1224x288 with 1 Axes>"
      ]
     },
     "metadata": {},
     "output_type": "display_data"
    }
   ],
   "source": [
    "plt.figure(figsize=(17, 4))\n",
    "sns.barplot(data=offers_with_groups, x='portfolio_id', y='success_completed', hue='became_member_on_year')\n",
    "plt.ylabel('Percentage of offers completed')\n",
    "plt.xlabel('Offer ID')\n",
    "plt.show()"
   ]
  },
  {
   "cell_type": "markdown",
   "metadata": {},
   "source": [
    "### Gender"
   ]
  },
  {
   "cell_type": "code",
   "execution_count": 186,
   "metadata": {
    "scrolled": true
   },
   "outputs": [
    {
     "data": {
      "image/png": "[encoded data removed]",
      "text/plain": [
       "<Figure size 1224x288 with 1 Axes>"
      ]
     },
     "metadata": {},
     "output_type": "display_data"
    }
   ],
   "source": [
    "plt.figure(figsize=(17, 4))\n",
    "sns.barplot(data=offers_with_groups, x='portfolio_id', y='success_completed', hue='gender')\n",
    "plt.ylabel('Percentage of offers completed')\n",
    "plt.xlabel('Offer ID')\n",
    "plt.show()"
   ]
  },
  {
   "cell_type": "markdown",
   "metadata": {},
   "source": [
    "It's clear the rate of **men is worse than the other and female**."
   ]
  },
  {
   "cell_type": "markdown",
   "metadata": {},
   "source": [
    "The sign in year, age and income doesn't show a lot in those graphics. "
   ]
  },
  {
   "cell_type": "markdown",
   "metadata": {},
   "source": [
    "<a href='#contents'>**Go to Table of Contents**</a>"
   ]
  },
  {
   "cell_type": "markdown",
   "metadata": {},
   "source": [
    "## <a id=\"ml\">VI: Build the ML model to predict offer success</a>"
   ]
  },
  {
   "cell_type": "markdown",
   "metadata": {},
   "source": [
    "### <a id=\"ml1\">1. Data Processing</a>"
   ]
  },
  {
   "cell_type": "code",
   "execution_count": 97,
   "metadata": {
    "scrolled": false
   },
   "outputs": [
    {
     "data": {
      "text/plain": [
       "Index(['event', 'time', 'amount', 'reward', 'offer_type', 'difficulty',\n",
       "       'duration', 'email', 'mobile', 'social', 'web', 'offer_type_bogo',\n",
       "       'offer_type_discount', 'offer_type_informational', 'portfolio_id',\n",
       "       'gender', 'age', 'became_member_on', 'income', 'gender_F', 'gender_M',\n",
       "       'gender_O', 'profile_id', 'became_member_on_year', 'days_as_member',\n",
       "       'expiration_time', 'time_viewed', 'time_completed', 'success_completed',\n",
       "       'success_viewed'],\n",
       "      dtype='object')"
      ]
     },
     "execution_count": 97,
     "metadata": {},
     "output_type": "execute_result"
    }
   ],
   "source": [
    "offers_sent.columns"
   ]
  },
  {
   "cell_type": "code",
   "execution_count": 98,
   "metadata": {},
   "outputs": [
    {
     "name": "stdout",
     "output_type": "stream",
     "text": [
      "Count of genders: \n",
      "M    38129\n",
      "F    27456\n",
      "O      916\n",
      "Name: gender, dtype: int64\n",
      "\n",
      "\n",
      "Percentage of genders: \n",
      "M    0.573360\n",
      "F    0.412866\n",
      "O    0.013774\n",
      "Name: gender, dtype: float64\n"
     ]
    }
   ],
   "source": [
    "print('Count of genders: \\n{}\\n\\n'.format(offers_sent.gender.value_counts()))\n",
    "print('Percentage of genders: \\n{}'.format(offers_sent.gender.value_counts(normalize=True)))"
   ]
  },
  {
   "cell_type": "markdown",
   "metadata": {},
   "source": [
    "The \"other\" genre represents a bit more than 1%. Based on that, for improving the model, **we will eliminate this variable as female too, keeping only the male (majority).**"
   ]
  },
  {
   "cell_type": "code",
   "execution_count": 99,
   "metadata": {},
   "outputs": [
    {
     "data": {
      "text/html": [
       "<div>\n",
       "<style scoped>\n",
       "    .dataframe tbody tr th:only-of-type {\n",
       "        vertical-align: middle;\n",
       "    }\n",
       "\n",
       "    .dataframe tbody tr th {\n",
       "        vertical-align: top;\n",
       "    }\n",
       "\n",
       "    .dataframe thead th {\n",
       "        text-align: right;\n",
       "    }\n",
       "</style>\n",
       "<table border=\"1\" class=\"dataframe\">\n",
       "  <thead>\n",
       "    <tr style=\"text-align: right;\">\n",
       "      <th></th>\n",
       "      <th>reward</th>\n",
       "      <th>difficulty</th>\n",
       "      <th>duration</th>\n",
       "      <th>email</th>\n",
       "      <th>mobile</th>\n",
       "      <th>social</th>\n",
       "      <th>web</th>\n",
       "      <th>offer_type_bogo</th>\n",
       "      <th>offer_type_discount</th>\n",
       "      <th>offer_type_informational</th>\n",
       "      <th>age</th>\n",
       "      <th>income</th>\n",
       "      <th>gender_M</th>\n",
       "      <th>days_as_member</th>\n",
       "      <th>success_completed</th>\n",
       "    </tr>\n",
       "  </thead>\n",
       "  <tbody>\n",
       "    <tr>\n",
       "      <th>0</th>\n",
       "      <td>0</td>\n",
       "      <td>5.0</td>\n",
       "      <td>7.0</td>\n",
       "      <td>1.0</td>\n",
       "      <td>1.0</td>\n",
       "      <td>0.0</td>\n",
       "      <td>1.0</td>\n",
       "      <td>1.0</td>\n",
       "      <td>0.0</td>\n",
       "      <td>0.0</td>\n",
       "      <td>75</td>\n",
       "      <td>100000.0</td>\n",
       "      <td>0</td>\n",
       "      <td>443</td>\n",
       "      <td>1</td>\n",
       "    </tr>\n",
       "    <tr>\n",
       "      <th>1</th>\n",
       "      <td>0</td>\n",
       "      <td>10.0</td>\n",
       "      <td>7.0</td>\n",
       "      <td>1.0</td>\n",
       "      <td>1.0</td>\n",
       "      <td>0.0</td>\n",
       "      <td>1.0</td>\n",
       "      <td>0.0</td>\n",
       "      <td>1.0</td>\n",
       "      <td>0.0</td>\n",
       "      <td>68</td>\n",
       "      <td>70000.0</td>\n",
       "      <td>1</td>\n",
       "      <td>91</td>\n",
       "      <td>0</td>\n",
       "    </tr>\n",
       "  </tbody>\n",
       "</table>\n",
       "</div>"
      ],
      "text/plain": [
       "   reward  difficulty  duration  email  mobile  social  web  offer_type_bogo  \\\n",
       "0       0         5.0       7.0    1.0     1.0     0.0  1.0              1.0   \n",
       "1       0        10.0       7.0    1.0     1.0     0.0  1.0              0.0   \n",
       "\n",
       "   offer_type_discount  offer_type_informational  age    income  gender_M  \\\n",
       "0                  0.0                       0.0   75  100000.0         0   \n",
       "1                  1.0                       0.0   68   70000.0         1   \n",
       "\n",
       "   days_as_member  success_completed  \n",
       "0             443                  1  \n",
       "1              91                  0  "
      ]
     },
     "execution_count": 99,
     "metadata": {},
     "output_type": "execute_result"
    }
   ],
   "source": [
    "final_offers_ml = offers_sent.drop(columns=['event', 'time','amount','offer_type','portfolio_id', 'became_member_on_year','expiration_time',\n",
    "       'time_viewed', 'time_completed','success_viewed','profile_id', 'gender', 'gender_F', 'gender_O', 'became_member_on'])\n",
    "\n",
    "final_offers_ml.head(2)"
   ]
  },
  {
   "cell_type": "code",
   "execution_count": 101,
   "metadata": {
    "scrolled": true
   },
   "outputs": [
    {
     "data": {
      "text/html": [
       "<div>\n",
       "<style scoped>\n",
       "    .dataframe tbody tr th:only-of-type {\n",
       "        vertical-align: middle;\n",
       "    }\n",
       "\n",
       "    .dataframe tbody tr th {\n",
       "        vertical-align: top;\n",
       "    }\n",
       "\n",
       "    .dataframe thead th {\n",
       "        text-align: right;\n",
       "    }\n",
       "</style>\n",
       "<table border=\"1\" class=\"dataframe\">\n",
       "  <thead>\n",
       "    <tr style=\"text-align: right;\">\n",
       "      <th></th>\n",
       "      <th>reward</th>\n",
       "      <th>difficulty</th>\n",
       "      <th>duration</th>\n",
       "      <th>email</th>\n",
       "      <th>mobile</th>\n",
       "      <th>social</th>\n",
       "      <th>web</th>\n",
       "      <th>offer_type_bogo</th>\n",
       "      <th>offer_type_discount</th>\n",
       "      <th>offer_type_informational</th>\n",
       "      <th>age</th>\n",
       "      <th>income</th>\n",
       "      <th>gender_M</th>\n",
       "      <th>days_as_member</th>\n",
       "      <th>success_completed</th>\n",
       "    </tr>\n",
       "  </thead>\n",
       "  <tbody>\n",
       "    <tr>\n",
       "      <th>0</th>\n",
       "      <td>0</td>\n",
       "      <td>5.0</td>\n",
       "      <td>7.0</td>\n",
       "      <td>1.0</td>\n",
       "      <td>1.0</td>\n",
       "      <td>0.0</td>\n",
       "      <td>1.0</td>\n",
       "      <td>1.0</td>\n",
       "      <td>0.0</td>\n",
       "      <td>0.0</td>\n",
       "      <td>75</td>\n",
       "      <td>100000.0</td>\n",
       "      <td>0</td>\n",
       "      <td>443</td>\n",
       "      <td>1</td>\n",
       "    </tr>\n",
       "    <tr>\n",
       "      <th>1</th>\n",
       "      <td>0</td>\n",
       "      <td>10.0</td>\n",
       "      <td>7.0</td>\n",
       "      <td>1.0</td>\n",
       "      <td>1.0</td>\n",
       "      <td>0.0</td>\n",
       "      <td>1.0</td>\n",
       "      <td>0.0</td>\n",
       "      <td>1.0</td>\n",
       "      <td>0.0</td>\n",
       "      <td>68</td>\n",
       "      <td>70000.0</td>\n",
       "      <td>1</td>\n",
       "      <td>91</td>\n",
       "      <td>0</td>\n",
       "    </tr>\n",
       "  </tbody>\n",
       "</table>\n",
       "</div>"
      ],
      "text/plain": [
       "   reward  difficulty  duration  email  mobile  social  web  offer_type_bogo  \\\n",
       "0       0         5.0       7.0    1.0     1.0     0.0  1.0              1.0   \n",
       "1       0        10.0       7.0    1.0     1.0     0.0  1.0              0.0   \n",
       "\n",
       "   offer_type_discount  offer_type_informational  age    income  gender_M  \\\n",
       "0                  0.0                       0.0   75  100000.0         0   \n",
       "1                  1.0                       0.0   68   70000.0         1   \n",
       "\n",
       "   days_as_member  success_completed  \n",
       "0             443                  1  \n",
       "1              91                  0  "
      ]
     },
     "execution_count": 101,
     "metadata": {},
     "output_type": "execute_result"
    }
   ],
   "source": [
    "final_offers_ml.head(2)"
   ]
  },
  {
   "cell_type": "code",
   "execution_count": 102,
   "metadata": {},
   "outputs": [
    {
     "data": {
      "text/plain": [
       "((66501, 14), (66501,))"
      ]
     },
     "execution_count": 102,
     "metadata": {},
     "output_type": "execute_result"
    }
   ],
   "source": [
    "X = final_offers_ml.drop(['success_completed'], axis=1)\n",
    "y = final_offers_ml['success_completed']\n",
    "\n",
    "X.shape, y.shape"
   ]
  },
  {
   "cell_type": "code",
   "execution_count": 103,
   "metadata": {},
   "outputs": [
    {
     "data": {
      "text/plain": [
       "((53200, 14), (13301, 14), (53200,), (13301,))"
      ]
     },
     "execution_count": 103,
     "metadata": {},
     "output_type": "execute_result"
    }
   ],
   "source": [
    "from sklearn.model_selection import train_test_split\n",
    "\n",
    "# Split data into testing and training data\n",
    "X_train, X_test, y_train, y_test = train_test_split(X, y, test_size=0.2)\n",
    "\n",
    "# Check size\n",
    "X_train.shape, X_test.shape, y_train.shape, y_test.shape"
   ]
  },
  {
   "cell_type": "markdown",
   "metadata": {},
   "source": [
    "<a href='#contents'>**Go to Table of Contents**</a>"
   ]
  },
  {
   "cell_type": "markdown",
   "metadata": {},
   "source": [
    "### <a id=\"ml2\">2. Modellings</a>"
   ]
  },
  {
   "cell_type": "code",
   "execution_count": 104,
   "metadata": {},
   "outputs": [],
   "source": [
    "from sklearn.preprocessing import StandardScaler\n",
    "from sklearn.pipeline import Pipeline\n",
    "from sklearn.model_selection import GridSearchCV\n",
    "from sklearn.metrics import accuracy_score\n",
    "from sklearn.metrics import classification_report\n",
    "from sklearn.ensemble import GradientBoostingClassifier\n",
    "from sklearn.linear_model import LogisticRegression\n",
    "from sklearn.neighbors import KNeighborsClassifier\n",
    "from sklearn.tree import DecisionTreeClassifier\n",
    "from sklearn.svm import SVC\n",
    "from sklearn.naive_bayes import GaussianNB\n",
    "from sklearn.ensemble import RandomForestClassifier\n",
    "import pickle"
   ]
  },
  {
   "cell_type": "code",
   "execution_count": 105,
   "metadata": {},
   "outputs": [],
   "source": [
    "models = [\n",
    "    \n",
    "          {'name': 'svc',\n",
    "           'clf' : SVC(),\n",
    "           'params' : {'clf__C' : [1.0],\n",
    "                       'clf__gamma': [1.0]\n",
    "                      }\n",
    "          },\n",
    "    \n",
    "          {'name': 'naive_bayes',\n",
    "           'clf' : GaussianNB(),\n",
    "           'params' : {'clf__var_smoothing' : [1e-8, 1e-9, 1e-10]\n",
    "                      }\n",
    "          },\n",
    "    \n",
    "          {'name': 'random_forest',\n",
    "           'clf' : RandomForestClassifier(),\n",
    "           'params' : {'clf__criterion' : ['gini', 'entropy'],\n",
    "                       'clf__n_estimators' : [50, 100],\n",
    "                       'clf__max_depth' : [6, 10, None],\n",
    "                       'clf__min_samples_split' : [2, 4, 20, 100],\n",
    "                       'clf__max_samples': [0.4, 0.6, 0.8, None]\n",
    "                      }\n",
    "          }    ,\n",
    "\n",
    "           {'name': 'gradient_boosting',\n",
    "           'clf' : GradientBoostingClassifier(),\n",
    "           'params' : {'clf__loss' : ['deviance', 'exponential'],\n",
    "                       'clf__n_estimators' : [50, 100, 200],\n",
    "                       'clf__min_samples_split' : [2, 4, 6]\n",
    "                      }\n",
    "           },\n",
    "    \n",
    "          {'name': 'logistic_regression',\n",
    "           'clf' : LogisticRegression(),\n",
    "           'params' : {'clf__C' : [0.01, 0.1, 1.0, 2.0],\n",
    "                       'clf__solver' : ['liblinear', 'lbfgs', 'saga', 'newton-cg']\n",
    "                      }\n",
    "          },\n",
    "\n",
    "          {'name': 'knn',\n",
    "           'clf' : KNeighborsClassifier(),\n",
    "           'params' : {'clf__n_neighbors' : [3, 5, 7, 10, 20],\n",
    "                       'clf__weights' : ['uniform', 'distance'],\n",
    "                       'clf__algorithm' : ['auto', 'ball_tree', 'kd_tree']\n",
    "                      }\n",
    "          },\n",
    "\n",
    "         {'name': 'decision_tree',\n",
    "           'clf' : DecisionTreeClassifier(),\n",
    "           'params' : {'clf__criterion' : ['gini', 'entropy'],\n",
    "                       'clf__splitter' : ['best', 'random'],\n",
    "                       'clf__max_depth' : [None, 10],\n",
    "                       'clf__min_samples_split' : [2, 4],\n",
    "                       'clf__max_features': [0.25, 0.5, 0.75, None],\n",
    "                      }\n",
    "          },\n",
    "\n",
    "\n",
    "]"
   ]
  },
  {
   "cell_type": "markdown",
   "metadata": {},
   "source": [
    "Here we declared **all models** and parameters will be tested."
   ]
  },
  {
   "cell_type": "markdown",
   "metadata": {},
   "source": [
    "<a href='#contents'>**Go to Table of Contents**</a>"
   ]
  },
  {
   "cell_type": "markdown",
   "metadata": {},
   "source": [
    "### <a id=\"ml3\">3. Building the model of ML: pipeline and gridsearch</a>"
   ]
  },
  {
   "cell_type": "code",
   "execution_count": 106,
   "metadata": {},
   "outputs": [],
   "source": [
    "def build_model(model_dict):\n",
    "    \"\"\"\n",
    "    Responsable for building the model of machine learning. We have here the pipeline and the variables that will be tested\n",
    "    in de gridsearch\n",
    "    \n",
    "    INPUT: None\n",
    "    OUTPUT: model of machine learning\n",
    "    \"\"\"\n",
    "        \n",
    "    pipeline = Pipeline([\n",
    "        ('scaler', StandardScaler()),\n",
    "        ('clf', model_dict['clf'])\n",
    "    ])    \n",
    "\n",
    "    model = GridSearchCV(pipeline, param_grid=model_dict['params'])\n",
    "    return model"
   ]
  },
  {
   "cell_type": "markdown",
   "metadata": {},
   "source": [
    "We choose the **Standard Scaler** to normalize the data."
   ]
  },
  {
   "cell_type": "markdown",
   "metadata": {},
   "source": [
    "<a href='#contents'>**Go to Table of Contents**</a>"
   ]
  },
  {
   "cell_type": "markdown",
   "metadata": {},
   "source": [
    "### <a id=\"ml4\">4. Evaluating the model</a>"
   ]
  },
  {
   "cell_type": "code",
   "execution_count": 107,
   "metadata": {},
   "outputs": [],
   "source": [
    "def evaluate_model(model, X_test, Y_test, model_dict,evaluate_metrics):\n",
    "    \"\"\"\n",
    "    Responsable for evaluating the model, with the function of classification_report of skitlearn\n",
    "    \n",
    "    INPUT: model(gridsearch), X_test, Y_test and categories names\n",
    "    OUTPUT: None\n",
    "    \"\"\"\n",
    "    \n",
    "    predicted = model.predict(X_test)\n",
    "    \n",
    "    report = classification_report(Y_test, predicted, output_dict=True)\n",
    "    report['best_params'] = model.best_params_\n",
    "    report['name_model'] = model_dict['name'].replace('_', ' ').title()\n",
    "    evaluate_metrics.append(report)\n",
    "    print(classification_report(Y_test, predicted))"
   ]
  },
  {
   "cell_type": "markdown",
   "metadata": {},
   "source": [
    "<a href='#contents'>**Go to Table of Contents**</a>"
   ]
  },
  {
   "cell_type": "markdown",
   "metadata": {},
   "source": [
    "### <a id=\"ml5\">5. Saving the model</a>"
   ]
  },
  {
   "cell_type": "code",
   "execution_count": 108,
   "metadata": {},
   "outputs": [],
   "source": [
    "def save_model(model, model_dict):\n",
    "    \"\"\"\n",
    "    Saves the model\n",
    "    \n",
    "    INPUT: model and model_filepath\n",
    "    OUTPUT: None\n",
    "    \"\"\"\n",
    " \n",
    "    filename = f'models/{model_dict[\"name\"]}.pkl'\n",
    "    pickle.dump(model, open(filename, 'wb'))"
   ]
  },
  {
   "cell_type": "markdown",
   "metadata": {},
   "source": [
    "<a href='#contents'>**Go to Table of Contents**</a>"
   ]
  },
  {
   "cell_type": "markdown",
   "metadata": {},
   "source": [
    "### <a id=\"ml6\">6. Running all models</a>"
   ]
  },
  {
   "cell_type": "code",
   "execution_count": 109,
   "metadata": {
    "scrolled": true
   },
   "outputs": [
    {
     "name": "stdout",
     "output_type": "stream",
     "text": [
      "------------- Svc -------------\n",
      "Building model...\n",
      "Training model...\n",
      "Evaluating model...\n",
      "              precision    recall  f1-score   support\n",
      "\n",
      "           0       0.70      0.82      0.75      7852\n",
      "           1       0.65      0.50      0.57      5449\n",
      "\n",
      "    accuracy                           0.69     13301\n",
      "   macro avg       0.68      0.66      0.66     13301\n",
      "weighted avg       0.68      0.69      0.68     13301\n",
      "\n",
      "Saving model...\n",
      "Trained model saved!\n",
      "\n",
      "\n",
      "\n",
      "------------- Naive Bayes -------------\n",
      "Building model...\n",
      "Training model...\n",
      "Evaluating model...\n",
      "              precision    recall  f1-score   support\n",
      "\n",
      "           0       0.73      0.52      0.60      7864\n",
      "           1       0.51      0.72      0.59      5437\n",
      "\n",
      "    accuracy                           0.60     13301\n",
      "   macro avg       0.62      0.62      0.60     13301\n",
      "weighted avg       0.64      0.60      0.60     13301\n",
      "\n",
      "Saving model...\n",
      "Trained model saved!\n",
      "\n",
      "\n",
      "\n",
      "------------- Random Forest -------------\n",
      "Building model...\n",
      "Training model...\n",
      "Evaluating model...\n",
      "              precision    recall  f1-score   support\n",
      "\n",
      "           0       0.72      0.82      0.77      7911\n",
      "           1       0.67      0.52      0.59      5390\n",
      "\n",
      "    accuracy                           0.70     13301\n",
      "   macro avg       0.69      0.67      0.68     13301\n",
      "weighted avg       0.70      0.70      0.69     13301\n",
      "\n",
      "Saving model...\n",
      "Trained model saved!\n",
      "\n",
      "\n",
      "\n",
      "------------- Gradient Boosting -------------\n",
      "Building model...\n",
      "Training model...\n",
      "Evaluating model...\n",
      "              precision    recall  f1-score   support\n",
      "\n",
      "           0       0.71      0.83      0.76      7807\n",
      "           1       0.68      0.52      0.59      5494\n",
      "\n",
      "    accuracy                           0.70     13301\n",
      "   macro avg       0.69      0.67      0.68     13301\n",
      "weighted avg       0.70      0.70      0.69     13301\n",
      "\n",
      "Saving model...\n",
      "Trained model saved!\n",
      "\n",
      "\n",
      "\n",
      "------------- Logistic Regression -------------\n",
      "Building model...\n",
      "Training model...\n",
      "Evaluating model...\n",
      "              precision    recall  f1-score   support\n",
      "\n",
      "           0       0.69      0.80      0.74      7902\n",
      "           1       0.61      0.46      0.53      5399\n",
      "\n",
      "    accuracy                           0.66     13301\n",
      "   macro avg       0.65      0.63      0.63     13301\n",
      "weighted avg       0.66      0.66      0.65     13301\n",
      "\n",
      "Saving model...\n",
      "Trained model saved!\n",
      "\n",
      "\n",
      "\n",
      "------------- Knn -------------\n",
      "Building model...\n",
      "Training model...\n",
      "Evaluating model...\n",
      "              precision    recall  f1-score   support\n",
      "\n",
      "           0       0.69      0.81      0.75      7837\n",
      "           1       0.64      0.48      0.55      5464\n",
      "\n",
      "    accuracy                           0.68     13301\n",
      "   macro avg       0.67      0.65      0.65     13301\n",
      "weighted avg       0.67      0.68      0.67     13301\n",
      "\n",
      "Saving model...\n",
      "Trained model saved!\n",
      "\n",
      "\n",
      "\n",
      "------------- Decision Tree -------------\n",
      "Building model...\n",
      "Training model...\n",
      "Evaluating model...\n",
      "              precision    recall  f1-score   support\n",
      "\n",
      "           0       0.71      0.81      0.76      7972\n",
      "           1       0.64      0.51      0.56      5329\n",
      "\n",
      "    accuracy                           0.69     13301\n",
      "   macro avg       0.67      0.66      0.66     13301\n",
      "weighted avg       0.68      0.69      0.68     13301\n",
      "\n",
      "Saving model...\n",
      "Trained model saved!\n",
      "\n",
      "\n",
      "\n"
     ]
    }
   ],
   "source": [
    "def main():\n",
    "    \"\"\"\n",
    "    Run all functions above in a organized way\n",
    "    \"\"\"  \n",
    "    \n",
    "    evaluate_metrics = []\n",
    "    for model_dict in models:\n",
    "        X_train, X_test, Y_train, Y_test = train_test_split(X, y, test_size=0.2)\n",
    "        \n",
    "        print('------------- {} -------------'.format(model_dict['name'].replace('_', ' ').title()))\n",
    "        print('Building model...')\n",
    "        model = build_model(model_dict)\n",
    "        \n",
    "        print('Training model...')\n",
    "        model.fit(X_train, Y_train) \n",
    "        \n",
    "        print('Evaluating model...')\n",
    "        evaluate_model(model, X_test, Y_test, model_dict,evaluate_metrics)\n",
    "\n",
    "        print('Saving model...')\n",
    "        save_model(model, model_dict)\n",
    "\n",
    "        print('Trained model saved!')\n",
    "        print('\\n\\n')\n",
    "    \n",
    "    df_evaluate_metrics = pd.DataFrame(evaluate_metrics)[['accuracy', 'name_model', 'best_params']]\n",
    "    \n",
    "    return df_evaluate_metrics\n",
    "\n",
    "df_evaluate_metrics = main()"
   ]
  },
  {
   "cell_type": "markdown",
   "metadata": {},
   "source": [
    "After running all models declared before, **Random Forest shows the best accuracy and the others metrics are very similar**. So, let's use it to deploy the ML model."
   ]
  },
  {
   "cell_type": "markdown",
   "metadata": {},
   "source": [
    "<a href='#contents'>**Go to Table of Contents**</a>"
   ]
  },
  {
   "cell_type": "markdown",
   "metadata": {},
   "source": [
    "### <a id=\"ml7\">7. Choosing the model</a>"
   ]
  },
  {
   "cell_type": "code",
   "execution_count": 179,
   "metadata": {},
   "outputs": [
    {
     "data": {
      "image/png": "[encoded data removed]",
      "text/plain": [
       "<Figure size 576x396 with 1 Axes>"
      ]
     },
     "metadata": {},
     "output_type": "display_data"
    }
   ],
   "source": [
    "sns.barplot(data=df_evaluate_metrics.sort_values(by = 'accuracy', ascending= False), x='accuracy', y='name_model', orient='h')\n",
    "plt.xlabel('Accuracy Score')\n",
    "plt.ylabel('Model')\n",
    "plt.title('Comparison of Accuracy Score of Classifier Algorithms', fontsize=13, weight='bold');"
   ]
  },
  {
   "cell_type": "code",
   "execution_count": 111,
   "metadata": {},
   "outputs": [
    {
     "data": {
      "text/html": [
       "<div>\n",
       "<style scoped>\n",
       "    .dataframe tbody tr th:only-of-type {\n",
       "        vertical-align: middle;\n",
       "    }\n",
       "\n",
       "    .dataframe tbody tr th {\n",
       "        vertical-align: top;\n",
       "    }\n",
       "\n",
       "    .dataframe thead th {\n",
       "        text-align: right;\n",
       "    }\n",
       "</style>\n",
       "<table border=\"1\" class=\"dataframe\">\n",
       "  <thead>\n",
       "    <tr style=\"text-align: right;\">\n",
       "      <th></th>\n",
       "      <th>accuracy</th>\n",
       "      <th>name_model</th>\n",
       "      <th>best_params</th>\n",
       "    </tr>\n",
       "  </thead>\n",
       "  <tbody>\n",
       "    <tr>\n",
       "      <th>2</th>\n",
       "      <td>0.700624</td>\n",
       "      <td>Random Forest</td>\n",
       "      <td>{'clf__criterion': 'gini', 'clf__max_depth': 1...</td>\n",
       "    </tr>\n",
       "    <tr>\n",
       "      <th>3</th>\n",
       "      <td>0.699647</td>\n",
       "      <td>Gradient Boosting</td>\n",
       "      <td>{'clf__loss': 'deviance', 'clf__min_samples_sp...</td>\n",
       "    </tr>\n",
       "    <tr>\n",
       "      <th>6</th>\n",
       "      <td>0.687016</td>\n",
       "      <td>Decision Tree</td>\n",
       "      <td>{'clf__criterion': 'gini', 'clf__max_depth': 1...</td>\n",
       "    </tr>\n",
       "    <tr>\n",
       "      <th>0</th>\n",
       "      <td>0.686790</td>\n",
       "      <td>Svc</td>\n",
       "      <td>{'clf__C': 1.0, 'clf__gamma': 1.0}</td>\n",
       "    </tr>\n",
       "    <tr>\n",
       "      <th>5</th>\n",
       "      <td>0.675363</td>\n",
       "      <td>Knn</td>\n",
       "      <td>{'clf__algorithm': 'auto', 'clf__n_neighbors':...</td>\n",
       "    </tr>\n",
       "    <tr>\n",
       "      <th>4</th>\n",
       "      <td>0.664010</td>\n",
       "      <td>Logistic Regression</td>\n",
       "      <td>{'clf__C': 0.01, 'clf__solver': 'lbfgs'}</td>\n",
       "    </tr>\n",
       "    <tr>\n",
       "      <th>1</th>\n",
       "      <td>0.598677</td>\n",
       "      <td>Naive Bayes</td>\n",
       "      <td>{'clf__var_smoothing': 1e-08}</td>\n",
       "    </tr>\n",
       "  </tbody>\n",
       "</table>\n",
       "</div>"
      ],
      "text/plain": [
       "   accuracy           name_model  \\\n",
       "2  0.700624        Random Forest   \n",
       "3  0.699647    Gradient Boosting   \n",
       "6  0.687016        Decision Tree   \n",
       "0  0.686790                  Svc   \n",
       "5  0.675363                  Knn   \n",
       "4  0.664010  Logistic Regression   \n",
       "1  0.598677          Naive Bayes   \n",
       "\n",
       "                                         best_params  \n",
       "2  {'clf__criterion': 'gini', 'clf__max_depth': 1...  \n",
       "3  {'clf__loss': 'deviance', 'clf__min_samples_sp...  \n",
       "6  {'clf__criterion': 'gini', 'clf__max_depth': 1...  \n",
       "0                 {'clf__C': 1.0, 'clf__gamma': 1.0}  \n",
       "5  {'clf__algorithm': 'auto', 'clf__n_neighbors':...  \n",
       "4           {'clf__C': 0.01, 'clf__solver': 'lbfgs'}  \n",
       "1                      {'clf__var_smoothing': 1e-08}  "
      ]
     },
     "execution_count": 111,
     "metadata": {},
     "output_type": "execute_result"
    }
   ],
   "source": [
    "df_evaluate_metrics.sort_values(by = 'accuracy', ascending= False)"
   ]
  },
  {
   "cell_type": "code",
   "execution_count": 144,
   "metadata": {},
   "outputs": [],
   "source": [
    "# Load trained gradient boosting classifier\n",
    "filepath = 'models/random_forest.pkl'\n",
    "with open(filepath, 'rb') as file:\n",
    "    clf = pickle.load(file)"
   ]
  },
  {
   "cell_type": "markdown",
   "metadata": {},
   "source": [
    "<a href='#contents'>**Go to Table of Contents**</a>"
   ]
  },
  {
   "cell_type": "markdown",
   "metadata": {},
   "source": [
    "### <a id=\"ml8\">8. Feature Importance</a>"
   ]
  },
  {
   "cell_type": "code",
   "execution_count": 145,
   "metadata": {},
   "outputs": [],
   "source": [
    "from sklearn.inspection import permutation_importance\n",
    "\n",
    "# feature of weights\n",
    "result = permutation_importance(clf, X_train, y_train, n_repeats=10)\n",
    "feature_weights = pd.Series(result.importances_mean, index=[ i.replace('_', ' ').title() for i in X.columns]\n",
    "                           ).sort_values(ascending=False)"
   ]
  },
  {
   "cell_type": "code",
   "execution_count": 146,
   "metadata": {
    "scrolled": true
   },
   "outputs": [
    {
     "data": {
      "image/png": "[encoded data removed]",
      "text/plain": [
       "<Figure size 576x396 with 1 Axes>"
      ]
     },
     "metadata": {},
     "output_type": "display_data"
    }
   ],
   "source": [
    "# Display feature importance\n",
    "sns.barplot(x=feature_weights, y=feature_weights.index)\n",
    "plt.title('Feature Importance', fontsize=13, weight='bold')\n",
    "plt.xlabel('Importance in numbers')\n",
    "plt.ylabel('Feature');"
   ]
  },
  {
   "cell_type": "code",
   "execution_count": 147,
   "metadata": {},
   "outputs": [
    {
     "data": {
      "text/plain": [
       "Days As Member              0.075555\n",
       "Social                      0.048180\n",
       "Income                      0.030421\n",
       "Age                         0.014391\n",
       "Gender M                    0.010910\n",
       "Offer Type Discount         0.009991\n",
       "Difficulty                  0.008058\n",
       "Duration                    0.007453\n",
       "Offer Type Bogo             0.002782\n",
       "Offer Type Informational    0.002218\n",
       "Web                         0.002173\n",
       "Mobile                      0.001432\n",
       "Reward                      0.000000\n",
       "Email                       0.000000\n",
       "dtype: float64"
      ]
     },
     "execution_count": 147,
     "metadata": {},
     "output_type": "execute_result"
    }
   ],
   "source": [
    "feature_weights"
   ]
  },
  {
   "cell_type": "markdown",
   "metadata": {},
   "source": [
    "<a href='#contents'>**Go to Table of Contents**</a>"
   ]
  },
  {
   "cell_type": "markdown",
   "metadata": {},
   "source": [
    "### <a id=\"ml9\">9. Probability Offer Success</a>"
   ]
  },
  {
   "cell_type": "code",
   "execution_count": 148,
   "metadata": {},
   "outputs": [],
   "source": [
    "def predict_success_probabilities(user_id, clf=clf, portfolio=portfolio, profile=profile):\n",
    "    '''\n",
    "    Predicts success probabilities for all offers types of a user_id.\n",
    "    \n",
    "    INPUT:\n",
    "    user_id (str) : USER ID of a customer created in data processing\n",
    "    clf (trained classifier) : classification model \n",
    "    portfolio (data frame) : containing offer ids and meta data about each offer (duration, type, etc.)\n",
    "    profile (data frame) : demographic data for each customer\n",
    "    \n",
    "    OUTPUT:\n",
    "    probability_of_success (list) : list of success probabilities\n",
    "    '''\n",
    "    \n",
    "    probability_of_success = []\n",
    "\n",
    "    # Get profile features\n",
    "    profile_filtered = profile[profile.profile_id == user_id].drop(columns=['gender', 'profile_id', 'id', 'became_member_on'\n",
    "                                                            ,'gender_F', 'gender_O', 'age_group', 'became_member_on_year'\n",
    "                                                            ,'income_group']).squeeze()\n",
    "    \n",
    "    # loop for each offer type\n",
    "    for row in portfolio.drop(columns=['portfolio_id', 'offer_type', 'id']).iterrows():\n",
    "        try:\n",
    "            # Get portfolio features\n",
    "            offer_data = list(row)[1]\n",
    "            \n",
    "            # Union of profile and offer features\n",
    "            X = offer_data.append(profile_filtered)\n",
    "            X = np.array(X).reshape(1, -1)\n",
    "            \n",
    "            # Predicts the proability of succesful\n",
    "            probability_of_success.append(clf.predict_proba(X)[0][1])\n",
    "        except:\n",
    "            probability_of_success.append(np.nan)\n",
    "    \n",
    "    return probability_of_success"
   ]
  },
  {
   "cell_type": "code",
   "execution_count": 155,
   "metadata": {},
   "outputs": [],
   "source": [
    "def get_users_probs(users, portfolio=portfolio):\n",
    "    '''\n",
    "    Builds a data frame with the success probabilities for all offers. \n",
    "    The columns are the offers_ids and the rows are the users_ids.\n",
    "    \n",
    "    INPUT:\n",
    "    users (list) : list of customer IDs\n",
    "    portfolio (data frame) : containing offer ids and meta data about each offer (duration, type, etc.)\n",
    "    \n",
    "    OUTPUT:\n",
    "    df_probability_of_success (data frame) : data frame with the success probabilities\n",
    "    '''\n",
    "    \n",
    "    # Get probabilites of a user list\n",
    "    data_probs = list(pd.Series(users).apply(predict_success_probabilities))\n",
    "    \n",
    "    # Create data frame with offer_ids as columns and customer_ids as rows\n",
    "    df_probability_of_success = pd.DataFrame(data_probs, columns=portfolio.portfolio_id, index=users)\n",
    "    \n",
    "    return df_probability_of_success"
   ]
  },
  {
   "cell_type": "code",
   "execution_count": 178,
   "metadata": {},
   "outputs": [
    {
     "data": {
      "text/html": [
       "<div>\n",
       "<style scoped>\n",
       "    .dataframe tbody tr th:only-of-type {\n",
       "        vertical-align: middle;\n",
       "    }\n",
       "\n",
       "    .dataframe tbody tr th {\n",
       "        vertical-align: top;\n",
       "    }\n",
       "\n",
       "    .dataframe thead th {\n",
       "        text-align: right;\n",
       "    }\n",
       "</style>\n",
       "<table border=\"1\" class=\"dataframe\">\n",
       "  <thead>\n",
       "    <tr style=\"text-align: right;\">\n",
       "      <th>portfolio_id</th>\n",
       "      <th>1</th>\n",
       "      <th>2</th>\n",
       "      <th>3</th>\n",
       "      <th>4</th>\n",
       "      <th>5</th>\n",
       "      <th>6</th>\n",
       "      <th>7</th>\n",
       "      <th>8</th>\n",
       "      <th>9</th>\n",
       "      <th>10</th>\n",
       "    </tr>\n",
       "  </thead>\n",
       "  <tbody>\n",
       "    <tr>\n",
       "      <th>148</th>\n",
       "      <td>0.314811</td>\n",
       "      <td>0.322556</td>\n",
       "      <td>0.224381</td>\n",
       "      <td>0.261064</td>\n",
       "      <td>0.198462</td>\n",
       "      <td>0.503741</td>\n",
       "      <td>0.530033</td>\n",
       "      <td>0.434842</td>\n",
       "      <td>0.376442</td>\n",
       "      <td>0.277157</td>\n",
       "    </tr>\n",
       "    <tr>\n",
       "      <th>12909</th>\n",
       "      <td>0.204470</td>\n",
       "      <td>0.176088</td>\n",
       "      <td>0.106227</td>\n",
       "      <td>0.145044</td>\n",
       "      <td>0.105216</td>\n",
       "      <td>0.393819</td>\n",
       "      <td>0.365718</td>\n",
       "      <td>0.479570</td>\n",
       "      <td>0.271564</td>\n",
       "      <td>0.142636</td>\n",
       "    </tr>\n",
       "    <tr>\n",
       "      <th>7967</th>\n",
       "      <td>0.211285</td>\n",
       "      <td>0.165277</td>\n",
       "      <td>0.117426</td>\n",
       "      <td>0.164564</td>\n",
       "      <td>0.090073</td>\n",
       "      <td>0.372075</td>\n",
       "      <td>0.359971</td>\n",
       "      <td>0.384568</td>\n",
       "      <td>0.262137</td>\n",
       "      <td>0.088236</td>\n",
       "    </tr>\n",
       "    <tr>\n",
       "      <th>10228</th>\n",
       "      <td>0.257468</td>\n",
       "      <td>0.252514</td>\n",
       "      <td>0.197406</td>\n",
       "      <td>0.221748</td>\n",
       "      <td>0.115594</td>\n",
       "      <td>0.419057</td>\n",
       "      <td>0.487929</td>\n",
       "      <td>0.408466</td>\n",
       "      <td>0.339400</td>\n",
       "      <td>0.278620</td>\n",
       "    </tr>\n",
       "    <tr>\n",
       "      <th>7868</th>\n",
       "      <td>0.579600</td>\n",
       "      <td>0.675472</td>\n",
       "      <td>0.365435</td>\n",
       "      <td>0.477805</td>\n",
       "      <td>0.316876</td>\n",
       "      <td>0.766956</td>\n",
       "      <td>0.835847</td>\n",
       "      <td>0.374724</td>\n",
       "      <td>0.718845</td>\n",
       "      <td>0.496876</td>\n",
       "    </tr>\n",
       "    <tr>\n",
       "      <th>1994</th>\n",
       "      <td>0.336181</td>\n",
       "      <td>0.359269</td>\n",
       "      <td>0.213718</td>\n",
       "      <td>0.269279</td>\n",
       "      <td>0.180493</td>\n",
       "      <td>0.503718</td>\n",
       "      <td>0.560449</td>\n",
       "      <td>0.395571</td>\n",
       "      <td>0.404916</td>\n",
       "      <td>0.264260</td>\n",
       "    </tr>\n",
       "    <tr>\n",
       "      <th>6833</th>\n",
       "      <td>0.583235</td>\n",
       "      <td>0.666509</td>\n",
       "      <td>0.435484</td>\n",
       "      <td>0.494760</td>\n",
       "      <td>0.366804</td>\n",
       "      <td>0.795242</td>\n",
       "      <td>0.840960</td>\n",
       "      <td>0.369164</td>\n",
       "      <td>0.700600</td>\n",
       "      <td>0.503260</td>\n",
       "    </tr>\n",
       "    <tr>\n",
       "      <th>11983</th>\n",
       "      <td>0.536171</td>\n",
       "      <td>0.554606</td>\n",
       "      <td>0.362241</td>\n",
       "      <td>0.466240</td>\n",
       "      <td>0.326987</td>\n",
       "      <td>0.777540</td>\n",
       "      <td>0.838552</td>\n",
       "      <td>0.571370</td>\n",
       "      <td>0.667796</td>\n",
       "      <td>0.515020</td>\n",
       "    </tr>\n",
       "    <tr>\n",
       "      <th>8335</th>\n",
       "      <td>0.529234</td>\n",
       "      <td>0.575224</td>\n",
       "      <td>0.383240</td>\n",
       "      <td>0.453962</td>\n",
       "      <td>0.331754</td>\n",
       "      <td>0.778316</td>\n",
       "      <td>0.861736</td>\n",
       "      <td>0.611494</td>\n",
       "      <td>0.674122</td>\n",
       "      <td>0.476351</td>\n",
       "    </tr>\n",
       "    <tr>\n",
       "      <th>11679</th>\n",
       "      <td>0.545986</td>\n",
       "      <td>0.624894</td>\n",
       "      <td>0.368664</td>\n",
       "      <td>0.474557</td>\n",
       "      <td>0.350903</td>\n",
       "      <td>0.815976</td>\n",
       "      <td>0.838489</td>\n",
       "      <td>0.413179</td>\n",
       "      <td>0.682209</td>\n",
       "      <td>0.512408</td>\n",
       "    </tr>\n",
       "  </tbody>\n",
       "</table>\n",
       "</div>"
      ],
      "text/plain": [
       "portfolio_id        1         2         3         4         5         6   \\\n",
       "148           0.314811  0.322556  0.224381  0.261064  0.198462  0.503741   \n",
       "12909         0.204470  0.176088  0.106227  0.145044  0.105216  0.393819   \n",
       "7967          0.211285  0.165277  0.117426  0.164564  0.090073  0.372075   \n",
       "10228         0.257468  0.252514  0.197406  0.221748  0.115594  0.419057   \n",
       "7868          0.579600  0.675472  0.365435  0.477805  0.316876  0.766956   \n",
       "1994          0.336181  0.359269  0.213718  0.269279  0.180493  0.503718   \n",
       "6833          0.583235  0.666509  0.435484  0.494760  0.366804  0.795242   \n",
       "11983         0.536171  0.554606  0.362241  0.466240  0.326987  0.777540   \n",
       "8335          0.529234  0.575224  0.383240  0.453962  0.331754  0.778316   \n",
       "11679         0.545986  0.624894  0.368664  0.474557  0.350903  0.815976   \n",
       "\n",
       "portfolio_id        7         8         9         10  \n",
       "148           0.530033  0.434842  0.376442  0.277157  \n",
       "12909         0.365718  0.479570  0.271564  0.142636  \n",
       "7967          0.359971  0.384568  0.262137  0.088236  \n",
       "10228         0.487929  0.408466  0.339400  0.278620  \n",
       "7868          0.835847  0.374724  0.718845  0.496876  \n",
       "1994          0.560449  0.395571  0.404916  0.264260  \n",
       "6833          0.840960  0.369164  0.700600  0.503260  \n",
       "11983         0.838552  0.571370  0.667796  0.515020  \n",
       "8335          0.861736  0.611494  0.674122  0.476351  \n",
       "11679         0.838489  0.413179  0.682209  0.512408  "
      ]
     },
     "execution_count": 178,
     "metadata": {},
     "output_type": "execute_result"
    }
   ],
   "source": [
    "from random import randint, sample\n",
    "last_user = profile.profile_id.max()\n",
    "users = sample(range(1, last_user+1), 10) # creates a list of 10 numbers between the last and first user\n",
    "get_users_probs(users)"
   ]
  },
  {
   "cell_type": "markdown",
   "metadata": {},
   "source": [
    "<a href='#contents'>**Go to Table of Contents**</a>"
   ]
  },
  {
   "cell_type": "markdown",
   "metadata": {},
   "source": [
    "## <a id=\"summ\">VII: Conclusion</a>"
   ]
  },
  {
   "cell_type": "markdown",
   "metadata": {},
   "source": [
    "In this notebook, we can build a **model of probability of an offer having success**, with accuracy of 70% with Random Forest.\n",
    "\n",
    "Predicting the probability of an offer is a case that could be applied in all companies to increase their sales.\n",
    "\n",
    "So, this model could be tested with a **test A/B.** So, half of the users might have a metric about under 40% of success, we don't send, and without any rule, just sending as it seems today.\n",
    "\n",
    "Based on that, the ratings with a low value, otherwise, the customer have a low chance to accepted the coupon, the company wouldn't send. **Because the chance is low, and maybe they ignore other promotions because they are denied notifications of promotions that don't interest them.**\n",
    "\n",
    "Talking about feature importance, **\"days as member\", \"social\" and \"income\"** are the most important for the model."
   ]
  },
  {
   "cell_type": "markdown",
   "metadata": {},
   "source": [
    "<a href='#contents'>**Go to Table of Contents**</a>"
   ]
  }
 ],
 "metadata": {
  "kernelspec": {
   "display_name": "venv_starbucks",
   "language": "python",
   "name": "venv_starbucks"
  },
  "language_info": {
   "codemirror_mode": {
    "name": "ipython",
    "version": 3
   },
   "file_extension": ".py",
   "mimetype": "text/x-python",
   "name": "python",
   "nbconvert_exporter": "python",
   "pygments_lexer": "ipython3",
   "version": "3.9.4"
  }
 },
 "nbformat": 4,
 "nbformat_minor": 2
}
